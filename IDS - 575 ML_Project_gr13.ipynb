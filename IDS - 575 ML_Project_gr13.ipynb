{
  "nbformat": 4,
  "nbformat_minor": 0,
  "metadata": {
    "colab": {
      "provenance": [],
      "collapsed_sections": [
        "0Qgxrk5S3LB4",
        "FPnnGiDQ3Vo4",
        "fR6tmCEI8BLd",
        "_qwJ-LD0HKNt",
        "CKIh82BXidJM",
        "0AIhPQRk4Jz-"
      ]
    },
    "kernelspec": {
      "name": "python3",
      "display_name": "Python 3"
    },
    "language_info": {
      "name": "python"
    },
    "gpuClass": "standard"
  },
  "cells": [
    {
      "cell_type": "code",
      "execution_count": null,
      "metadata": {
        "id": "S-9SpU3Uq_if",
        "colab": {
          "base_uri": "https://localhost:8080/"
        },
        "outputId": "a9108718-3e6c-4c60-befa-b0c6bc90be78"
      },
      "outputs": [
        {
          "output_type": "stream",
          "name": "stdout",
          "text": [
            "Drive already mounted at /content/drive; to attempt to forcibly remount, call drive.mount(\"/content/drive\", force_remount=True).\n"
          ]
        }
      ],
      "source": [
        "# Mounting google drive\n",
        "from google.colab import drive\n",
        "drive.mount('/content/drive')"
      ]
    },
    {
      "cell_type": "code",
      "source": [
        "# Importing Libraries\n",
        "from pandas.api.types import CategoricalDtype\n",
        "import pandas as pd\n",
        "import numpy as np\n",
        "\n",
        "from sklearn import model_selection\n",
        "from sklearn.tree import DecisionTreeClassifier, DecisionTreeRegressor, export_graphviz\n",
        "\n",
        "from sklearn.linear_model import LogisticRegression\n",
        "from sklearn.model_selection import cross_val_score\n",
        "from sklearn.model_selection import train_test_split\n",
        "from sklearn.model_selection import GridSearchCV\n",
        "from sklearn.metrics import accuracy_score, roc_auc_score, auc, mean_squared_error, average_precision_score, confusion_matrix, f1_score, precision_score, precision_recall_curve, recall_score\n",
        "from sklearn.metrics import roc_curve, mean_absolute_error, r2_score, classification_report, plot_confusion_matrix\n",
        "from sklearn.utils import shuffle\n",
        "from sklearn.preprocessing import StandardScaler\n",
        "\n",
        "import matplotlib.pyplot as plt\n",
        "from IPython.display import Image  \n",
        "import graphviz \n",
        "import pydotplus\n",
        "import seaborn as sns        \n",
        "\n",
        "import xgboost as xgb\n",
        "from xgboost import XGBClassifier\n",
        "from sklearn.model_selection import KFold\n",
        "import joblib\n",
        "\n",
        "from sklearn.datasets import make_blobs\n",
        "from sklearn.model_selection import RepeatedStratifiedKFold\n",
        "from sklearn import svm\n",
        "from sklearn.svm import SVR, SVC\n",
        "from sklearn.metrics import accuracy_score\n",
        "from sklearn.neighbors import KNeighborsClassifier\n",
        "\n",
        "import seaborn as sns\n",
        "from sklearn.metrics import f1_score\n",
        "from sklearn.metrics import confusion_matrix\n",
        "\n",
        "from sklearn import metrics\n",
        "\n",
        "pd.set_option('display.max_columns', None)\n",
        "\n",
        "#Setting warning filters\n",
        "import warnings"
      ],
      "metadata": {
        "id": "2IgNor_N0BJp"
      },
      "execution_count": null,
      "outputs": []
    },
    {
      "cell_type": "markdown",
      "source": [
        "# **Data preparation**"
      ],
      "metadata": {
        "id": "xA2iRUt925zy"
      }
    },
    {
      "cell_type": "code",
      "source": [
        "df = pd.read_csv('/content/OnlineNewsPopularity.csv')                                 \n",
        "df.head()"
      ],
      "metadata": {
        "id": "G0hEZZol0Gjc",
        "colab": {
          "base_uri": "https://localhost:8080/",
          "height": 478
        },
        "outputId": "58d2c6be-7f17-451e-d455-0abe018205a7"
      },
      "execution_count": null,
      "outputs": [
        {
          "output_type": "execute_result",
          "data": {
            "text/plain": [
              "                                                 url   timedelta  \\\n",
              "0  http://mashable.com/2013/01/07/amazon-instant-...       731.0   \n",
              "1  http://mashable.com/2013/01/07/ap-samsung-spon...       731.0   \n",
              "2  http://mashable.com/2013/01/07/apple-40-billio...       731.0   \n",
              "3  http://mashable.com/2013/01/07/astronaut-notre...       731.0   \n",
              "4   http://mashable.com/2013/01/07/att-u-verse-apps/       731.0   \n",
              "\n",
              "    n_tokens_title   n_tokens_content   n_unique_tokens   n_non_stop_words  \\\n",
              "0             12.0              219.0          0.663594                1.0   \n",
              "1              9.0              255.0          0.604743                1.0   \n",
              "2              9.0              211.0          0.575130                1.0   \n",
              "3              9.0              531.0          0.503788                1.0   \n",
              "4             13.0             1072.0          0.415646                1.0   \n",
              "\n",
              "    n_non_stop_unique_tokens   num_hrefs   num_self_hrefs   num_imgs  \\\n",
              "0                   0.815385         4.0              2.0        1.0   \n",
              "1                   0.791946         3.0              1.0        1.0   \n",
              "2                   0.663866         3.0              1.0        1.0   \n",
              "3                   0.665635         9.0              0.0        1.0   \n",
              "4                   0.540890        19.0             19.0       20.0   \n",
              "\n",
              "    num_videos   average_token_length   num_keywords  \\\n",
              "0          0.0               4.680365            5.0   \n",
              "1          0.0               4.913725            4.0   \n",
              "2          0.0               4.393365            6.0   \n",
              "3          0.0               4.404896            7.0   \n",
              "4          0.0               4.682836            7.0   \n",
              "\n",
              "    data_channel_is_lifestyle   data_channel_is_entertainment  \\\n",
              "0                         0.0                             1.0   \n",
              "1                         0.0                             0.0   \n",
              "2                         0.0                             0.0   \n",
              "3                         0.0                             1.0   \n",
              "4                         0.0                             0.0   \n",
              "\n",
              "    data_channel_is_bus   data_channel_is_socmed   data_channel_is_tech  \\\n",
              "0                   0.0                      0.0                    0.0   \n",
              "1                   1.0                      0.0                    0.0   \n",
              "2                   1.0                      0.0                    0.0   \n",
              "3                   0.0                      0.0                    0.0   \n",
              "4                   0.0                      0.0                    1.0   \n",
              "\n",
              "    data_channel_is_world   kw_min_min   kw_max_min   kw_avg_min   kw_min_max  \\\n",
              "0                     0.0          0.0          0.0          0.0          0.0   \n",
              "1                     0.0          0.0          0.0          0.0          0.0   \n",
              "2                     0.0          0.0          0.0          0.0          0.0   \n",
              "3                     0.0          0.0          0.0          0.0          0.0   \n",
              "4                     0.0          0.0          0.0          0.0          0.0   \n",
              "\n",
              "    kw_max_max   kw_avg_max   kw_min_avg   kw_max_avg   kw_avg_avg  \\\n",
              "0          0.0          0.0          0.0          0.0          0.0   \n",
              "1          0.0          0.0          0.0          0.0          0.0   \n",
              "2          0.0          0.0          0.0          0.0          0.0   \n",
              "3          0.0          0.0          0.0          0.0          0.0   \n",
              "4          0.0          0.0          0.0          0.0          0.0   \n",
              "\n",
              "    self_reference_min_shares   self_reference_max_shares  \\\n",
              "0                       496.0                       496.0   \n",
              "1                         0.0                         0.0   \n",
              "2                       918.0                       918.0   \n",
              "3                         0.0                         0.0   \n",
              "4                       545.0                     16000.0   \n",
              "\n",
              "    self_reference_avg_sharess   weekday_is_monday   weekday_is_tuesday  \\\n",
              "0                   496.000000                 1.0                  0.0   \n",
              "1                     0.000000                 1.0                  0.0   \n",
              "2                   918.000000                 1.0                  0.0   \n",
              "3                     0.000000                 1.0                  0.0   \n",
              "4                  3151.157895                 1.0                  0.0   \n",
              "\n",
              "    weekday_is_wednesday   weekday_is_thursday   weekday_is_friday  \\\n",
              "0                    0.0                   0.0                 0.0   \n",
              "1                    0.0                   0.0                 0.0   \n",
              "2                    0.0                   0.0                 0.0   \n",
              "3                    0.0                   0.0                 0.0   \n",
              "4                    0.0                   0.0                 0.0   \n",
              "\n",
              "    weekday_is_saturday   weekday_is_sunday   is_weekend    LDA_00    LDA_01  \\\n",
              "0                   0.0                 0.0          0.0  0.500331  0.378279   \n",
              "1                   0.0                 0.0          0.0  0.799756  0.050047   \n",
              "2                   0.0                 0.0          0.0  0.217792  0.033334   \n",
              "3                   0.0                 0.0          0.0  0.028573  0.419300   \n",
              "4                   0.0                 0.0          0.0  0.028633  0.028794   \n",
              "\n",
              "     LDA_02    LDA_03    LDA_04   global_subjectivity  \\\n",
              "0  0.040005  0.041263  0.040123              0.521617   \n",
              "1  0.050096  0.050101  0.050001              0.341246   \n",
              "2  0.033351  0.033334  0.682188              0.702222   \n",
              "3  0.494651  0.028905  0.028572              0.429850   \n",
              "4  0.028575  0.028572  0.885427              0.513502   \n",
              "\n",
              "    global_sentiment_polarity   global_rate_positive_words  \\\n",
              "0                    0.092562                     0.045662   \n",
              "1                    0.148948                     0.043137   \n",
              "2                    0.323333                     0.056872   \n",
              "3                    0.100705                     0.041431   \n",
              "4                    0.281003                     0.074627   \n",
              "\n",
              "    global_rate_negative_words   rate_positive_words   rate_negative_words  \\\n",
              "0                     0.013699              0.769231              0.230769   \n",
              "1                     0.015686              0.733333              0.266667   \n",
              "2                     0.009479              0.857143              0.142857   \n",
              "3                     0.020716              0.666667              0.333333   \n",
              "4                     0.012127              0.860215              0.139785   \n",
              "\n",
              "    avg_positive_polarity   min_positive_polarity   max_positive_polarity  \\\n",
              "0                0.378636                0.100000                     0.7   \n",
              "1                0.286915                0.033333                     0.7   \n",
              "2                0.495833                0.100000                     1.0   \n",
              "3                0.385965                0.136364                     0.8   \n",
              "4                0.411127                0.033333                     1.0   \n",
              "\n",
              "    avg_negative_polarity   min_negative_polarity   max_negative_polarity  \\\n",
              "0               -0.350000                  -0.600               -0.200000   \n",
              "1               -0.118750                  -0.125               -0.100000   \n",
              "2               -0.466667                  -0.800               -0.133333   \n",
              "3               -0.369697                  -0.600               -0.166667   \n",
              "4               -0.220192                  -0.500               -0.050000   \n",
              "\n",
              "    title_subjectivity   title_sentiment_polarity   abs_title_subjectivity  \\\n",
              "0             0.500000                  -0.187500                 0.000000   \n",
              "1             0.000000                   0.000000                 0.500000   \n",
              "2             0.000000                   0.000000                 0.500000   \n",
              "3             0.000000                   0.000000                 0.500000   \n",
              "4             0.454545                   0.136364                 0.045455   \n",
              "\n",
              "    abs_title_sentiment_polarity   shares  \n",
              "0                       0.187500    593.0  \n",
              "1                       0.000000    711.0  \n",
              "2                       0.000000   1500.0  \n",
              "3                       0.000000   1200.0  \n",
              "4                       0.136364    505.0  "
            ],
            "text/html": [
              "\n",
              "  <div id=\"df-10cb48ea-7130-4b2f-bb3e-68d5c826f6e1\">\n",
              "    <div class=\"colab-df-container\">\n",
              "      <div>\n",
              "<style scoped>\n",
              "    .dataframe tbody tr th:only-of-type {\n",
              "        vertical-align: middle;\n",
              "    }\n",
              "\n",
              "    .dataframe tbody tr th {\n",
              "        vertical-align: top;\n",
              "    }\n",
              "\n",
              "    .dataframe thead th {\n",
              "        text-align: right;\n",
              "    }\n",
              "</style>\n",
              "<table border=\"1\" class=\"dataframe\">\n",
              "  <thead>\n",
              "    <tr style=\"text-align: right;\">\n",
              "      <th></th>\n",
              "      <th>url</th>\n",
              "      <th>timedelta</th>\n",
              "      <th>n_tokens_title</th>\n",
              "      <th>n_tokens_content</th>\n",
              "      <th>n_unique_tokens</th>\n",
              "      <th>n_non_stop_words</th>\n",
              "      <th>n_non_stop_unique_tokens</th>\n",
              "      <th>num_hrefs</th>\n",
              "      <th>num_self_hrefs</th>\n",
              "      <th>num_imgs</th>\n",
              "      <th>num_videos</th>\n",
              "      <th>average_token_length</th>\n",
              "      <th>num_keywords</th>\n",
              "      <th>data_channel_is_lifestyle</th>\n",
              "      <th>data_channel_is_entertainment</th>\n",
              "      <th>data_channel_is_bus</th>\n",
              "      <th>data_channel_is_socmed</th>\n",
              "      <th>data_channel_is_tech</th>\n",
              "      <th>data_channel_is_world</th>\n",
              "      <th>kw_min_min</th>\n",
              "      <th>kw_max_min</th>\n",
              "      <th>kw_avg_min</th>\n",
              "      <th>kw_min_max</th>\n",
              "      <th>kw_max_max</th>\n",
              "      <th>kw_avg_max</th>\n",
              "      <th>kw_min_avg</th>\n",
              "      <th>kw_max_avg</th>\n",
              "      <th>kw_avg_avg</th>\n",
              "      <th>self_reference_min_shares</th>\n",
              "      <th>self_reference_max_shares</th>\n",
              "      <th>self_reference_avg_sharess</th>\n",
              "      <th>weekday_is_monday</th>\n",
              "      <th>weekday_is_tuesday</th>\n",
              "      <th>weekday_is_wednesday</th>\n",
              "      <th>weekday_is_thursday</th>\n",
              "      <th>weekday_is_friday</th>\n",
              "      <th>weekday_is_saturday</th>\n",
              "      <th>weekday_is_sunday</th>\n",
              "      <th>is_weekend</th>\n",
              "      <th>LDA_00</th>\n",
              "      <th>LDA_01</th>\n",
              "      <th>LDA_02</th>\n",
              "      <th>LDA_03</th>\n",
              "      <th>LDA_04</th>\n",
              "      <th>global_subjectivity</th>\n",
              "      <th>global_sentiment_polarity</th>\n",
              "      <th>global_rate_positive_words</th>\n",
              "      <th>global_rate_negative_words</th>\n",
              "      <th>rate_positive_words</th>\n",
              "      <th>rate_negative_words</th>\n",
              "      <th>avg_positive_polarity</th>\n",
              "      <th>min_positive_polarity</th>\n",
              "      <th>max_positive_polarity</th>\n",
              "      <th>avg_negative_polarity</th>\n",
              "      <th>min_negative_polarity</th>\n",
              "      <th>max_negative_polarity</th>\n",
              "      <th>title_subjectivity</th>\n",
              "      <th>title_sentiment_polarity</th>\n",
              "      <th>abs_title_subjectivity</th>\n",
              "      <th>abs_title_sentiment_polarity</th>\n",
              "      <th>shares</th>\n",
              "    </tr>\n",
              "  </thead>\n",
              "  <tbody>\n",
              "    <tr>\n",
              "      <th>0</th>\n",
              "      <td>http://mashable.com/2013/01/07/amazon-instant-...</td>\n",
              "      <td>731.0</td>\n",
              "      <td>12.0</td>\n",
              "      <td>219.0</td>\n",
              "      <td>0.663594</td>\n",
              "      <td>1.0</td>\n",
              "      <td>0.815385</td>\n",
              "      <td>4.0</td>\n",
              "      <td>2.0</td>\n",
              "      <td>1.0</td>\n",
              "      <td>0.0</td>\n",
              "      <td>4.680365</td>\n",
              "      <td>5.0</td>\n",
              "      <td>0.0</td>\n",
              "      <td>1.0</td>\n",
              "      <td>0.0</td>\n",
              "      <td>0.0</td>\n",
              "      <td>0.0</td>\n",
              "      <td>0.0</td>\n",
              "      <td>0.0</td>\n",
              "      <td>0.0</td>\n",
              "      <td>0.0</td>\n",
              "      <td>0.0</td>\n",
              "      <td>0.0</td>\n",
              "      <td>0.0</td>\n",
              "      <td>0.0</td>\n",
              "      <td>0.0</td>\n",
              "      <td>0.0</td>\n",
              "      <td>496.0</td>\n",
              "      <td>496.0</td>\n",
              "      <td>496.000000</td>\n",
              "      <td>1.0</td>\n",
              "      <td>0.0</td>\n",
              "      <td>0.0</td>\n",
              "      <td>0.0</td>\n",
              "      <td>0.0</td>\n",
              "      <td>0.0</td>\n",
              "      <td>0.0</td>\n",
              "      <td>0.0</td>\n",
              "      <td>0.500331</td>\n",
              "      <td>0.378279</td>\n",
              "      <td>0.040005</td>\n",
              "      <td>0.041263</td>\n",
              "      <td>0.040123</td>\n",
              "      <td>0.521617</td>\n",
              "      <td>0.092562</td>\n",
              "      <td>0.045662</td>\n",
              "      <td>0.013699</td>\n",
              "      <td>0.769231</td>\n",
              "      <td>0.230769</td>\n",
              "      <td>0.378636</td>\n",
              "      <td>0.100000</td>\n",
              "      <td>0.7</td>\n",
              "      <td>-0.350000</td>\n",
              "      <td>-0.600</td>\n",
              "      <td>-0.200000</td>\n",
              "      <td>0.500000</td>\n",
              "      <td>-0.187500</td>\n",
              "      <td>0.000000</td>\n",
              "      <td>0.187500</td>\n",
              "      <td>593.0</td>\n",
              "    </tr>\n",
              "    <tr>\n",
              "      <th>1</th>\n",
              "      <td>http://mashable.com/2013/01/07/ap-samsung-spon...</td>\n",
              "      <td>731.0</td>\n",
              "      <td>9.0</td>\n",
              "      <td>255.0</td>\n",
              "      <td>0.604743</td>\n",
              "      <td>1.0</td>\n",
              "      <td>0.791946</td>\n",
              "      <td>3.0</td>\n",
              "      <td>1.0</td>\n",
              "      <td>1.0</td>\n",
              "      <td>0.0</td>\n",
              "      <td>4.913725</td>\n",
              "      <td>4.0</td>\n",
              "      <td>0.0</td>\n",
              "      <td>0.0</td>\n",
              "      <td>1.0</td>\n",
              "      <td>0.0</td>\n",
              "      <td>0.0</td>\n",
              "      <td>0.0</td>\n",
              "      <td>0.0</td>\n",
              "      <td>0.0</td>\n",
              "      <td>0.0</td>\n",
              "      <td>0.0</td>\n",
              "      <td>0.0</td>\n",
              "      <td>0.0</td>\n",
              "      <td>0.0</td>\n",
              "      <td>0.0</td>\n",
              "      <td>0.0</td>\n",
              "      <td>0.0</td>\n",
              "      <td>0.0</td>\n",
              "      <td>0.000000</td>\n",
              "      <td>1.0</td>\n",
              "      <td>0.0</td>\n",
              "      <td>0.0</td>\n",
              "      <td>0.0</td>\n",
              "      <td>0.0</td>\n",
              "      <td>0.0</td>\n",
              "      <td>0.0</td>\n",
              "      <td>0.0</td>\n",
              "      <td>0.799756</td>\n",
              "      <td>0.050047</td>\n",
              "      <td>0.050096</td>\n",
              "      <td>0.050101</td>\n",
              "      <td>0.050001</td>\n",
              "      <td>0.341246</td>\n",
              "      <td>0.148948</td>\n",
              "      <td>0.043137</td>\n",
              "      <td>0.015686</td>\n",
              "      <td>0.733333</td>\n",
              "      <td>0.266667</td>\n",
              "      <td>0.286915</td>\n",
              "      <td>0.033333</td>\n",
              "      <td>0.7</td>\n",
              "      <td>-0.118750</td>\n",
              "      <td>-0.125</td>\n",
              "      <td>-0.100000</td>\n",
              "      <td>0.000000</td>\n",
              "      <td>0.000000</td>\n",
              "      <td>0.500000</td>\n",
              "      <td>0.000000</td>\n",
              "      <td>711.0</td>\n",
              "    </tr>\n",
              "    <tr>\n",
              "      <th>2</th>\n",
              "      <td>http://mashable.com/2013/01/07/apple-40-billio...</td>\n",
              "      <td>731.0</td>\n",
              "      <td>9.0</td>\n",
              "      <td>211.0</td>\n",
              "      <td>0.575130</td>\n",
              "      <td>1.0</td>\n",
              "      <td>0.663866</td>\n",
              "      <td>3.0</td>\n",
              "      <td>1.0</td>\n",
              "      <td>1.0</td>\n",
              "      <td>0.0</td>\n",
              "      <td>4.393365</td>\n",
              "      <td>6.0</td>\n",
              "      <td>0.0</td>\n",
              "      <td>0.0</td>\n",
              "      <td>1.0</td>\n",
              "      <td>0.0</td>\n",
              "      <td>0.0</td>\n",
              "      <td>0.0</td>\n",
              "      <td>0.0</td>\n",
              "      <td>0.0</td>\n",
              "      <td>0.0</td>\n",
              "      <td>0.0</td>\n",
              "      <td>0.0</td>\n",
              "      <td>0.0</td>\n",
              "      <td>0.0</td>\n",
              "      <td>0.0</td>\n",
              "      <td>0.0</td>\n",
              "      <td>918.0</td>\n",
              "      <td>918.0</td>\n",
              "      <td>918.000000</td>\n",
              "      <td>1.0</td>\n",
              "      <td>0.0</td>\n",
              "      <td>0.0</td>\n",
              "      <td>0.0</td>\n",
              "      <td>0.0</td>\n",
              "      <td>0.0</td>\n",
              "      <td>0.0</td>\n",
              "      <td>0.0</td>\n",
              "      <td>0.217792</td>\n",
              "      <td>0.033334</td>\n",
              "      <td>0.033351</td>\n",
              "      <td>0.033334</td>\n",
              "      <td>0.682188</td>\n",
              "      <td>0.702222</td>\n",
              "      <td>0.323333</td>\n",
              "      <td>0.056872</td>\n",
              "      <td>0.009479</td>\n",
              "      <td>0.857143</td>\n",
              "      <td>0.142857</td>\n",
              "      <td>0.495833</td>\n",
              "      <td>0.100000</td>\n",
              "      <td>1.0</td>\n",
              "      <td>-0.466667</td>\n",
              "      <td>-0.800</td>\n",
              "      <td>-0.133333</td>\n",
              "      <td>0.000000</td>\n",
              "      <td>0.000000</td>\n",
              "      <td>0.500000</td>\n",
              "      <td>0.000000</td>\n",
              "      <td>1500.0</td>\n",
              "    </tr>\n",
              "    <tr>\n",
              "      <th>3</th>\n",
              "      <td>http://mashable.com/2013/01/07/astronaut-notre...</td>\n",
              "      <td>731.0</td>\n",
              "      <td>9.0</td>\n",
              "      <td>531.0</td>\n",
              "      <td>0.503788</td>\n",
              "      <td>1.0</td>\n",
              "      <td>0.665635</td>\n",
              "      <td>9.0</td>\n",
              "      <td>0.0</td>\n",
              "      <td>1.0</td>\n",
              "      <td>0.0</td>\n",
              "      <td>4.404896</td>\n",
              "      <td>7.0</td>\n",
              "      <td>0.0</td>\n",
              "      <td>1.0</td>\n",
              "      <td>0.0</td>\n",
              "      <td>0.0</td>\n",
              "      <td>0.0</td>\n",
              "      <td>0.0</td>\n",
              "      <td>0.0</td>\n",
              "      <td>0.0</td>\n",
              "      <td>0.0</td>\n",
              "      <td>0.0</td>\n",
              "      <td>0.0</td>\n",
              "      <td>0.0</td>\n",
              "      <td>0.0</td>\n",
              "      <td>0.0</td>\n",
              "      <td>0.0</td>\n",
              "      <td>0.0</td>\n",
              "      <td>0.0</td>\n",
              "      <td>0.000000</td>\n",
              "      <td>1.0</td>\n",
              "      <td>0.0</td>\n",
              "      <td>0.0</td>\n",
              "      <td>0.0</td>\n",
              "      <td>0.0</td>\n",
              "      <td>0.0</td>\n",
              "      <td>0.0</td>\n",
              "      <td>0.0</td>\n",
              "      <td>0.028573</td>\n",
              "      <td>0.419300</td>\n",
              "      <td>0.494651</td>\n",
              "      <td>0.028905</td>\n",
              "      <td>0.028572</td>\n",
              "      <td>0.429850</td>\n",
              "      <td>0.100705</td>\n",
              "      <td>0.041431</td>\n",
              "      <td>0.020716</td>\n",
              "      <td>0.666667</td>\n",
              "      <td>0.333333</td>\n",
              "      <td>0.385965</td>\n",
              "      <td>0.136364</td>\n",
              "      <td>0.8</td>\n",
              "      <td>-0.369697</td>\n",
              "      <td>-0.600</td>\n",
              "      <td>-0.166667</td>\n",
              "      <td>0.000000</td>\n",
              "      <td>0.000000</td>\n",
              "      <td>0.500000</td>\n",
              "      <td>0.000000</td>\n",
              "      <td>1200.0</td>\n",
              "    </tr>\n",
              "    <tr>\n",
              "      <th>4</th>\n",
              "      <td>http://mashable.com/2013/01/07/att-u-verse-apps/</td>\n",
              "      <td>731.0</td>\n",
              "      <td>13.0</td>\n",
              "      <td>1072.0</td>\n",
              "      <td>0.415646</td>\n",
              "      <td>1.0</td>\n",
              "      <td>0.540890</td>\n",
              "      <td>19.0</td>\n",
              "      <td>19.0</td>\n",
              "      <td>20.0</td>\n",
              "      <td>0.0</td>\n",
              "      <td>4.682836</td>\n",
              "      <td>7.0</td>\n",
              "      <td>0.0</td>\n",
              "      <td>0.0</td>\n",
              "      <td>0.0</td>\n",
              "      <td>0.0</td>\n",
              "      <td>1.0</td>\n",
              "      <td>0.0</td>\n",
              "      <td>0.0</td>\n",
              "      <td>0.0</td>\n",
              "      <td>0.0</td>\n",
              "      <td>0.0</td>\n",
              "      <td>0.0</td>\n",
              "      <td>0.0</td>\n",
              "      <td>0.0</td>\n",
              "      <td>0.0</td>\n",
              "      <td>0.0</td>\n",
              "      <td>545.0</td>\n",
              "      <td>16000.0</td>\n",
              "      <td>3151.157895</td>\n",
              "      <td>1.0</td>\n",
              "      <td>0.0</td>\n",
              "      <td>0.0</td>\n",
              "      <td>0.0</td>\n",
              "      <td>0.0</td>\n",
              "      <td>0.0</td>\n",
              "      <td>0.0</td>\n",
              "      <td>0.0</td>\n",
              "      <td>0.028633</td>\n",
              "      <td>0.028794</td>\n",
              "      <td>0.028575</td>\n",
              "      <td>0.028572</td>\n",
              "      <td>0.885427</td>\n",
              "      <td>0.513502</td>\n",
              "      <td>0.281003</td>\n",
              "      <td>0.074627</td>\n",
              "      <td>0.012127</td>\n",
              "      <td>0.860215</td>\n",
              "      <td>0.139785</td>\n",
              "      <td>0.411127</td>\n",
              "      <td>0.033333</td>\n",
              "      <td>1.0</td>\n",
              "      <td>-0.220192</td>\n",
              "      <td>-0.500</td>\n",
              "      <td>-0.050000</td>\n",
              "      <td>0.454545</td>\n",
              "      <td>0.136364</td>\n",
              "      <td>0.045455</td>\n",
              "      <td>0.136364</td>\n",
              "      <td>505.0</td>\n",
              "    </tr>\n",
              "  </tbody>\n",
              "</table>\n",
              "</div>\n",
              "      <button class=\"colab-df-convert\" onclick=\"convertToInteractive('df-10cb48ea-7130-4b2f-bb3e-68d5c826f6e1')\"\n",
              "              title=\"Convert this dataframe to an interactive table.\"\n",
              "              style=\"display:none;\">\n",
              "        \n",
              "  <svg xmlns=\"http://www.w3.org/2000/svg\" height=\"24px\"viewBox=\"0 0 24 24\"\n",
              "       width=\"24px\">\n",
              "    <path d=\"M0 0h24v24H0V0z\" fill=\"none\"/>\n",
              "    <path d=\"M18.56 5.44l.94 2.06.94-2.06 2.06-.94-2.06-.94-.94-2.06-.94 2.06-2.06.94zm-11 1L8.5 8.5l.94-2.06 2.06-.94-2.06-.94L8.5 2.5l-.94 2.06-2.06.94zm10 10l.94 2.06.94-2.06 2.06-.94-2.06-.94-.94-2.06-.94 2.06-2.06.94z\"/><path d=\"M17.41 7.96l-1.37-1.37c-.4-.4-.92-.59-1.43-.59-.52 0-1.04.2-1.43.59L10.3 9.45l-7.72 7.72c-.78.78-.78 2.05 0 2.83L4 21.41c.39.39.9.59 1.41.59.51 0 1.02-.2 1.41-.59l7.78-7.78 2.81-2.81c.8-.78.8-2.07 0-2.86zM5.41 20L4 18.59l7.72-7.72 1.47 1.35L5.41 20z\"/>\n",
              "  </svg>\n",
              "      </button>\n",
              "      \n",
              "  <style>\n",
              "    .colab-df-container {\n",
              "      display:flex;\n",
              "      flex-wrap:wrap;\n",
              "      gap: 12px;\n",
              "    }\n",
              "\n",
              "    .colab-df-convert {\n",
              "      background-color: #E8F0FE;\n",
              "      border: none;\n",
              "      border-radius: 50%;\n",
              "      cursor: pointer;\n",
              "      display: none;\n",
              "      fill: #1967D2;\n",
              "      height: 32px;\n",
              "      padding: 0 0 0 0;\n",
              "      width: 32px;\n",
              "    }\n",
              "\n",
              "    .colab-df-convert:hover {\n",
              "      background-color: #E2EBFA;\n",
              "      box-shadow: 0px 1px 2px rgba(60, 64, 67, 0.3), 0px 1px 3px 1px rgba(60, 64, 67, 0.15);\n",
              "      fill: #174EA6;\n",
              "    }\n",
              "\n",
              "    [theme=dark] .colab-df-convert {\n",
              "      background-color: #3B4455;\n",
              "      fill: #D2E3FC;\n",
              "    }\n",
              "\n",
              "    [theme=dark] .colab-df-convert:hover {\n",
              "      background-color: #434B5C;\n",
              "      box-shadow: 0px 1px 3px 1px rgba(0, 0, 0, 0.15);\n",
              "      filter: drop-shadow(0px 1px 2px rgba(0, 0, 0, 0.3));\n",
              "      fill: #FFFFFF;\n",
              "    }\n",
              "  </style>\n",
              "\n",
              "      <script>\n",
              "        const buttonEl =\n",
              "          document.querySelector('#df-10cb48ea-7130-4b2f-bb3e-68d5c826f6e1 button.colab-df-convert');\n",
              "        buttonEl.style.display =\n",
              "          google.colab.kernel.accessAllowed ? 'block' : 'none';\n",
              "\n",
              "        async function convertToInteractive(key) {\n",
              "          const element = document.querySelector('#df-10cb48ea-7130-4b2f-bb3e-68d5c826f6e1');\n",
              "          const dataTable =\n",
              "            await google.colab.kernel.invokeFunction('convertToInteractive',\n",
              "                                                     [key], {});\n",
              "          if (!dataTable) return;\n",
              "\n",
              "          const docLinkHtml = 'Like what you see? Visit the ' +\n",
              "            '<a target=\"_blank\" href=https://colab.research.google.com/notebooks/data_table.ipynb>data table notebook</a>'\n",
              "            + ' to learn more about interactive tables.';\n",
              "          element.innerHTML = '';\n",
              "          dataTable['output_type'] = 'display_data';\n",
              "          await google.colab.output.renderOutput(dataTable, element);\n",
              "          const docLink = document.createElement('div');\n",
              "          docLink.innerHTML = docLinkHtml;\n",
              "          element.appendChild(docLink);\n",
              "        }\n",
              "      </script>\n",
              "    </div>\n",
              "  </div>\n",
              "  "
            ]
          },
          "metadata": {},
          "execution_count": 2
        }
      ]
    },
    {
      "cell_type": "code",
      "source": [
        "df.describe()"
      ],
      "metadata": {
        "colab": {
          "base_uri": "https://localhost:8080/",
          "height": 364
        },
        "id": "6_Mc_uE31a1a",
        "outputId": "a196bade-7da7-4a07-8442-3db277722f60"
      },
      "execution_count": null,
      "outputs": [
        {
          "output_type": "execute_result",
          "data": {
            "text/plain": [
              "          timedelta   n_tokens_title   n_tokens_content   n_unique_tokens  \\\n",
              "count  10316.000000     10316.000000       10316.000000      10316.000000   \n",
              "mean     636.208317         9.764541         487.476638          0.561105   \n",
              "std       57.400255         1.966246         408.812221          0.119334   \n",
              "min      535.000000         2.000000           0.000000          0.000000   \n",
              "25%      586.000000         8.000000         223.000000          0.488150   \n",
              "50%      638.000000        10.000000         359.000000          0.560688   \n",
              "75%      687.000000        11.000000         627.000000          0.633943   \n",
              "max      731.000000        18.000000        4979.000000          1.000000   \n",
              "\n",
              "        n_non_stop_words   n_non_stop_unique_tokens     num_hrefs  \\\n",
              "count       10316.000000               10316.000000  10316.000000   \n",
              "mean            0.992148                   0.704302      9.990597   \n",
              "std             0.088267                   0.121728     10.408161   \n",
              "min             0.000000                   0.000000      0.000000   \n",
              "25%             1.000000                   0.642668      4.000000   \n",
              "50%             1.000000                   0.709924      7.000000   \n",
              "75%             1.000000                   0.777070     12.000000   \n",
              "max             1.000000                   1.000000    171.000000   \n",
              "\n",
              "        num_self_hrefs      num_imgs    num_videos   average_token_length  \\\n",
              "count     10316.000000  10316.000000  10316.000000           10316.000000   \n",
              "mean          3.337146      3.494281      1.222179               4.628100   \n",
              "std           4.407716      7.682986      4.365253               0.496900   \n",
              "min           0.000000      0.000000      0.000000               0.000000   \n",
              "25%           1.000000      0.000000      0.000000               4.470216   \n",
              "50%           2.000000      1.000000      0.000000               4.641985   \n",
              "75%           4.000000      1.000000      1.000000               4.831863   \n",
              "max          74.000000     99.000000     75.000000               6.308411   \n",
              "\n",
              "        num_keywords   data_channel_is_lifestyle  \\\n",
              "count   10316.000000                10316.000000   \n",
              "mean        7.134354                    0.071830   \n",
              "std         1.880373                    0.258219   \n",
              "min         1.000000                    0.000000   \n",
              "25%         6.000000                    0.000000   \n",
              "50%         7.000000                    0.000000   \n",
              "75%         9.000000                    0.000000   \n",
              "max        10.000000                    1.000000   \n",
              "\n",
              "        data_channel_is_entertainment   data_channel_is_bus  \\\n",
              "count                    10316.000000          10316.000000   \n",
              "mean                         0.158007              0.176037   \n",
              "std                          0.364765              0.380870   \n",
              "min                          0.000000              0.000000   \n",
              "25%                          0.000000              0.000000   \n",
              "50%                          0.000000              0.000000   \n",
              "75%                          0.000000              0.000000   \n",
              "max                          1.000000              1.000000   \n",
              "\n",
              "        data_channel_is_socmed   data_channel_is_tech   data_channel_is_world  \\\n",
              "count             10316.000000           10316.000000            10316.000000   \n",
              "mean                  0.077743               0.220240                0.135227   \n",
              "std                   0.267780               0.414429                0.341982   \n",
              "min                   0.000000               0.000000                0.000000   \n",
              "25%                   0.000000               0.000000                0.000000   \n",
              "50%                   0.000000               0.000000                0.000000   \n",
              "75%                   0.000000               0.000000                0.000000   \n",
              "max                   1.000000               1.000000                1.000000   \n",
              "\n",
              "         kw_min_min     kw_max_min    kw_avg_min     kw_min_max  \\\n",
              "count  10315.000000   10315.000000  10315.000000   10315.000000   \n",
              "mean      99.884828    1255.549297    440.942182    7744.028599   \n",
              "std      106.036613    2811.335854    447.362238   46507.903693   \n",
              "min        0.000000       0.000000      0.000000       0.000000   \n",
              "25%        4.000000     462.000000    292.200000       0.000000   \n",
              "50%        4.000000     729.000000    367.400000       0.000000   \n",
              "75%      217.000000    1200.000000    480.817460    4300.000000   \n",
              "max      377.000000  112500.000000  14348.875000  843300.000000   \n",
              "\n",
              "          kw_max_max     kw_avg_max    kw_min_avg     kw_max_avg  \\\n",
              "count   10315.000000   10315.000000  10315.000000   10315.000000   \n",
              "mean   495856.752302  154178.168532    859.663012    4967.169244   \n",
              "std    294124.768170  122532.737128   1066.736198    5216.538923   \n",
              "min         0.000000       0.000000      0.000000       0.000000   \n",
              "25%     69100.000000   36018.750000      0.000000    3332.169110   \n",
              "50%    617900.000000  139460.000000      0.000000    4007.153374   \n",
              "75%    690400.000000  216980.000000   1798.857143    5263.146282   \n",
              "max    843300.000000  843300.000000   3437.185628  237966.666667   \n",
              "\n",
              "         kw_avg_avg   self_reference_min_shares   self_reference_max_shares  \\\n",
              "count  10315.000000                10315.000000                10315.000000   \n",
              "mean    2768.570741                 3183.328163                 7666.957441   \n",
              "std     1138.136961                19441.695067                37485.810823   \n",
              "min        0.000000                    0.000000                    0.000000   \n",
              "25%     2160.459801                    0.000000                    0.000000   \n",
              "50%     2620.664639                 1100.000000                 2100.000000   \n",
              "75%     3226.526059                 2200.000000                 5600.000000   \n",
              "max    36717.233112               843300.000000               843300.000000   \n",
              "\n",
              "        self_reference_avg_sharess   weekday_is_monday   weekday_is_tuesday  \\\n",
              "count                 10315.000000        10315.000000         10315.000000   \n",
              "mean                   4828.840529            0.168396             0.181483   \n",
              "std                   23198.027082            0.374235             0.385437   \n",
              "min                       0.000000            0.000000             0.000000   \n",
              "25%                       0.000000            0.000000             0.000000   \n",
              "50%                    1800.000000            0.000000             0.000000   \n",
              "75%                    3850.000000            0.000000             0.000000   \n",
              "max                  843300.000000            1.000000             1.000000   \n",
              "\n",
              "        weekday_is_wednesday   weekday_is_thursday   weekday_is_friday  \\\n",
              "count           10315.000000          10315.000000        10315.000000   \n",
              "mean                0.192632              0.183713            0.145225   \n",
              "std                 0.394386              0.387269            0.352345   \n",
              "min                 0.000000              0.000000            0.000000   \n",
              "25%                 0.000000              0.000000            0.000000   \n",
              "50%                 0.000000              0.000000            0.000000   \n",
              "75%                 0.000000              0.000000            0.000000   \n",
              "max                 1.000000              1.000000            1.000000   \n",
              "\n",
              "        weekday_is_saturday   weekday_is_sunday    is_weekend        LDA_00  \\\n",
              "count          10315.000000        10315.000000  10315.000000  10315.000000   \n",
              "mean               0.059719            0.068832      0.128551      0.199755   \n",
              "std                0.236977            0.253180      0.334718      0.272366   \n",
              "min                0.000000            0.000000      0.000000      0.018191   \n",
              "25%                0.000000            0.000000      0.000000      0.025251   \n",
              "50%                0.000000            0.000000      0.000000      0.033942   \n",
              "75%                0.000000            0.000000      0.000000      0.300239   \n",
              "max                1.000000            1.000000      1.000000      0.926994   \n",
              "\n",
              "             LDA_01        LDA_02        LDA_03        LDA_04  \\\n",
              "count  10315.000000  10315.000000  10315.000000  10315.000000   \n",
              "mean       0.149300      0.175051      0.210400      0.265494   \n",
              "std        0.228742      0.257700      0.286468      0.308758   \n",
              "min        0.018182      0.018182      0.018182      0.018182   \n",
              "25%        0.025083      0.025077      0.025724      0.028663   \n",
              "50%        0.033384      0.033491      0.040000      0.050000   \n",
              "75%        0.171949      0.219708      0.314204      0.505332   \n",
              "max        0.925947      0.919999      0.919978      0.927119   \n",
              "\n",
              "        global_subjectivity   global_sentiment_polarity  \\\n",
              "count          10315.000000                10315.000000   \n",
              "mean               0.454909                    0.134535   \n",
              "std                0.095875                    0.098668   \n",
              "min                0.000000                   -0.377657   \n",
              "25%                0.403282                    0.077160   \n",
              "50%                0.456975                    0.133947   \n",
              "75%                0.509892                    0.190947   \n",
              "max                1.000000                    0.727841   \n",
              "\n",
              "        global_rate_positive_words   global_rate_negative_words  \\\n",
              "count                 10315.000000                 10315.000000   \n",
              "mean                      0.043487                     0.016583   \n",
              "std                       0.017166                     0.011373   \n",
              "min                       0.000000                     0.000000   \n",
              "25%                       0.032130                     0.009259   \n",
              "50%                       0.042296                     0.014975   \n",
              "75%                       0.053527                     0.021429   \n",
              "max                       0.152778                     0.139831   \n",
              "\n",
              "        rate_positive_words   rate_negative_words   avg_positive_polarity  \\\n",
              "count          10315.000000          10315.000000            10315.000000   \n",
              "mean               0.719789              0.272165                0.362246   \n",
              "std                0.162983              0.151530                0.091508   \n",
              "min                0.000000              0.000000                0.000000   \n",
              "25%                0.636364              0.169811                0.312500   \n",
              "50%                0.736842              0.260870                0.362500   \n",
              "75%                0.825635              0.361574                0.413520   \n",
              "max                1.000000              1.000000                1.000000   \n",
              "\n",
              "        min_positive_polarity   max_positive_polarity   avg_negative_polarity  \\\n",
              "count            10315.000000            10315.000000            10315.000000   \n",
              "mean                 0.098720                0.767819               -0.255046   \n",
              "std                  0.070981                0.225569                0.126758   \n",
              "min                  0.000000                0.000000               -1.000000   \n",
              "25%                  0.050000                0.600000               -0.323148   \n",
              "50%                  0.100000                0.800000               -0.247917   \n",
              "75%                  0.100000                1.000000               -0.179588   \n",
              "max                  1.000000                1.000000                0.000000   \n",
              "\n",
              "        min_negative_polarity   max_negative_polarity   title_subjectivity  \\\n",
              "count            10315.000000            10315.000000         10315.000000   \n",
              "mean                -0.489713               -0.113443             0.272804   \n",
              "std                  0.277758                0.098674             0.323743   \n",
              "min                 -1.000000               -1.000000             0.000000   \n",
              "25%                 -0.700000               -0.125000             0.000000   \n",
              "50%                 -0.500000               -0.100000             0.100000   \n",
              "75%                 -0.300000               -0.050000             0.500000   \n",
              "max                  0.000000                0.000000             1.000000   \n",
              "\n",
              "        title_sentiment_polarity   abs_title_subjectivity  \\\n",
              "count               10315.000000             10315.000000   \n",
              "mean                    0.081781                 0.348230   \n",
              "std                     0.260705                 0.187500   \n",
              "min                    -1.000000                 0.000000   \n",
              "25%                     0.000000                 0.166667   \n",
              "50%                     0.000000                 0.500000   \n",
              "75%                     0.160000                 0.500000   \n",
              "max                     1.000000                 0.500000   \n",
              "\n",
              "        abs_title_sentiment_polarity         shares  \n",
              "count                   10315.000000   10315.000000  \n",
              "mean                        0.152282    3304.013379  \n",
              "std                         0.226856   14320.624203  \n",
              "min                         0.000000       4.000000  \n",
              "25%                         0.000000     967.000000  \n",
              "50%                         0.000000    1500.000000  \n",
              "75%                         0.250000    2800.000000  \n",
              "max                         1.000000  843300.000000  "
            ],
            "text/html": [
              "\n",
              "  <div id=\"df-b997cf51-dce3-4a57-87b9-e07882ad4f36\">\n",
              "    <div class=\"colab-df-container\">\n",
              "      <div>\n",
              "<style scoped>\n",
              "    .dataframe tbody tr th:only-of-type {\n",
              "        vertical-align: middle;\n",
              "    }\n",
              "\n",
              "    .dataframe tbody tr th {\n",
              "        vertical-align: top;\n",
              "    }\n",
              "\n",
              "    .dataframe thead th {\n",
              "        text-align: right;\n",
              "    }\n",
              "</style>\n",
              "<table border=\"1\" class=\"dataframe\">\n",
              "  <thead>\n",
              "    <tr style=\"text-align: right;\">\n",
              "      <th></th>\n",
              "      <th>timedelta</th>\n",
              "      <th>n_tokens_title</th>\n",
              "      <th>n_tokens_content</th>\n",
              "      <th>n_unique_tokens</th>\n",
              "      <th>n_non_stop_words</th>\n",
              "      <th>n_non_stop_unique_tokens</th>\n",
              "      <th>num_hrefs</th>\n",
              "      <th>num_self_hrefs</th>\n",
              "      <th>num_imgs</th>\n",
              "      <th>num_videos</th>\n",
              "      <th>average_token_length</th>\n",
              "      <th>num_keywords</th>\n",
              "      <th>data_channel_is_lifestyle</th>\n",
              "      <th>data_channel_is_entertainment</th>\n",
              "      <th>data_channel_is_bus</th>\n",
              "      <th>data_channel_is_socmed</th>\n",
              "      <th>data_channel_is_tech</th>\n",
              "      <th>data_channel_is_world</th>\n",
              "      <th>kw_min_min</th>\n",
              "      <th>kw_max_min</th>\n",
              "      <th>kw_avg_min</th>\n",
              "      <th>kw_min_max</th>\n",
              "      <th>kw_max_max</th>\n",
              "      <th>kw_avg_max</th>\n",
              "      <th>kw_min_avg</th>\n",
              "      <th>kw_max_avg</th>\n",
              "      <th>kw_avg_avg</th>\n",
              "      <th>self_reference_min_shares</th>\n",
              "      <th>self_reference_max_shares</th>\n",
              "      <th>self_reference_avg_sharess</th>\n",
              "      <th>weekday_is_monday</th>\n",
              "      <th>weekday_is_tuesday</th>\n",
              "      <th>weekday_is_wednesday</th>\n",
              "      <th>weekday_is_thursday</th>\n",
              "      <th>weekday_is_friday</th>\n",
              "      <th>weekday_is_saturday</th>\n",
              "      <th>weekday_is_sunday</th>\n",
              "      <th>is_weekend</th>\n",
              "      <th>LDA_00</th>\n",
              "      <th>LDA_01</th>\n",
              "      <th>LDA_02</th>\n",
              "      <th>LDA_03</th>\n",
              "      <th>LDA_04</th>\n",
              "      <th>global_subjectivity</th>\n",
              "      <th>global_sentiment_polarity</th>\n",
              "      <th>global_rate_positive_words</th>\n",
              "      <th>global_rate_negative_words</th>\n",
              "      <th>rate_positive_words</th>\n",
              "      <th>rate_negative_words</th>\n",
              "      <th>avg_positive_polarity</th>\n",
              "      <th>min_positive_polarity</th>\n",
              "      <th>max_positive_polarity</th>\n",
              "      <th>avg_negative_polarity</th>\n",
              "      <th>min_negative_polarity</th>\n",
              "      <th>max_negative_polarity</th>\n",
              "      <th>title_subjectivity</th>\n",
              "      <th>title_sentiment_polarity</th>\n",
              "      <th>abs_title_subjectivity</th>\n",
              "      <th>abs_title_sentiment_polarity</th>\n",
              "      <th>shares</th>\n",
              "    </tr>\n",
              "  </thead>\n",
              "  <tbody>\n",
              "    <tr>\n",
              "      <th>count</th>\n",
              "      <td>10316.000000</td>\n",
              "      <td>10316.000000</td>\n",
              "      <td>10316.000000</td>\n",
              "      <td>10316.000000</td>\n",
              "      <td>10316.000000</td>\n",
              "      <td>10316.000000</td>\n",
              "      <td>10316.000000</td>\n",
              "      <td>10316.000000</td>\n",
              "      <td>10316.000000</td>\n",
              "      <td>10316.000000</td>\n",
              "      <td>10316.000000</td>\n",
              "      <td>10316.000000</td>\n",
              "      <td>10316.000000</td>\n",
              "      <td>10316.000000</td>\n",
              "      <td>10316.000000</td>\n",
              "      <td>10316.000000</td>\n",
              "      <td>10316.000000</td>\n",
              "      <td>10316.000000</td>\n",
              "      <td>10315.000000</td>\n",
              "      <td>10315.000000</td>\n",
              "      <td>10315.000000</td>\n",
              "      <td>10315.000000</td>\n",
              "      <td>10315.000000</td>\n",
              "      <td>10315.000000</td>\n",
              "      <td>10315.000000</td>\n",
              "      <td>10315.000000</td>\n",
              "      <td>10315.000000</td>\n",
              "      <td>10315.000000</td>\n",
              "      <td>10315.000000</td>\n",
              "      <td>10315.000000</td>\n",
              "      <td>10315.000000</td>\n",
              "      <td>10315.000000</td>\n",
              "      <td>10315.000000</td>\n",
              "      <td>10315.000000</td>\n",
              "      <td>10315.000000</td>\n",
              "      <td>10315.000000</td>\n",
              "      <td>10315.000000</td>\n",
              "      <td>10315.000000</td>\n",
              "      <td>10315.000000</td>\n",
              "      <td>10315.000000</td>\n",
              "      <td>10315.000000</td>\n",
              "      <td>10315.000000</td>\n",
              "      <td>10315.000000</td>\n",
              "      <td>10315.000000</td>\n",
              "      <td>10315.000000</td>\n",
              "      <td>10315.000000</td>\n",
              "      <td>10315.000000</td>\n",
              "      <td>10315.000000</td>\n",
              "      <td>10315.000000</td>\n",
              "      <td>10315.000000</td>\n",
              "      <td>10315.000000</td>\n",
              "      <td>10315.000000</td>\n",
              "      <td>10315.000000</td>\n",
              "      <td>10315.000000</td>\n",
              "      <td>10315.000000</td>\n",
              "      <td>10315.000000</td>\n",
              "      <td>10315.000000</td>\n",
              "      <td>10315.000000</td>\n",
              "      <td>10315.000000</td>\n",
              "      <td>10315.000000</td>\n",
              "    </tr>\n",
              "    <tr>\n",
              "      <th>mean</th>\n",
              "      <td>636.208317</td>\n",
              "      <td>9.764541</td>\n",
              "      <td>487.476638</td>\n",
              "      <td>0.561105</td>\n",
              "      <td>0.992148</td>\n",
              "      <td>0.704302</td>\n",
              "      <td>9.990597</td>\n",
              "      <td>3.337146</td>\n",
              "      <td>3.494281</td>\n",
              "      <td>1.222179</td>\n",
              "      <td>4.628100</td>\n",
              "      <td>7.134354</td>\n",
              "      <td>0.071830</td>\n",
              "      <td>0.158007</td>\n",
              "      <td>0.176037</td>\n",
              "      <td>0.077743</td>\n",
              "      <td>0.220240</td>\n",
              "      <td>0.135227</td>\n",
              "      <td>99.884828</td>\n",
              "      <td>1255.549297</td>\n",
              "      <td>440.942182</td>\n",
              "      <td>7744.028599</td>\n",
              "      <td>495856.752302</td>\n",
              "      <td>154178.168532</td>\n",
              "      <td>859.663012</td>\n",
              "      <td>4967.169244</td>\n",
              "      <td>2768.570741</td>\n",
              "      <td>3183.328163</td>\n",
              "      <td>7666.957441</td>\n",
              "      <td>4828.840529</td>\n",
              "      <td>0.168396</td>\n",
              "      <td>0.181483</td>\n",
              "      <td>0.192632</td>\n",
              "      <td>0.183713</td>\n",
              "      <td>0.145225</td>\n",
              "      <td>0.059719</td>\n",
              "      <td>0.068832</td>\n",
              "      <td>0.128551</td>\n",
              "      <td>0.199755</td>\n",
              "      <td>0.149300</td>\n",
              "      <td>0.175051</td>\n",
              "      <td>0.210400</td>\n",
              "      <td>0.265494</td>\n",
              "      <td>0.454909</td>\n",
              "      <td>0.134535</td>\n",
              "      <td>0.043487</td>\n",
              "      <td>0.016583</td>\n",
              "      <td>0.719789</td>\n",
              "      <td>0.272165</td>\n",
              "      <td>0.362246</td>\n",
              "      <td>0.098720</td>\n",
              "      <td>0.767819</td>\n",
              "      <td>-0.255046</td>\n",
              "      <td>-0.489713</td>\n",
              "      <td>-0.113443</td>\n",
              "      <td>0.272804</td>\n",
              "      <td>0.081781</td>\n",
              "      <td>0.348230</td>\n",
              "      <td>0.152282</td>\n",
              "      <td>3304.013379</td>\n",
              "    </tr>\n",
              "    <tr>\n",
              "      <th>std</th>\n",
              "      <td>57.400255</td>\n",
              "      <td>1.966246</td>\n",
              "      <td>408.812221</td>\n",
              "      <td>0.119334</td>\n",
              "      <td>0.088267</td>\n",
              "      <td>0.121728</td>\n",
              "      <td>10.408161</td>\n",
              "      <td>4.407716</td>\n",
              "      <td>7.682986</td>\n",
              "      <td>4.365253</td>\n",
              "      <td>0.496900</td>\n",
              "      <td>1.880373</td>\n",
              "      <td>0.258219</td>\n",
              "      <td>0.364765</td>\n",
              "      <td>0.380870</td>\n",
              "      <td>0.267780</td>\n",
              "      <td>0.414429</td>\n",
              "      <td>0.341982</td>\n",
              "      <td>106.036613</td>\n",
              "      <td>2811.335854</td>\n",
              "      <td>447.362238</td>\n",
              "      <td>46507.903693</td>\n",
              "      <td>294124.768170</td>\n",
              "      <td>122532.737128</td>\n",
              "      <td>1066.736198</td>\n",
              "      <td>5216.538923</td>\n",
              "      <td>1138.136961</td>\n",
              "      <td>19441.695067</td>\n",
              "      <td>37485.810823</td>\n",
              "      <td>23198.027082</td>\n",
              "      <td>0.374235</td>\n",
              "      <td>0.385437</td>\n",
              "      <td>0.394386</td>\n",
              "      <td>0.387269</td>\n",
              "      <td>0.352345</td>\n",
              "      <td>0.236977</td>\n",
              "      <td>0.253180</td>\n",
              "      <td>0.334718</td>\n",
              "      <td>0.272366</td>\n",
              "      <td>0.228742</td>\n",
              "      <td>0.257700</td>\n",
              "      <td>0.286468</td>\n",
              "      <td>0.308758</td>\n",
              "      <td>0.095875</td>\n",
              "      <td>0.098668</td>\n",
              "      <td>0.017166</td>\n",
              "      <td>0.011373</td>\n",
              "      <td>0.162983</td>\n",
              "      <td>0.151530</td>\n",
              "      <td>0.091508</td>\n",
              "      <td>0.070981</td>\n",
              "      <td>0.225569</td>\n",
              "      <td>0.126758</td>\n",
              "      <td>0.277758</td>\n",
              "      <td>0.098674</td>\n",
              "      <td>0.323743</td>\n",
              "      <td>0.260705</td>\n",
              "      <td>0.187500</td>\n",
              "      <td>0.226856</td>\n",
              "      <td>14320.624203</td>\n",
              "    </tr>\n",
              "    <tr>\n",
              "      <th>min</th>\n",
              "      <td>535.000000</td>\n",
              "      <td>2.000000</td>\n",
              "      <td>0.000000</td>\n",
              "      <td>0.000000</td>\n",
              "      <td>0.000000</td>\n",
              "      <td>0.000000</td>\n",
              "      <td>0.000000</td>\n",
              "      <td>0.000000</td>\n",
              "      <td>0.000000</td>\n",
              "      <td>0.000000</td>\n",
              "      <td>0.000000</td>\n",
              "      <td>1.000000</td>\n",
              "      <td>0.000000</td>\n",
              "      <td>0.000000</td>\n",
              "      <td>0.000000</td>\n",
              "      <td>0.000000</td>\n",
              "      <td>0.000000</td>\n",
              "      <td>0.000000</td>\n",
              "      <td>0.000000</td>\n",
              "      <td>0.000000</td>\n",
              "      <td>0.000000</td>\n",
              "      <td>0.000000</td>\n",
              "      <td>0.000000</td>\n",
              "      <td>0.000000</td>\n",
              "      <td>0.000000</td>\n",
              "      <td>0.000000</td>\n",
              "      <td>0.000000</td>\n",
              "      <td>0.000000</td>\n",
              "      <td>0.000000</td>\n",
              "      <td>0.000000</td>\n",
              "      <td>0.000000</td>\n",
              "      <td>0.000000</td>\n",
              "      <td>0.000000</td>\n",
              "      <td>0.000000</td>\n",
              "      <td>0.000000</td>\n",
              "      <td>0.000000</td>\n",
              "      <td>0.000000</td>\n",
              "      <td>0.000000</td>\n",
              "      <td>0.018191</td>\n",
              "      <td>0.018182</td>\n",
              "      <td>0.018182</td>\n",
              "      <td>0.018182</td>\n",
              "      <td>0.018182</td>\n",
              "      <td>0.000000</td>\n",
              "      <td>-0.377657</td>\n",
              "      <td>0.000000</td>\n",
              "      <td>0.000000</td>\n",
              "      <td>0.000000</td>\n",
              "      <td>0.000000</td>\n",
              "      <td>0.000000</td>\n",
              "      <td>0.000000</td>\n",
              "      <td>0.000000</td>\n",
              "      <td>-1.000000</td>\n",
              "      <td>-1.000000</td>\n",
              "      <td>-1.000000</td>\n",
              "      <td>0.000000</td>\n",
              "      <td>-1.000000</td>\n",
              "      <td>0.000000</td>\n",
              "      <td>0.000000</td>\n",
              "      <td>4.000000</td>\n",
              "    </tr>\n",
              "    <tr>\n",
              "      <th>25%</th>\n",
              "      <td>586.000000</td>\n",
              "      <td>8.000000</td>\n",
              "      <td>223.000000</td>\n",
              "      <td>0.488150</td>\n",
              "      <td>1.000000</td>\n",
              "      <td>0.642668</td>\n",
              "      <td>4.000000</td>\n",
              "      <td>1.000000</td>\n",
              "      <td>0.000000</td>\n",
              "      <td>0.000000</td>\n",
              "      <td>4.470216</td>\n",
              "      <td>6.000000</td>\n",
              "      <td>0.000000</td>\n",
              "      <td>0.000000</td>\n",
              "      <td>0.000000</td>\n",
              "      <td>0.000000</td>\n",
              "      <td>0.000000</td>\n",
              "      <td>0.000000</td>\n",
              "      <td>4.000000</td>\n",
              "      <td>462.000000</td>\n",
              "      <td>292.200000</td>\n",
              "      <td>0.000000</td>\n",
              "      <td>69100.000000</td>\n",
              "      <td>36018.750000</td>\n",
              "      <td>0.000000</td>\n",
              "      <td>3332.169110</td>\n",
              "      <td>2160.459801</td>\n",
              "      <td>0.000000</td>\n",
              "      <td>0.000000</td>\n",
              "      <td>0.000000</td>\n",
              "      <td>0.000000</td>\n",
              "      <td>0.000000</td>\n",
              "      <td>0.000000</td>\n",
              "      <td>0.000000</td>\n",
              "      <td>0.000000</td>\n",
              "      <td>0.000000</td>\n",
              "      <td>0.000000</td>\n",
              "      <td>0.000000</td>\n",
              "      <td>0.025251</td>\n",
              "      <td>0.025083</td>\n",
              "      <td>0.025077</td>\n",
              "      <td>0.025724</td>\n",
              "      <td>0.028663</td>\n",
              "      <td>0.403282</td>\n",
              "      <td>0.077160</td>\n",
              "      <td>0.032130</td>\n",
              "      <td>0.009259</td>\n",
              "      <td>0.636364</td>\n",
              "      <td>0.169811</td>\n",
              "      <td>0.312500</td>\n",
              "      <td>0.050000</td>\n",
              "      <td>0.600000</td>\n",
              "      <td>-0.323148</td>\n",
              "      <td>-0.700000</td>\n",
              "      <td>-0.125000</td>\n",
              "      <td>0.000000</td>\n",
              "      <td>0.000000</td>\n",
              "      <td>0.166667</td>\n",
              "      <td>0.000000</td>\n",
              "      <td>967.000000</td>\n",
              "    </tr>\n",
              "    <tr>\n",
              "      <th>50%</th>\n",
              "      <td>638.000000</td>\n",
              "      <td>10.000000</td>\n",
              "      <td>359.000000</td>\n",
              "      <td>0.560688</td>\n",
              "      <td>1.000000</td>\n",
              "      <td>0.709924</td>\n",
              "      <td>7.000000</td>\n",
              "      <td>2.000000</td>\n",
              "      <td>1.000000</td>\n",
              "      <td>0.000000</td>\n",
              "      <td>4.641985</td>\n",
              "      <td>7.000000</td>\n",
              "      <td>0.000000</td>\n",
              "      <td>0.000000</td>\n",
              "      <td>0.000000</td>\n",
              "      <td>0.000000</td>\n",
              "      <td>0.000000</td>\n",
              "      <td>0.000000</td>\n",
              "      <td>4.000000</td>\n",
              "      <td>729.000000</td>\n",
              "      <td>367.400000</td>\n",
              "      <td>0.000000</td>\n",
              "      <td>617900.000000</td>\n",
              "      <td>139460.000000</td>\n",
              "      <td>0.000000</td>\n",
              "      <td>4007.153374</td>\n",
              "      <td>2620.664639</td>\n",
              "      <td>1100.000000</td>\n",
              "      <td>2100.000000</td>\n",
              "      <td>1800.000000</td>\n",
              "      <td>0.000000</td>\n",
              "      <td>0.000000</td>\n",
              "      <td>0.000000</td>\n",
              "      <td>0.000000</td>\n",
              "      <td>0.000000</td>\n",
              "      <td>0.000000</td>\n",
              "      <td>0.000000</td>\n",
              "      <td>0.000000</td>\n",
              "      <td>0.033942</td>\n",
              "      <td>0.033384</td>\n",
              "      <td>0.033491</td>\n",
              "      <td>0.040000</td>\n",
              "      <td>0.050000</td>\n",
              "      <td>0.456975</td>\n",
              "      <td>0.133947</td>\n",
              "      <td>0.042296</td>\n",
              "      <td>0.014975</td>\n",
              "      <td>0.736842</td>\n",
              "      <td>0.260870</td>\n",
              "      <td>0.362500</td>\n",
              "      <td>0.100000</td>\n",
              "      <td>0.800000</td>\n",
              "      <td>-0.247917</td>\n",
              "      <td>-0.500000</td>\n",
              "      <td>-0.100000</td>\n",
              "      <td>0.100000</td>\n",
              "      <td>0.000000</td>\n",
              "      <td>0.500000</td>\n",
              "      <td>0.000000</td>\n",
              "      <td>1500.000000</td>\n",
              "    </tr>\n",
              "    <tr>\n",
              "      <th>75%</th>\n",
              "      <td>687.000000</td>\n",
              "      <td>11.000000</td>\n",
              "      <td>627.000000</td>\n",
              "      <td>0.633943</td>\n",
              "      <td>1.000000</td>\n",
              "      <td>0.777070</td>\n",
              "      <td>12.000000</td>\n",
              "      <td>4.000000</td>\n",
              "      <td>1.000000</td>\n",
              "      <td>1.000000</td>\n",
              "      <td>4.831863</td>\n",
              "      <td>9.000000</td>\n",
              "      <td>0.000000</td>\n",
              "      <td>0.000000</td>\n",
              "      <td>0.000000</td>\n",
              "      <td>0.000000</td>\n",
              "      <td>0.000000</td>\n",
              "      <td>0.000000</td>\n",
              "      <td>217.000000</td>\n",
              "      <td>1200.000000</td>\n",
              "      <td>480.817460</td>\n",
              "      <td>4300.000000</td>\n",
              "      <td>690400.000000</td>\n",
              "      <td>216980.000000</td>\n",
              "      <td>1798.857143</td>\n",
              "      <td>5263.146282</td>\n",
              "      <td>3226.526059</td>\n",
              "      <td>2200.000000</td>\n",
              "      <td>5600.000000</td>\n",
              "      <td>3850.000000</td>\n",
              "      <td>0.000000</td>\n",
              "      <td>0.000000</td>\n",
              "      <td>0.000000</td>\n",
              "      <td>0.000000</td>\n",
              "      <td>0.000000</td>\n",
              "      <td>0.000000</td>\n",
              "      <td>0.000000</td>\n",
              "      <td>0.000000</td>\n",
              "      <td>0.300239</td>\n",
              "      <td>0.171949</td>\n",
              "      <td>0.219708</td>\n",
              "      <td>0.314204</td>\n",
              "      <td>0.505332</td>\n",
              "      <td>0.509892</td>\n",
              "      <td>0.190947</td>\n",
              "      <td>0.053527</td>\n",
              "      <td>0.021429</td>\n",
              "      <td>0.825635</td>\n",
              "      <td>0.361574</td>\n",
              "      <td>0.413520</td>\n",
              "      <td>0.100000</td>\n",
              "      <td>1.000000</td>\n",
              "      <td>-0.179588</td>\n",
              "      <td>-0.300000</td>\n",
              "      <td>-0.050000</td>\n",
              "      <td>0.500000</td>\n",
              "      <td>0.160000</td>\n",
              "      <td>0.500000</td>\n",
              "      <td>0.250000</td>\n",
              "      <td>2800.000000</td>\n",
              "    </tr>\n",
              "    <tr>\n",
              "      <th>max</th>\n",
              "      <td>731.000000</td>\n",
              "      <td>18.000000</td>\n",
              "      <td>4979.000000</td>\n",
              "      <td>1.000000</td>\n",
              "      <td>1.000000</td>\n",
              "      <td>1.000000</td>\n",
              "      <td>171.000000</td>\n",
              "      <td>74.000000</td>\n",
              "      <td>99.000000</td>\n",
              "      <td>75.000000</td>\n",
              "      <td>6.308411</td>\n",
              "      <td>10.000000</td>\n",
              "      <td>1.000000</td>\n",
              "      <td>1.000000</td>\n",
              "      <td>1.000000</td>\n",
              "      <td>1.000000</td>\n",
              "      <td>1.000000</td>\n",
              "      <td>1.000000</td>\n",
              "      <td>377.000000</td>\n",
              "      <td>112500.000000</td>\n",
              "      <td>14348.875000</td>\n",
              "      <td>843300.000000</td>\n",
              "      <td>843300.000000</td>\n",
              "      <td>843300.000000</td>\n",
              "      <td>3437.185628</td>\n",
              "      <td>237966.666667</td>\n",
              "      <td>36717.233112</td>\n",
              "      <td>843300.000000</td>\n",
              "      <td>843300.000000</td>\n",
              "      <td>843300.000000</td>\n",
              "      <td>1.000000</td>\n",
              "      <td>1.000000</td>\n",
              "      <td>1.000000</td>\n",
              "      <td>1.000000</td>\n",
              "      <td>1.000000</td>\n",
              "      <td>1.000000</td>\n",
              "      <td>1.000000</td>\n",
              "      <td>1.000000</td>\n",
              "      <td>0.926994</td>\n",
              "      <td>0.925947</td>\n",
              "      <td>0.919999</td>\n",
              "      <td>0.919978</td>\n",
              "      <td>0.927119</td>\n",
              "      <td>1.000000</td>\n",
              "      <td>0.727841</td>\n",
              "      <td>0.152778</td>\n",
              "      <td>0.139831</td>\n",
              "      <td>1.000000</td>\n",
              "      <td>1.000000</td>\n",
              "      <td>1.000000</td>\n",
              "      <td>1.000000</td>\n",
              "      <td>1.000000</td>\n",
              "      <td>0.000000</td>\n",
              "      <td>0.000000</td>\n",
              "      <td>0.000000</td>\n",
              "      <td>1.000000</td>\n",
              "      <td>1.000000</td>\n",
              "      <td>0.500000</td>\n",
              "      <td>1.000000</td>\n",
              "      <td>843300.000000</td>\n",
              "    </tr>\n",
              "  </tbody>\n",
              "</table>\n",
              "</div>\n",
              "      <button class=\"colab-df-convert\" onclick=\"convertToInteractive('df-b997cf51-dce3-4a57-87b9-e07882ad4f36')\"\n",
              "              title=\"Convert this dataframe to an interactive table.\"\n",
              "              style=\"display:none;\">\n",
              "        \n",
              "  <svg xmlns=\"http://www.w3.org/2000/svg\" height=\"24px\"viewBox=\"0 0 24 24\"\n",
              "       width=\"24px\">\n",
              "    <path d=\"M0 0h24v24H0V0z\" fill=\"none\"/>\n",
              "    <path d=\"M18.56 5.44l.94 2.06.94-2.06 2.06-.94-2.06-.94-.94-2.06-.94 2.06-2.06.94zm-11 1L8.5 8.5l.94-2.06 2.06-.94-2.06-.94L8.5 2.5l-.94 2.06-2.06.94zm10 10l.94 2.06.94-2.06 2.06-.94-2.06-.94-.94-2.06-.94 2.06-2.06.94z\"/><path d=\"M17.41 7.96l-1.37-1.37c-.4-.4-.92-.59-1.43-.59-.52 0-1.04.2-1.43.59L10.3 9.45l-7.72 7.72c-.78.78-.78 2.05 0 2.83L4 21.41c.39.39.9.59 1.41.59.51 0 1.02-.2 1.41-.59l7.78-7.78 2.81-2.81c.8-.78.8-2.07 0-2.86zM5.41 20L4 18.59l7.72-7.72 1.47 1.35L5.41 20z\"/>\n",
              "  </svg>\n",
              "      </button>\n",
              "      \n",
              "  <style>\n",
              "    .colab-df-container {\n",
              "      display:flex;\n",
              "      flex-wrap:wrap;\n",
              "      gap: 12px;\n",
              "    }\n",
              "\n",
              "    .colab-df-convert {\n",
              "      background-color: #E8F0FE;\n",
              "      border: none;\n",
              "      border-radius: 50%;\n",
              "      cursor: pointer;\n",
              "      display: none;\n",
              "      fill: #1967D2;\n",
              "      height: 32px;\n",
              "      padding: 0 0 0 0;\n",
              "      width: 32px;\n",
              "    }\n",
              "\n",
              "    .colab-df-convert:hover {\n",
              "      background-color: #E2EBFA;\n",
              "      box-shadow: 0px 1px 2px rgba(60, 64, 67, 0.3), 0px 1px 3px 1px rgba(60, 64, 67, 0.15);\n",
              "      fill: #174EA6;\n",
              "    }\n",
              "\n",
              "    [theme=dark] .colab-df-convert {\n",
              "      background-color: #3B4455;\n",
              "      fill: #D2E3FC;\n",
              "    }\n",
              "\n",
              "    [theme=dark] .colab-df-convert:hover {\n",
              "      background-color: #434B5C;\n",
              "      box-shadow: 0px 1px 3px 1px rgba(0, 0, 0, 0.15);\n",
              "      filter: drop-shadow(0px 1px 2px rgba(0, 0, 0, 0.3));\n",
              "      fill: #FFFFFF;\n",
              "    }\n",
              "  </style>\n",
              "\n",
              "      <script>\n",
              "        const buttonEl =\n",
              "          document.querySelector('#df-b997cf51-dce3-4a57-87b9-e07882ad4f36 button.colab-df-convert');\n",
              "        buttonEl.style.display =\n",
              "          google.colab.kernel.accessAllowed ? 'block' : 'none';\n",
              "\n",
              "        async function convertToInteractive(key) {\n",
              "          const element = document.querySelector('#df-b997cf51-dce3-4a57-87b9-e07882ad4f36');\n",
              "          const dataTable =\n",
              "            await google.colab.kernel.invokeFunction('convertToInteractive',\n",
              "                                                     [key], {});\n",
              "          if (!dataTable) return;\n",
              "\n",
              "          const docLinkHtml = 'Like what you see? Visit the ' +\n",
              "            '<a target=\"_blank\" href=https://colab.research.google.com/notebooks/data_table.ipynb>data table notebook</a>'\n",
              "            + ' to learn more about interactive tables.';\n",
              "          element.innerHTML = '';\n",
              "          dataTable['output_type'] = 'display_data';\n",
              "          await google.colab.output.renderOutput(dataTable, element);\n",
              "          const docLink = document.createElement('div');\n",
              "          docLink.innerHTML = docLinkHtml;\n",
              "          element.appendChild(docLink);\n",
              "        }\n",
              "      </script>\n",
              "    </div>\n",
              "  </div>\n",
              "  "
            ]
          },
          "metadata": {},
          "execution_count": 3
        }
      ]
    },
    {
      "cell_type": "code",
      "source": [
        "df.shape"
      ],
      "metadata": {
        "colab": {
          "base_uri": "https://localhost:8080/"
        },
        "id": "qpFXotORty29",
        "outputId": "d3c74c64-9a15-456f-a345-131591953af0"
      },
      "execution_count": null,
      "outputs": [
        {
          "output_type": "execute_result",
          "data": {
            "text/plain": [
              "(10316, 61)"
            ]
          },
          "metadata": {},
          "execution_count": 4
        }
      ]
    },
    {
      "cell_type": "code",
      "source": [
        "df.info()"
      ],
      "metadata": {
        "colab": {
          "base_uri": "https://localhost:8080/"
        },
        "id": "XWEPZNYvuPb2",
        "outputId": "23d172c9-48f8-4f65-a7af-269aa5e2b828"
      },
      "execution_count": null,
      "outputs": [
        {
          "output_type": "stream",
          "name": "stdout",
          "text": [
            "<class 'pandas.core.frame.DataFrame'>\n",
            "RangeIndex: 10316 entries, 0 to 10315\n",
            "Data columns (total 61 columns):\n",
            " #   Column                          Non-Null Count  Dtype  \n",
            "---  ------                          --------------  -----  \n",
            " 0   url                             10316 non-null  object \n",
            " 1    timedelta                      10316 non-null  float64\n",
            " 2    n_tokens_title                 10316 non-null  float64\n",
            " 3    n_tokens_content               10316 non-null  float64\n",
            " 4    n_unique_tokens                10316 non-null  float64\n",
            " 5    n_non_stop_words               10316 non-null  float64\n",
            " 6    n_non_stop_unique_tokens       10316 non-null  float64\n",
            " 7    num_hrefs                      10316 non-null  float64\n",
            " 8    num_self_hrefs                 10316 non-null  float64\n",
            " 9    num_imgs                       10316 non-null  float64\n",
            " 10   num_videos                     10316 non-null  float64\n",
            " 11   average_token_length           10316 non-null  float64\n",
            " 12   num_keywords                   10316 non-null  float64\n",
            " 13   data_channel_is_lifestyle      10316 non-null  float64\n",
            " 14   data_channel_is_entertainment  10316 non-null  float64\n",
            " 15   data_channel_is_bus            10316 non-null  float64\n",
            " 16   data_channel_is_socmed         10316 non-null  float64\n",
            " 17   data_channel_is_tech           10316 non-null  float64\n",
            " 18   data_channel_is_world          10316 non-null  float64\n",
            " 19   kw_min_min                     10315 non-null  float64\n",
            " 20   kw_max_min                     10315 non-null  float64\n",
            " 21   kw_avg_min                     10315 non-null  float64\n",
            " 22   kw_min_max                     10315 non-null  float64\n",
            " 23   kw_max_max                     10315 non-null  float64\n",
            " 24   kw_avg_max                     10315 non-null  float64\n",
            " 25   kw_min_avg                     10315 non-null  float64\n",
            " 26   kw_max_avg                     10315 non-null  float64\n",
            " 27   kw_avg_avg                     10315 non-null  float64\n",
            " 28   self_reference_min_shares      10315 non-null  float64\n",
            " 29   self_reference_max_shares      10315 non-null  float64\n",
            " 30   self_reference_avg_sharess     10315 non-null  float64\n",
            " 31   weekday_is_monday              10315 non-null  float64\n",
            " 32   weekday_is_tuesday             10315 non-null  float64\n",
            " 33   weekday_is_wednesday           10315 non-null  float64\n",
            " 34   weekday_is_thursday            10315 non-null  float64\n",
            " 35   weekday_is_friday              10315 non-null  float64\n",
            " 36   weekday_is_saturday            10315 non-null  float64\n",
            " 37   weekday_is_sunday              10315 non-null  float64\n",
            " 38   is_weekend                     10315 non-null  float64\n",
            " 39   LDA_00                         10315 non-null  float64\n",
            " 40   LDA_01                         10315 non-null  float64\n",
            " 41   LDA_02                         10315 non-null  float64\n",
            " 42   LDA_03                         10315 non-null  float64\n",
            " 43   LDA_04                         10315 non-null  float64\n",
            " 44   global_subjectivity            10315 non-null  float64\n",
            " 45   global_sentiment_polarity      10315 non-null  float64\n",
            " 46   global_rate_positive_words     10315 non-null  float64\n",
            " 47   global_rate_negative_words     10315 non-null  float64\n",
            " 48   rate_positive_words            10315 non-null  float64\n",
            " 49   rate_negative_words            10315 non-null  float64\n",
            " 50   avg_positive_polarity          10315 non-null  float64\n",
            " 51   min_positive_polarity          10315 non-null  float64\n",
            " 52   max_positive_polarity          10315 non-null  float64\n",
            " 53   avg_negative_polarity          10315 non-null  float64\n",
            " 54   min_negative_polarity          10315 non-null  float64\n",
            " 55   max_negative_polarity          10315 non-null  float64\n",
            " 56   title_subjectivity             10315 non-null  float64\n",
            " 57   title_sentiment_polarity       10315 non-null  float64\n",
            " 58   abs_title_subjectivity         10315 non-null  float64\n",
            " 59   abs_title_sentiment_polarity   10315 non-null  float64\n",
            " 60   shares                         10315 non-null  float64\n",
            "dtypes: float64(60), object(1)\n",
            "memory usage: 4.8+ MB\n"
          ]
        }
      ]
    },
    {
      "cell_type": "code",
      "source": [
        "df.isna().sum()"
      ],
      "metadata": {
        "colab": {
          "base_uri": "https://localhost:8080/"
        },
        "id": "KzP26Pdp3UX9",
        "outputId": "ef5221c9-4833-414f-9739-633248e23f08"
      },
      "execution_count": null,
      "outputs": [
        {
          "output_type": "execute_result",
          "data": {
            "text/plain": [
              "url                              0\n",
              " timedelta                       0\n",
              " n_tokens_title                  0\n",
              " n_tokens_content                0\n",
              " n_unique_tokens                 0\n",
              "                                ..\n",
              " title_subjectivity              1\n",
              " title_sentiment_polarity        1\n",
              " abs_title_subjectivity          1\n",
              " abs_title_sentiment_polarity    1\n",
              " shares                          1\n",
              "Length: 61, dtype: int64"
            ]
          },
          "metadata": {},
          "execution_count": 12
        }
      ]
    },
    {
      "cell_type": "code",
      "source": [
        "df.dropna(inplace=True)"
      ],
      "metadata": {
        "id": "od5gKIbD3Xqg"
      },
      "execution_count": null,
      "outputs": []
    },
    {
      "cell_type": "code",
      "source": [
        "counts, bins = np.histogram(df[' shares'])\n",
        "\n",
        "plt.hist(bins[:-1], bins, weights=counts)\n"
      ],
      "metadata": {
        "colab": {
          "base_uri": "https://localhost:8080/",
          "height": 371
        },
        "id": "5IIwi_8CvBLY",
        "outputId": "dc6edbfc-0803-4724-dd84-56d26110ae5a"
      },
      "execution_count": null,
      "outputs": [
        {
          "output_type": "execute_result",
          "data": {
            "text/plain": [
              "(array([1.0301e+04, 7.0000e+00, 3.0000e+00, 1.0000e+00, 0.0000e+00,\n",
              "        0.0000e+00, 0.0000e+00, 1.0000e+00, 1.0000e+00, 1.0000e+00]),\n",
              " array([4.000000e+00, 8.433360e+04, 1.686632e+05, 2.529928e+05,\n",
              "        3.373224e+05, 4.216520e+05, 5.059816e+05, 5.903112e+05,\n",
              "        6.746408e+05, 7.589704e+05, 8.433000e+05]),\n",
              " <a list of 10 Patch objects>)"
            ]
          },
          "metadata": {},
          "execution_count": 14
        },
        {
          "output_type": "display_data",
          "data": {
            "text/plain": [
              "<Figure size 432x288 with 1 Axes>"
            ],
            "image/png": "[encoded data removed]"
          },
          "metadata": {
            "needs_background": "light"
          }
        }
      ]
    },
    {
      "cell_type": "code",
      "source": [
        "plt.boxplot(df[' shares']) "
      ],
      "metadata": {
        "colab": {
          "base_uri": "https://localhost:8080/",
          "height": 407
        },
        "id": "LIwRxMtuxXqW",
        "outputId": "7bf9d841-ee53-4f2a-bb79-367959a8dcd4"
      },
      "execution_count": null,
      "outputs": [
        {
          "output_type": "execute_result",
          "data": {
            "text/plain": [
              "{'whiskers': [<matplotlib.lines.Line2D at 0x7f278d77bbd0>,\n",
              "  <matplotlib.lines.Line2D at 0x7f278d780150>],\n",
              " 'caps': [<matplotlib.lines.Line2D at 0x7f278d780690>,\n",
              "  <matplotlib.lines.Line2D at 0x7f278d780bd0>],\n",
              " 'boxes': [<matplotlib.lines.Line2D at 0x7f278d77b690>],\n",
              " 'medians': [<matplotlib.lines.Line2D at 0x7f278d787190>],\n",
              " 'fliers': [<matplotlib.lines.Line2D at 0x7f278d7876d0>],\n",
              " 'means': []}"
            ]
          },
          "metadata": {},
          "execution_count": 15
        },
        {
          "output_type": "display_data",
          "data": {
            "text/plain": [
              "<Figure size 432x288 with 1 Axes>"
            ],
            "image/png": "[encoded data removed]"
          },
          "metadata": {
            "needs_background": "light"
          }
        }
      ]
    },
    {
      "cell_type": "markdown",
      "source": [
        "The 75% of the samples have shares lower than 2800 and from the graphs above, there are some outliers with shares, so we excluded the samples with shares more than 30000.\n"
      ],
      "metadata": {
        "id": "llooEAjHxjFS"
      }
    },
    {
      "cell_type": "code",
      "source": [
        "#df1=df[df[' shares']<3000]\n",
        "#df1.describe()\n",
        "df1 = df"
      ],
      "metadata": {
        "id": "V9fosL5qx1Ez"
      },
      "execution_count": null,
      "outputs": []
    },
    {
      "cell_type": "code",
      "source": [
        "df2=df1.drop(['url',' timedelta'],axis=1) # deleteing unnessary columns"
      ],
      "metadata": {
        "id": "_8gfI1aIy1QO"
      },
      "execution_count": null,
      "outputs": []
    },
    {
      "cell_type": "code",
      "source": [
        "df2[' shares'].median()\n",
        "df2.head()"
      ],
      "metadata": {
        "colab": {
          "base_uri": "https://localhost:8080/",
          "height": 270
        },
        "id": "cnlplyChu9aT",
        "outputId": "9449ecc7-a3a0-4d84-e0ed-08bf3de44dc7"
      },
      "execution_count": null,
      "outputs": [
        {
          "output_type": "execute_result",
          "data": {
            "text/plain": [
              "    n_tokens_title   n_tokens_content   n_unique_tokens   n_non_stop_words  \\\n",
              "0             12.0              219.0          0.663594                1.0   \n",
              "1              9.0              255.0          0.604743                1.0   \n",
              "2              9.0              211.0          0.575130                1.0   \n",
              "3              9.0              531.0          0.503788                1.0   \n",
              "4             13.0             1072.0          0.415646                1.0   \n",
              "\n",
              "    n_non_stop_unique_tokens   num_hrefs   num_self_hrefs   num_imgs  \\\n",
              "0                   0.815385         4.0              2.0        1.0   \n",
              "1                   0.791946         3.0              1.0        1.0   \n",
              "2                   0.663866         3.0              1.0        1.0   \n",
              "3                   0.665635         9.0              0.0        1.0   \n",
              "4                   0.540890        19.0             19.0       20.0   \n",
              "\n",
              "    num_videos   average_token_length   num_keywords  \\\n",
              "0          0.0               4.680365            5.0   \n",
              "1          0.0               4.913725            4.0   \n",
              "2          0.0               4.393365            6.0   \n",
              "3          0.0               4.404896            7.0   \n",
              "4          0.0               4.682836            7.0   \n",
              "\n",
              "    data_channel_is_lifestyle   data_channel_is_entertainment  \\\n",
              "0                         0.0                             1.0   \n",
              "1                         0.0                             0.0   \n",
              "2                         0.0                             0.0   \n",
              "3                         0.0                             1.0   \n",
              "4                         0.0                             0.0   \n",
              "\n",
              "    data_channel_is_bus   data_channel_is_socmed   data_channel_is_tech  \\\n",
              "0                   0.0                      0.0                    0.0   \n",
              "1                   1.0                      0.0                    0.0   \n",
              "2                   1.0                      0.0                    0.0   \n",
              "3                   0.0                      0.0                    0.0   \n",
              "4                   0.0                      0.0                    1.0   \n",
              "\n",
              "    data_channel_is_world   kw_min_min   kw_max_min   kw_avg_min   kw_min_max  \\\n",
              "0                     0.0          0.0          0.0          0.0          0.0   \n",
              "1                     0.0          0.0          0.0          0.0          0.0   \n",
              "2                     0.0          0.0          0.0          0.0          0.0   \n",
              "3                     0.0          0.0          0.0          0.0          0.0   \n",
              "4                     0.0          0.0          0.0          0.0          0.0   \n",
              "\n",
              "    kw_max_max   kw_avg_max   kw_min_avg   kw_max_avg   kw_avg_avg  \\\n",
              "0          0.0          0.0          0.0          0.0          0.0   \n",
              "1          0.0          0.0          0.0          0.0          0.0   \n",
              "2          0.0          0.0          0.0          0.0          0.0   \n",
              "3          0.0          0.0          0.0          0.0          0.0   \n",
              "4          0.0          0.0          0.0          0.0          0.0   \n",
              "\n",
              "    self_reference_min_shares   self_reference_max_shares  \\\n",
              "0                       496.0                       496.0   \n",
              "1                         0.0                         0.0   \n",
              "2                       918.0                       918.0   \n",
              "3                         0.0                         0.0   \n",
              "4                       545.0                     16000.0   \n",
              "\n",
              "    self_reference_avg_sharess   weekday_is_monday   weekday_is_tuesday  \\\n",
              "0                   496.000000                 1.0                  0.0   \n",
              "1                     0.000000                 1.0                  0.0   \n",
              "2                   918.000000                 1.0                  0.0   \n",
              "3                     0.000000                 1.0                  0.0   \n",
              "4                  3151.157895                 1.0                  0.0   \n",
              "\n",
              "    weekday_is_wednesday   weekday_is_thursday   weekday_is_friday  \\\n",
              "0                    0.0                   0.0                 0.0   \n",
              "1                    0.0                   0.0                 0.0   \n",
              "2                    0.0                   0.0                 0.0   \n",
              "3                    0.0                   0.0                 0.0   \n",
              "4                    0.0                   0.0                 0.0   \n",
              "\n",
              "    weekday_is_saturday   weekday_is_sunday   is_weekend    LDA_00    LDA_01  \\\n",
              "0                   0.0                 0.0          0.0  0.500331  0.378279   \n",
              "1                   0.0                 0.0          0.0  0.799756  0.050047   \n",
              "2                   0.0                 0.0          0.0  0.217792  0.033334   \n",
              "3                   0.0                 0.0          0.0  0.028573  0.419300   \n",
              "4                   0.0                 0.0          0.0  0.028633  0.028794   \n",
              "\n",
              "     LDA_02    LDA_03    LDA_04   global_subjectivity  \\\n",
              "0  0.040005  0.041263  0.040123              0.521617   \n",
              "1  0.050096  0.050101  0.050001              0.341246   \n",
              "2  0.033351  0.033334  0.682188              0.702222   \n",
              "3  0.494651  0.028905  0.028572              0.429850   \n",
              "4  0.028575  0.028572  0.885427              0.513502   \n",
              "\n",
              "    global_sentiment_polarity   global_rate_positive_words  \\\n",
              "0                    0.092562                     0.045662   \n",
              "1                    0.148948                     0.043137   \n",
              "2                    0.323333                     0.056872   \n",
              "3                    0.100705                     0.041431   \n",
              "4                    0.281003                     0.074627   \n",
              "\n",
              "    global_rate_negative_words   rate_positive_words   rate_negative_words  \\\n",
              "0                     0.013699              0.769231              0.230769   \n",
              "1                     0.015686              0.733333              0.266667   \n",
              "2                     0.009479              0.857143              0.142857   \n",
              "3                     0.020716              0.666667              0.333333   \n",
              "4                     0.012127              0.860215              0.139785   \n",
              "\n",
              "    avg_positive_polarity   min_positive_polarity   max_positive_polarity  \\\n",
              "0                0.378636                0.100000                     0.7   \n",
              "1                0.286915                0.033333                     0.7   \n",
              "2                0.495833                0.100000                     1.0   \n",
              "3                0.385965                0.136364                     0.8   \n",
              "4                0.411127                0.033333                     1.0   \n",
              "\n",
              "    avg_negative_polarity   min_negative_polarity   max_negative_polarity  \\\n",
              "0               -0.350000                  -0.600               -0.200000   \n",
              "1               -0.118750                  -0.125               -0.100000   \n",
              "2               -0.466667                  -0.800               -0.133333   \n",
              "3               -0.369697                  -0.600               -0.166667   \n",
              "4               -0.220192                  -0.500               -0.050000   \n",
              "\n",
              "    title_subjectivity   title_sentiment_polarity   abs_title_subjectivity  \\\n",
              "0             0.500000                  -0.187500                 0.000000   \n",
              "1             0.000000                   0.000000                 0.500000   \n",
              "2             0.000000                   0.000000                 0.500000   \n",
              "3             0.000000                   0.000000                 0.500000   \n",
              "4             0.454545                   0.136364                 0.045455   \n",
              "\n",
              "    abs_title_sentiment_polarity   shares  \n",
              "0                       0.187500    593.0  \n",
              "1                       0.000000    711.0  \n",
              "2                       0.000000   1500.0  \n",
              "3                       0.000000   1200.0  \n",
              "4                       0.136364    505.0  "
            ],
            "text/html": [
              "\n",
              "  <div id=\"df-d0211b26-73d0-43d9-998b-cb87692ba4ba\">\n",
              "    <div class=\"colab-df-container\">\n",
              "      <div>\n",
              "<style scoped>\n",
              "    .dataframe tbody tr th:only-of-type {\n",
              "        vertical-align: middle;\n",
              "    }\n",
              "\n",
              "    .dataframe tbody tr th {\n",
              "        vertical-align: top;\n",
              "    }\n",
              "\n",
              "    .dataframe thead th {\n",
              "        text-align: right;\n",
              "    }\n",
              "</style>\n",
              "<table border=\"1\" class=\"dataframe\">\n",
              "  <thead>\n",
              "    <tr style=\"text-align: right;\">\n",
              "      <th></th>\n",
              "      <th>n_tokens_title</th>\n",
              "      <th>n_tokens_content</th>\n",
              "      <th>n_unique_tokens</th>\n",
              "      <th>n_non_stop_words</th>\n",
              "      <th>n_non_stop_unique_tokens</th>\n",
              "      <th>num_hrefs</th>\n",
              "      <th>num_self_hrefs</th>\n",
              "      <th>num_imgs</th>\n",
              "      <th>num_videos</th>\n",
              "      <th>average_token_length</th>\n",
              "      <th>num_keywords</th>\n",
              "      <th>data_channel_is_lifestyle</th>\n",
              "      <th>data_channel_is_entertainment</th>\n",
              "      <th>data_channel_is_bus</th>\n",
              "      <th>data_channel_is_socmed</th>\n",
              "      <th>data_channel_is_tech</th>\n",
              "      <th>data_channel_is_world</th>\n",
              "      <th>kw_min_min</th>\n",
              "      <th>kw_max_min</th>\n",
              "      <th>kw_avg_min</th>\n",
              "      <th>kw_min_max</th>\n",
              "      <th>kw_max_max</th>\n",
              "      <th>kw_avg_max</th>\n",
              "      <th>kw_min_avg</th>\n",
              "      <th>kw_max_avg</th>\n",
              "      <th>kw_avg_avg</th>\n",
              "      <th>self_reference_min_shares</th>\n",
              "      <th>self_reference_max_shares</th>\n",
              "      <th>self_reference_avg_sharess</th>\n",
              "      <th>weekday_is_monday</th>\n",
              "      <th>weekday_is_tuesday</th>\n",
              "      <th>weekday_is_wednesday</th>\n",
              "      <th>weekday_is_thursday</th>\n",
              "      <th>weekday_is_friday</th>\n",
              "      <th>weekday_is_saturday</th>\n",
              "      <th>weekday_is_sunday</th>\n",
              "      <th>is_weekend</th>\n",
              "      <th>LDA_00</th>\n",
              "      <th>LDA_01</th>\n",
              "      <th>LDA_02</th>\n",
              "      <th>LDA_03</th>\n",
              "      <th>LDA_04</th>\n",
              "      <th>global_subjectivity</th>\n",
              "      <th>global_sentiment_polarity</th>\n",
              "      <th>global_rate_positive_words</th>\n",
              "      <th>global_rate_negative_words</th>\n",
              "      <th>rate_positive_words</th>\n",
              "      <th>rate_negative_words</th>\n",
              "      <th>avg_positive_polarity</th>\n",
              "      <th>min_positive_polarity</th>\n",
              "      <th>max_positive_polarity</th>\n",
              "      <th>avg_negative_polarity</th>\n",
              "      <th>min_negative_polarity</th>\n",
              "      <th>max_negative_polarity</th>\n",
              "      <th>title_subjectivity</th>\n",
              "      <th>title_sentiment_polarity</th>\n",
              "      <th>abs_title_subjectivity</th>\n",
              "      <th>abs_title_sentiment_polarity</th>\n",
              "      <th>shares</th>\n",
              "    </tr>\n",
              "  </thead>\n",
              "  <tbody>\n",
              "    <tr>\n",
              "      <th>0</th>\n",
              "      <td>12.0</td>\n",
              "      <td>219.0</td>\n",
              "      <td>0.663594</td>\n",
              "      <td>1.0</td>\n",
              "      <td>0.815385</td>\n",
              "      <td>4.0</td>\n",
              "      <td>2.0</td>\n",
              "      <td>1.0</td>\n",
              "      <td>0.0</td>\n",
              "      <td>4.680365</td>\n",
              "      <td>5.0</td>\n",
              "      <td>0.0</td>\n",
              "      <td>1.0</td>\n",
              "      <td>0.0</td>\n",
              "      <td>0.0</td>\n",
              "      <td>0.0</td>\n",
              "      <td>0.0</td>\n",
              "      <td>0.0</td>\n",
              "      <td>0.0</td>\n",
              "      <td>0.0</td>\n",
              "      <td>0.0</td>\n",
              "      <td>0.0</td>\n",
              "      <td>0.0</td>\n",
              "      <td>0.0</td>\n",
              "      <td>0.0</td>\n",
              "      <td>0.0</td>\n",
              "      <td>496.0</td>\n",
              "      <td>496.0</td>\n",
              "      <td>496.000000</td>\n",
              "      <td>1.0</td>\n",
              "      <td>0.0</td>\n",
              "      <td>0.0</td>\n",
              "      <td>0.0</td>\n",
              "      <td>0.0</td>\n",
              "      <td>0.0</td>\n",
              "      <td>0.0</td>\n",
              "      <td>0.0</td>\n",
              "      <td>0.500331</td>\n",
              "      <td>0.378279</td>\n",
              "      <td>0.040005</td>\n",
              "      <td>0.041263</td>\n",
              "      <td>0.040123</td>\n",
              "      <td>0.521617</td>\n",
              "      <td>0.092562</td>\n",
              "      <td>0.045662</td>\n",
              "      <td>0.013699</td>\n",
              "      <td>0.769231</td>\n",
              "      <td>0.230769</td>\n",
              "      <td>0.378636</td>\n",
              "      <td>0.100000</td>\n",
              "      <td>0.7</td>\n",
              "      <td>-0.350000</td>\n",
              "      <td>-0.600</td>\n",
              "      <td>-0.200000</td>\n",
              "      <td>0.500000</td>\n",
              "      <td>-0.187500</td>\n",
              "      <td>0.000000</td>\n",
              "      <td>0.187500</td>\n",
              "      <td>593.0</td>\n",
              "    </tr>\n",
              "    <tr>\n",
              "      <th>1</th>\n",
              "      <td>9.0</td>\n",
              "      <td>255.0</td>\n",
              "      <td>0.604743</td>\n",
              "      <td>1.0</td>\n",
              "      <td>0.791946</td>\n",
              "      <td>3.0</td>\n",
              "      <td>1.0</td>\n",
              "      <td>1.0</td>\n",
              "      <td>0.0</td>\n",
              "      <td>4.913725</td>\n",
              "      <td>4.0</td>\n",
              "      <td>0.0</td>\n",
              "      <td>0.0</td>\n",
              "      <td>1.0</td>\n",
              "      <td>0.0</td>\n",
              "      <td>0.0</td>\n",
              "      <td>0.0</td>\n",
              "      <td>0.0</td>\n",
              "      <td>0.0</td>\n",
              "      <td>0.0</td>\n",
              "      <td>0.0</td>\n",
              "      <td>0.0</td>\n",
              "      <td>0.0</td>\n",
              "      <td>0.0</td>\n",
              "      <td>0.0</td>\n",
              "      <td>0.0</td>\n",
              "      <td>0.0</td>\n",
              "      <td>0.0</td>\n",
              "      <td>0.000000</td>\n",
              "      <td>1.0</td>\n",
              "      <td>0.0</td>\n",
              "      <td>0.0</td>\n",
              "      <td>0.0</td>\n",
              "      <td>0.0</td>\n",
              "      <td>0.0</td>\n",
              "      <td>0.0</td>\n",
              "      <td>0.0</td>\n",
              "      <td>0.799756</td>\n",
              "      <td>0.050047</td>\n",
              "      <td>0.050096</td>\n",
              "      <td>0.050101</td>\n",
              "      <td>0.050001</td>\n",
              "      <td>0.341246</td>\n",
              "      <td>0.148948</td>\n",
              "      <td>0.043137</td>\n",
              "      <td>0.015686</td>\n",
              "      <td>0.733333</td>\n",
              "      <td>0.266667</td>\n",
              "      <td>0.286915</td>\n",
              "      <td>0.033333</td>\n",
              "      <td>0.7</td>\n",
              "      <td>-0.118750</td>\n",
              "      <td>-0.125</td>\n",
              "      <td>-0.100000</td>\n",
              "      <td>0.000000</td>\n",
              "      <td>0.000000</td>\n",
              "      <td>0.500000</td>\n",
              "      <td>0.000000</td>\n",
              "      <td>711.0</td>\n",
              "    </tr>\n",
              "    <tr>\n",
              "      <th>2</th>\n",
              "      <td>9.0</td>\n",
              "      <td>211.0</td>\n",
              "      <td>0.575130</td>\n",
              "      <td>1.0</td>\n",
              "      <td>0.663866</td>\n",
              "      <td>3.0</td>\n",
              "      <td>1.0</td>\n",
              "      <td>1.0</td>\n",
              "      <td>0.0</td>\n",
              "      <td>4.393365</td>\n",
              "      <td>6.0</td>\n",
              "      <td>0.0</td>\n",
              "      <td>0.0</td>\n",
              "      <td>1.0</td>\n",
              "      <td>0.0</td>\n",
              "      <td>0.0</td>\n",
              "      <td>0.0</td>\n",
              "      <td>0.0</td>\n",
              "      <td>0.0</td>\n",
              "      <td>0.0</td>\n",
              "      <td>0.0</td>\n",
              "      <td>0.0</td>\n",
              "      <td>0.0</td>\n",
              "      <td>0.0</td>\n",
              "      <td>0.0</td>\n",
              "      <td>0.0</td>\n",
              "      <td>918.0</td>\n",
              "      <td>918.0</td>\n",
              "      <td>918.000000</td>\n",
              "      <td>1.0</td>\n",
              "      <td>0.0</td>\n",
              "      <td>0.0</td>\n",
              "      <td>0.0</td>\n",
              "      <td>0.0</td>\n",
              "      <td>0.0</td>\n",
              "      <td>0.0</td>\n",
              "      <td>0.0</td>\n",
              "      <td>0.217792</td>\n",
              "      <td>0.033334</td>\n",
              "      <td>0.033351</td>\n",
              "      <td>0.033334</td>\n",
              "      <td>0.682188</td>\n",
              "      <td>0.702222</td>\n",
              "      <td>0.323333</td>\n",
              "      <td>0.056872</td>\n",
              "      <td>0.009479</td>\n",
              "      <td>0.857143</td>\n",
              "      <td>0.142857</td>\n",
              "      <td>0.495833</td>\n",
              "      <td>0.100000</td>\n",
              "      <td>1.0</td>\n",
              "      <td>-0.466667</td>\n",
              "      <td>-0.800</td>\n",
              "      <td>-0.133333</td>\n",
              "      <td>0.000000</td>\n",
              "      <td>0.000000</td>\n",
              "      <td>0.500000</td>\n",
              "      <td>0.000000</td>\n",
              "      <td>1500.0</td>\n",
              "    </tr>\n",
              "    <tr>\n",
              "      <th>3</th>\n",
              "      <td>9.0</td>\n",
              "      <td>531.0</td>\n",
              "      <td>0.503788</td>\n",
              "      <td>1.0</td>\n",
              "      <td>0.665635</td>\n",
              "      <td>9.0</td>\n",
              "      <td>0.0</td>\n",
              "      <td>1.0</td>\n",
              "      <td>0.0</td>\n",
              "      <td>4.404896</td>\n",
              "      <td>7.0</td>\n",
              "      <td>0.0</td>\n",
              "      <td>1.0</td>\n",
              "      <td>0.0</td>\n",
              "      <td>0.0</td>\n",
              "      <td>0.0</td>\n",
              "      <td>0.0</td>\n",
              "      <td>0.0</td>\n",
              "      <td>0.0</td>\n",
              "      <td>0.0</td>\n",
              "      <td>0.0</td>\n",
              "      <td>0.0</td>\n",
              "      <td>0.0</td>\n",
              "      <td>0.0</td>\n",
              "      <td>0.0</td>\n",
              "      <td>0.0</td>\n",
              "      <td>0.0</td>\n",
              "      <td>0.0</td>\n",
              "      <td>0.000000</td>\n",
              "      <td>1.0</td>\n",
              "      <td>0.0</td>\n",
              "      <td>0.0</td>\n",
              "      <td>0.0</td>\n",
              "      <td>0.0</td>\n",
              "      <td>0.0</td>\n",
              "      <td>0.0</td>\n",
              "      <td>0.0</td>\n",
              "      <td>0.028573</td>\n",
              "      <td>0.419300</td>\n",
              "      <td>0.494651</td>\n",
              "      <td>0.028905</td>\n",
              "      <td>0.028572</td>\n",
              "      <td>0.429850</td>\n",
              "      <td>0.100705</td>\n",
              "      <td>0.041431</td>\n",
              "      <td>0.020716</td>\n",
              "      <td>0.666667</td>\n",
              "      <td>0.333333</td>\n",
              "      <td>0.385965</td>\n",
              "      <td>0.136364</td>\n",
              "      <td>0.8</td>\n",
              "      <td>-0.369697</td>\n",
              "      <td>-0.600</td>\n",
              "      <td>-0.166667</td>\n",
              "      <td>0.000000</td>\n",
              "      <td>0.000000</td>\n",
              "      <td>0.500000</td>\n",
              "      <td>0.000000</td>\n",
              "      <td>1200.0</td>\n",
              "    </tr>\n",
              "    <tr>\n",
              "      <th>4</th>\n",
              "      <td>13.0</td>\n",
              "      <td>1072.0</td>\n",
              "      <td>0.415646</td>\n",
              "      <td>1.0</td>\n",
              "      <td>0.540890</td>\n",
              "      <td>19.0</td>\n",
              "      <td>19.0</td>\n",
              "      <td>20.0</td>\n",
              "      <td>0.0</td>\n",
              "      <td>4.682836</td>\n",
              "      <td>7.0</td>\n",
              "      <td>0.0</td>\n",
              "      <td>0.0</td>\n",
              "      <td>0.0</td>\n",
              "      <td>0.0</td>\n",
              "      <td>1.0</td>\n",
              "      <td>0.0</td>\n",
              "      <td>0.0</td>\n",
              "      <td>0.0</td>\n",
              "      <td>0.0</td>\n",
              "      <td>0.0</td>\n",
              "      <td>0.0</td>\n",
              "      <td>0.0</td>\n",
              "      <td>0.0</td>\n",
              "      <td>0.0</td>\n",
              "      <td>0.0</td>\n",
              "      <td>545.0</td>\n",
              "      <td>16000.0</td>\n",
              "      <td>3151.157895</td>\n",
              "      <td>1.0</td>\n",
              "      <td>0.0</td>\n",
              "      <td>0.0</td>\n",
              "      <td>0.0</td>\n",
              "      <td>0.0</td>\n",
              "      <td>0.0</td>\n",
              "      <td>0.0</td>\n",
              "      <td>0.0</td>\n",
              "      <td>0.028633</td>\n",
              "      <td>0.028794</td>\n",
              "      <td>0.028575</td>\n",
              "      <td>0.028572</td>\n",
              "      <td>0.885427</td>\n",
              "      <td>0.513502</td>\n",
              "      <td>0.281003</td>\n",
              "      <td>0.074627</td>\n",
              "      <td>0.012127</td>\n",
              "      <td>0.860215</td>\n",
              "      <td>0.139785</td>\n",
              "      <td>0.411127</td>\n",
              "      <td>0.033333</td>\n",
              "      <td>1.0</td>\n",
              "      <td>-0.220192</td>\n",
              "      <td>-0.500</td>\n",
              "      <td>-0.050000</td>\n",
              "      <td>0.454545</td>\n",
              "      <td>0.136364</td>\n",
              "      <td>0.045455</td>\n",
              "      <td>0.136364</td>\n",
              "      <td>505.0</td>\n",
              "    </tr>\n",
              "  </tbody>\n",
              "</table>\n",
              "</div>\n",
              "      <button class=\"colab-df-convert\" onclick=\"convertToInteractive('df-d0211b26-73d0-43d9-998b-cb87692ba4ba')\"\n",
              "              title=\"Convert this dataframe to an interactive table.\"\n",
              "              style=\"display:none;\">\n",
              "        \n",
              "  <svg xmlns=\"http://www.w3.org/2000/svg\" height=\"24px\"viewBox=\"0 0 24 24\"\n",
              "       width=\"24px\">\n",
              "    <path d=\"M0 0h24v24H0V0z\" fill=\"none\"/>\n",
              "    <path d=\"M18.56 5.44l.94 2.06.94-2.06 2.06-.94-2.06-.94-.94-2.06-.94 2.06-2.06.94zm-11 1L8.5 8.5l.94-2.06 2.06-.94-2.06-.94L8.5 2.5l-.94 2.06-2.06.94zm10 10l.94 2.06.94-2.06 2.06-.94-2.06-.94-.94-2.06-.94 2.06-2.06.94z\"/><path d=\"M17.41 7.96l-1.37-1.37c-.4-.4-.92-.59-1.43-.59-.52 0-1.04.2-1.43.59L10.3 9.45l-7.72 7.72c-.78.78-.78 2.05 0 2.83L4 21.41c.39.39.9.59 1.41.59.51 0 1.02-.2 1.41-.59l7.78-7.78 2.81-2.81c.8-.78.8-2.07 0-2.86zM5.41 20L4 18.59l7.72-7.72 1.47 1.35L5.41 20z\"/>\n",
              "  </svg>\n",
              "      </button>\n",
              "      \n",
              "  <style>\n",
              "    .colab-df-container {\n",
              "      display:flex;\n",
              "      flex-wrap:wrap;\n",
              "      gap: 12px;\n",
              "    }\n",
              "\n",
              "    .colab-df-convert {\n",
              "      background-color: #E8F0FE;\n",
              "      border: none;\n",
              "      border-radius: 50%;\n",
              "      cursor: pointer;\n",
              "      display: none;\n",
              "      fill: #1967D2;\n",
              "      height: 32px;\n",
              "      padding: 0 0 0 0;\n",
              "      width: 32px;\n",
              "    }\n",
              "\n",
              "    .colab-df-convert:hover {\n",
              "      background-color: #E2EBFA;\n",
              "      box-shadow: 0px 1px 2px rgba(60, 64, 67, 0.3), 0px 1px 3px 1px rgba(60, 64, 67, 0.15);\n",
              "      fill: #174EA6;\n",
              "    }\n",
              "\n",
              "    [theme=dark] .colab-df-convert {\n",
              "      background-color: #3B4455;\n",
              "      fill: #D2E3FC;\n",
              "    }\n",
              "\n",
              "    [theme=dark] .colab-df-convert:hover {\n",
              "      background-color: #434B5C;\n",
              "      box-shadow: 0px 1px 3px 1px rgba(0, 0, 0, 0.15);\n",
              "      filter: drop-shadow(0px 1px 2px rgba(0, 0, 0, 0.3));\n",
              "      fill: #FFFFFF;\n",
              "    }\n",
              "  </style>\n",
              "\n",
              "      <script>\n",
              "        const buttonEl =\n",
              "          document.querySelector('#df-d0211b26-73d0-43d9-998b-cb87692ba4ba button.colab-df-convert');\n",
              "        buttonEl.style.display =\n",
              "          google.colab.kernel.accessAllowed ? 'block' : 'none';\n",
              "\n",
              "        async function convertToInteractive(key) {\n",
              "          const element = document.querySelector('#df-d0211b26-73d0-43d9-998b-cb87692ba4ba');\n",
              "          const dataTable =\n",
              "            await google.colab.kernel.invokeFunction('convertToInteractive',\n",
              "                                                     [key], {});\n",
              "          if (!dataTable) return;\n",
              "\n",
              "          const docLinkHtml = 'Like what you see? Visit the ' +\n",
              "            '<a target=\"_blank\" href=https://colab.research.google.com/notebooks/data_table.ipynb>data table notebook</a>'\n",
              "            + ' to learn more about interactive tables.';\n",
              "          element.innerHTML = '';\n",
              "          dataTable['output_type'] = 'display_data';\n",
              "          await google.colab.output.renderOutput(dataTable, element);\n",
              "          const docLink = document.createElement('div');\n",
              "          docLink.innerHTML = docLinkHtml;\n",
              "          element.appendChild(docLink);\n",
              "        }\n",
              "      </script>\n",
              "    </div>\n",
              "  </div>\n",
              "  "
            ]
          },
          "metadata": {},
          "execution_count": 19
        }
      ]
    },
    {
      "cell_type": "code",
      "source": [
        "# Dividing the shares into 2 types by median to create the classification machine learnining model\n",
        "\n",
        "def assign_y(row):\n",
        "  if row[' shares']<=1400:\n",
        "    y=0\n",
        "  else :\n",
        "    y=1 \n",
        "  return y\n",
        "\n",
        "df3 = df2\n",
        "df3['y'] = df3.apply (lambda row: assign_y(row), axis=1)\n",
        "df4 = df3.drop([' shares'],axis=1)\n",
        "\n",
        "df4.head()"
      ],
      "metadata": {
        "colab": {
          "base_uri": "https://localhost:8080/",
          "height": 270
        },
        "id": "2mlIerMKzWOS",
        "outputId": "74d5e4bd-389d-40b5-a774-e48d2b1c0510"
      },
      "execution_count": null,
      "outputs": [
        {
          "output_type": "execute_result",
          "data": {
            "text/plain": [
              "    n_tokens_title   n_tokens_content   n_unique_tokens   n_non_stop_words  \\\n",
              "0             12.0              219.0          0.663594                1.0   \n",
              "1              9.0              255.0          0.604743                1.0   \n",
              "2              9.0              211.0          0.575130                1.0   \n",
              "3              9.0              531.0          0.503788                1.0   \n",
              "4             13.0             1072.0          0.415646                1.0   \n",
              "\n",
              "    n_non_stop_unique_tokens   num_hrefs   num_self_hrefs   num_imgs  \\\n",
              "0                   0.815385         4.0              2.0        1.0   \n",
              "1                   0.791946         3.0              1.0        1.0   \n",
              "2                   0.663866         3.0              1.0        1.0   \n",
              "3                   0.665635         9.0              0.0        1.0   \n",
              "4                   0.540890        19.0             19.0       20.0   \n",
              "\n",
              "    num_videos   average_token_length   num_keywords  \\\n",
              "0          0.0               4.680365            5.0   \n",
              "1          0.0               4.913725            4.0   \n",
              "2          0.0               4.393365            6.0   \n",
              "3          0.0               4.404896            7.0   \n",
              "4          0.0               4.682836            7.0   \n",
              "\n",
              "    data_channel_is_lifestyle   data_channel_is_entertainment  \\\n",
              "0                         0.0                             1.0   \n",
              "1                         0.0                             0.0   \n",
              "2                         0.0                             0.0   \n",
              "3                         0.0                             1.0   \n",
              "4                         0.0                             0.0   \n",
              "\n",
              "    data_channel_is_bus   data_channel_is_socmed   data_channel_is_tech  \\\n",
              "0                   0.0                      0.0                    0.0   \n",
              "1                   1.0                      0.0                    0.0   \n",
              "2                   1.0                      0.0                    0.0   \n",
              "3                   0.0                      0.0                    0.0   \n",
              "4                   0.0                      0.0                    1.0   \n",
              "\n",
              "    data_channel_is_world   kw_min_min   kw_max_min   kw_avg_min   kw_min_max  \\\n",
              "0                     0.0          0.0          0.0          0.0          0.0   \n",
              "1                     0.0          0.0          0.0          0.0          0.0   \n",
              "2                     0.0          0.0          0.0          0.0          0.0   \n",
              "3                     0.0          0.0          0.0          0.0          0.0   \n",
              "4                     0.0          0.0          0.0          0.0          0.0   \n",
              "\n",
              "    kw_max_max   kw_avg_max   kw_min_avg   kw_max_avg   kw_avg_avg  \\\n",
              "0          0.0          0.0          0.0          0.0          0.0   \n",
              "1          0.0          0.0          0.0          0.0          0.0   \n",
              "2          0.0          0.0          0.0          0.0          0.0   \n",
              "3          0.0          0.0          0.0          0.0          0.0   \n",
              "4          0.0          0.0          0.0          0.0          0.0   \n",
              "\n",
              "    self_reference_min_shares   self_reference_max_shares  \\\n",
              "0                       496.0                       496.0   \n",
              "1                         0.0                         0.0   \n",
              "2                       918.0                       918.0   \n",
              "3                         0.0                         0.0   \n",
              "4                       545.0                     16000.0   \n",
              "\n",
              "    self_reference_avg_sharess   weekday_is_monday   weekday_is_tuesday  \\\n",
              "0                   496.000000                 1.0                  0.0   \n",
              "1                     0.000000                 1.0                  0.0   \n",
              "2                   918.000000                 1.0                  0.0   \n",
              "3                     0.000000                 1.0                  0.0   \n",
              "4                  3151.157895                 1.0                  0.0   \n",
              "\n",
              "    weekday_is_wednesday   weekday_is_thursday   weekday_is_friday  \\\n",
              "0                    0.0                   0.0                 0.0   \n",
              "1                    0.0                   0.0                 0.0   \n",
              "2                    0.0                   0.0                 0.0   \n",
              "3                    0.0                   0.0                 0.0   \n",
              "4                    0.0                   0.0                 0.0   \n",
              "\n",
              "    weekday_is_saturday   weekday_is_sunday   is_weekend    LDA_00    LDA_01  \\\n",
              "0                   0.0                 0.0          0.0  0.500331  0.378279   \n",
              "1                   0.0                 0.0          0.0  0.799756  0.050047   \n",
              "2                   0.0                 0.0          0.0  0.217792  0.033334   \n",
              "3                   0.0                 0.0          0.0  0.028573  0.419300   \n",
              "4                   0.0                 0.0          0.0  0.028633  0.028794   \n",
              "\n",
              "     LDA_02    LDA_03    LDA_04   global_subjectivity  \\\n",
              "0  0.040005  0.041263  0.040123              0.521617   \n",
              "1  0.050096  0.050101  0.050001              0.341246   \n",
              "2  0.033351  0.033334  0.682188              0.702222   \n",
              "3  0.494651  0.028905  0.028572              0.429850   \n",
              "4  0.028575  0.028572  0.885427              0.513502   \n",
              "\n",
              "    global_sentiment_polarity   global_rate_positive_words  \\\n",
              "0                    0.092562                     0.045662   \n",
              "1                    0.148948                     0.043137   \n",
              "2                    0.323333                     0.056872   \n",
              "3                    0.100705                     0.041431   \n",
              "4                    0.281003                     0.074627   \n",
              "\n",
              "    global_rate_negative_words   rate_positive_words   rate_negative_words  \\\n",
              "0                     0.013699              0.769231              0.230769   \n",
              "1                     0.015686              0.733333              0.266667   \n",
              "2                     0.009479              0.857143              0.142857   \n",
              "3                     0.020716              0.666667              0.333333   \n",
              "4                     0.012127              0.860215              0.139785   \n",
              "\n",
              "    avg_positive_polarity   min_positive_polarity   max_positive_polarity  \\\n",
              "0                0.378636                0.100000                     0.7   \n",
              "1                0.286915                0.033333                     0.7   \n",
              "2                0.495833                0.100000                     1.0   \n",
              "3                0.385965                0.136364                     0.8   \n",
              "4                0.411127                0.033333                     1.0   \n",
              "\n",
              "    avg_negative_polarity   min_negative_polarity   max_negative_polarity  \\\n",
              "0               -0.350000                  -0.600               -0.200000   \n",
              "1               -0.118750                  -0.125               -0.100000   \n",
              "2               -0.466667                  -0.800               -0.133333   \n",
              "3               -0.369697                  -0.600               -0.166667   \n",
              "4               -0.220192                  -0.500               -0.050000   \n",
              "\n",
              "    title_subjectivity   title_sentiment_polarity   abs_title_subjectivity  \\\n",
              "0             0.500000                  -0.187500                 0.000000   \n",
              "1             0.000000                   0.000000                 0.500000   \n",
              "2             0.000000                   0.000000                 0.500000   \n",
              "3             0.000000                   0.000000                 0.500000   \n",
              "4             0.454545                   0.136364                 0.045455   \n",
              "\n",
              "    abs_title_sentiment_polarity  y  \n",
              "0                       0.187500  0  \n",
              "1                       0.000000  0  \n",
              "2                       0.000000  1  \n",
              "3                       0.000000  0  \n",
              "4                       0.136364  0  "
            ],
            "text/html": [
              "\n",
              "  <div id=\"df-aaeb5922-3a6f-4d4c-8932-aad4681a603f\">\n",
              "    <div class=\"colab-df-container\">\n",
              "      <div>\n",
              "<style scoped>\n",
              "    .dataframe tbody tr th:only-of-type {\n",
              "        vertical-align: middle;\n",
              "    }\n",
              "\n",
              "    .dataframe tbody tr th {\n",
              "        vertical-align: top;\n",
              "    }\n",
              "\n",
              "    .dataframe thead th {\n",
              "        text-align: right;\n",
              "    }\n",
              "</style>\n",
              "<table border=\"1\" class=\"dataframe\">\n",
              "  <thead>\n",
              "    <tr style=\"text-align: right;\">\n",
              "      <th></th>\n",
              "      <th>n_tokens_title</th>\n",
              "      <th>n_tokens_content</th>\n",
              "      <th>n_unique_tokens</th>\n",
              "      <th>n_non_stop_words</th>\n",
              "      <th>n_non_stop_unique_tokens</th>\n",
              "      <th>num_hrefs</th>\n",
              "      <th>num_self_hrefs</th>\n",
              "      <th>num_imgs</th>\n",
              "      <th>num_videos</th>\n",
              "      <th>average_token_length</th>\n",
              "      <th>num_keywords</th>\n",
              "      <th>data_channel_is_lifestyle</th>\n",
              "      <th>data_channel_is_entertainment</th>\n",
              "      <th>data_channel_is_bus</th>\n",
              "      <th>data_channel_is_socmed</th>\n",
              "      <th>data_channel_is_tech</th>\n",
              "      <th>data_channel_is_world</th>\n",
              "      <th>kw_min_min</th>\n",
              "      <th>kw_max_min</th>\n",
              "      <th>kw_avg_min</th>\n",
              "      <th>kw_min_max</th>\n",
              "      <th>kw_max_max</th>\n",
              "      <th>kw_avg_max</th>\n",
              "      <th>kw_min_avg</th>\n",
              "      <th>kw_max_avg</th>\n",
              "      <th>kw_avg_avg</th>\n",
              "      <th>self_reference_min_shares</th>\n",
              "      <th>self_reference_max_shares</th>\n",
              "      <th>self_reference_avg_sharess</th>\n",
              "      <th>weekday_is_monday</th>\n",
              "      <th>weekday_is_tuesday</th>\n",
              "      <th>weekday_is_wednesday</th>\n",
              "      <th>weekday_is_thursday</th>\n",
              "      <th>weekday_is_friday</th>\n",
              "      <th>weekday_is_saturday</th>\n",
              "      <th>weekday_is_sunday</th>\n",
              "      <th>is_weekend</th>\n",
              "      <th>LDA_00</th>\n",
              "      <th>LDA_01</th>\n",
              "      <th>LDA_02</th>\n",
              "      <th>LDA_03</th>\n",
              "      <th>LDA_04</th>\n",
              "      <th>global_subjectivity</th>\n",
              "      <th>global_sentiment_polarity</th>\n",
              "      <th>global_rate_positive_words</th>\n",
              "      <th>global_rate_negative_words</th>\n",
              "      <th>rate_positive_words</th>\n",
              "      <th>rate_negative_words</th>\n",
              "      <th>avg_positive_polarity</th>\n",
              "      <th>min_positive_polarity</th>\n",
              "      <th>max_positive_polarity</th>\n",
              "      <th>avg_negative_polarity</th>\n",
              "      <th>min_negative_polarity</th>\n",
              "      <th>max_negative_polarity</th>\n",
              "      <th>title_subjectivity</th>\n",
              "      <th>title_sentiment_polarity</th>\n",
              "      <th>abs_title_subjectivity</th>\n",
              "      <th>abs_title_sentiment_polarity</th>\n",
              "      <th>y</th>\n",
              "    </tr>\n",
              "  </thead>\n",
              "  <tbody>\n",
              "    <tr>\n",
              "      <th>0</th>\n",
              "      <td>12.0</td>\n",
              "      <td>219.0</td>\n",
              "      <td>0.663594</td>\n",
              "      <td>1.0</td>\n",
              "      <td>0.815385</td>\n",
              "      <td>4.0</td>\n",
              "      <td>2.0</td>\n",
              "      <td>1.0</td>\n",
              "      <td>0.0</td>\n",
              "      <td>4.680365</td>\n",
              "      <td>5.0</td>\n",
              "      <td>0.0</td>\n",
              "      <td>1.0</td>\n",
              "      <td>0.0</td>\n",
              "      <td>0.0</td>\n",
              "      <td>0.0</td>\n",
              "      <td>0.0</td>\n",
              "      <td>0.0</td>\n",
              "      <td>0.0</td>\n",
              "      <td>0.0</td>\n",
              "      <td>0.0</td>\n",
              "      <td>0.0</td>\n",
              "      <td>0.0</td>\n",
              "      <td>0.0</td>\n",
              "      <td>0.0</td>\n",
              "      <td>0.0</td>\n",
              "      <td>496.0</td>\n",
              "      <td>496.0</td>\n",
              "      <td>496.000000</td>\n",
              "      <td>1.0</td>\n",
              "      <td>0.0</td>\n",
              "      <td>0.0</td>\n",
              "      <td>0.0</td>\n",
              "      <td>0.0</td>\n",
              "      <td>0.0</td>\n",
              "      <td>0.0</td>\n",
              "      <td>0.0</td>\n",
              "      <td>0.500331</td>\n",
              "      <td>0.378279</td>\n",
              "      <td>0.040005</td>\n",
              "      <td>0.041263</td>\n",
              "      <td>0.040123</td>\n",
              "      <td>0.521617</td>\n",
              "      <td>0.092562</td>\n",
              "      <td>0.045662</td>\n",
              "      <td>0.013699</td>\n",
              "      <td>0.769231</td>\n",
              "      <td>0.230769</td>\n",
              "      <td>0.378636</td>\n",
              "      <td>0.100000</td>\n",
              "      <td>0.7</td>\n",
              "      <td>-0.350000</td>\n",
              "      <td>-0.600</td>\n",
              "      <td>-0.200000</td>\n",
              "      <td>0.500000</td>\n",
              "      <td>-0.187500</td>\n",
              "      <td>0.000000</td>\n",
              "      <td>0.187500</td>\n",
              "      <td>0</td>\n",
              "    </tr>\n",
              "    <tr>\n",
              "      <th>1</th>\n",
              "      <td>9.0</td>\n",
              "      <td>255.0</td>\n",
              "      <td>0.604743</td>\n",
              "      <td>1.0</td>\n",
              "      <td>0.791946</td>\n",
              "      <td>3.0</td>\n",
              "      <td>1.0</td>\n",
              "      <td>1.0</td>\n",
              "      <td>0.0</td>\n",
              "      <td>4.913725</td>\n",
              "      <td>4.0</td>\n",
              "      <td>0.0</td>\n",
              "      <td>0.0</td>\n",
              "      <td>1.0</td>\n",
              "      <td>0.0</td>\n",
              "      <td>0.0</td>\n",
              "      <td>0.0</td>\n",
              "      <td>0.0</td>\n",
              "      <td>0.0</td>\n",
              "      <td>0.0</td>\n",
              "      <td>0.0</td>\n",
              "      <td>0.0</td>\n",
              "      <td>0.0</td>\n",
              "      <td>0.0</td>\n",
              "      <td>0.0</td>\n",
              "      <td>0.0</td>\n",
              "      <td>0.0</td>\n",
              "      <td>0.0</td>\n",
              "      <td>0.000000</td>\n",
              "      <td>1.0</td>\n",
              "      <td>0.0</td>\n",
              "      <td>0.0</td>\n",
              "      <td>0.0</td>\n",
              "      <td>0.0</td>\n",
              "      <td>0.0</td>\n",
              "      <td>0.0</td>\n",
              "      <td>0.0</td>\n",
              "      <td>0.799756</td>\n",
              "      <td>0.050047</td>\n",
              "      <td>0.050096</td>\n",
              "      <td>0.050101</td>\n",
              "      <td>0.050001</td>\n",
              "      <td>0.341246</td>\n",
              "      <td>0.148948</td>\n",
              "      <td>0.043137</td>\n",
              "      <td>0.015686</td>\n",
              "      <td>0.733333</td>\n",
              "      <td>0.266667</td>\n",
              "      <td>0.286915</td>\n",
              "      <td>0.033333</td>\n",
              "      <td>0.7</td>\n",
              "      <td>-0.118750</td>\n",
              "      <td>-0.125</td>\n",
              "      <td>-0.100000</td>\n",
              "      <td>0.000000</td>\n",
              "      <td>0.000000</td>\n",
              "      <td>0.500000</td>\n",
              "      <td>0.000000</td>\n",
              "      <td>0</td>\n",
              "    </tr>\n",
              "    <tr>\n",
              "      <th>2</th>\n",
              "      <td>9.0</td>\n",
              "      <td>211.0</td>\n",
              "      <td>0.575130</td>\n",
              "      <td>1.0</td>\n",
              "      <td>0.663866</td>\n",
              "      <td>3.0</td>\n",
              "      <td>1.0</td>\n",
              "      <td>1.0</td>\n",
              "      <td>0.0</td>\n",
              "      <td>4.393365</td>\n",
              "      <td>6.0</td>\n",
              "      <td>0.0</td>\n",
              "      <td>0.0</td>\n",
              "      <td>1.0</td>\n",
              "      <td>0.0</td>\n",
              "      <td>0.0</td>\n",
              "      <td>0.0</td>\n",
              "      <td>0.0</td>\n",
              "      <td>0.0</td>\n",
              "      <td>0.0</td>\n",
              "      <td>0.0</td>\n",
              "      <td>0.0</td>\n",
              "      <td>0.0</td>\n",
              "      <td>0.0</td>\n",
              "      <td>0.0</td>\n",
              "      <td>0.0</td>\n",
              "      <td>918.0</td>\n",
              "      <td>918.0</td>\n",
              "      <td>918.000000</td>\n",
              "      <td>1.0</td>\n",
              "      <td>0.0</td>\n",
              "      <td>0.0</td>\n",
              "      <td>0.0</td>\n",
              "      <td>0.0</td>\n",
              "      <td>0.0</td>\n",
              "      <td>0.0</td>\n",
              "      <td>0.0</td>\n",
              "      <td>0.217792</td>\n",
              "      <td>0.033334</td>\n",
              "      <td>0.033351</td>\n",
              "      <td>0.033334</td>\n",
              "      <td>0.682188</td>\n",
              "      <td>0.702222</td>\n",
              "      <td>0.323333</td>\n",
              "      <td>0.056872</td>\n",
              "      <td>0.009479</td>\n",
              "      <td>0.857143</td>\n",
              "      <td>0.142857</td>\n",
              "      <td>0.495833</td>\n",
              "      <td>0.100000</td>\n",
              "      <td>1.0</td>\n",
              "      <td>-0.466667</td>\n",
              "      <td>-0.800</td>\n",
              "      <td>-0.133333</td>\n",
              "      <td>0.000000</td>\n",
              "      <td>0.000000</td>\n",
              "      <td>0.500000</td>\n",
              "      <td>0.000000</td>\n",
              "      <td>1</td>\n",
              "    </tr>\n",
              "    <tr>\n",
              "      <th>3</th>\n",
              "      <td>9.0</td>\n",
              "      <td>531.0</td>\n",
              "      <td>0.503788</td>\n",
              "      <td>1.0</td>\n",
              "      <td>0.665635</td>\n",
              "      <td>9.0</td>\n",
              "      <td>0.0</td>\n",
              "      <td>1.0</td>\n",
              "      <td>0.0</td>\n",
              "      <td>4.404896</td>\n",
              "      <td>7.0</td>\n",
              "      <td>0.0</td>\n",
              "      <td>1.0</td>\n",
              "      <td>0.0</td>\n",
              "      <td>0.0</td>\n",
              "      <td>0.0</td>\n",
              "      <td>0.0</td>\n",
              "      <td>0.0</td>\n",
              "      <td>0.0</td>\n",
              "      <td>0.0</td>\n",
              "      <td>0.0</td>\n",
              "      <td>0.0</td>\n",
              "      <td>0.0</td>\n",
              "      <td>0.0</td>\n",
              "      <td>0.0</td>\n",
              "      <td>0.0</td>\n",
              "      <td>0.0</td>\n",
              "      <td>0.0</td>\n",
              "      <td>0.000000</td>\n",
              "      <td>1.0</td>\n",
              "      <td>0.0</td>\n",
              "      <td>0.0</td>\n",
              "      <td>0.0</td>\n",
              "      <td>0.0</td>\n",
              "      <td>0.0</td>\n",
              "      <td>0.0</td>\n",
              "      <td>0.0</td>\n",
              "      <td>0.028573</td>\n",
              "      <td>0.419300</td>\n",
              "      <td>0.494651</td>\n",
              "      <td>0.028905</td>\n",
              "      <td>0.028572</td>\n",
              "      <td>0.429850</td>\n",
              "      <td>0.100705</td>\n",
              "      <td>0.041431</td>\n",
              "      <td>0.020716</td>\n",
              "      <td>0.666667</td>\n",
              "      <td>0.333333</td>\n",
              "      <td>0.385965</td>\n",
              "      <td>0.136364</td>\n",
              "      <td>0.8</td>\n",
              "      <td>-0.369697</td>\n",
              "      <td>-0.600</td>\n",
              "      <td>-0.166667</td>\n",
              "      <td>0.000000</td>\n",
              "      <td>0.000000</td>\n",
              "      <td>0.500000</td>\n",
              "      <td>0.000000</td>\n",
              "      <td>0</td>\n",
              "    </tr>\n",
              "    <tr>\n",
              "      <th>4</th>\n",
              "      <td>13.0</td>\n",
              "      <td>1072.0</td>\n",
              "      <td>0.415646</td>\n",
              "      <td>1.0</td>\n",
              "      <td>0.540890</td>\n",
              "      <td>19.0</td>\n",
              "      <td>19.0</td>\n",
              "      <td>20.0</td>\n",
              "      <td>0.0</td>\n",
              "      <td>4.682836</td>\n",
              "      <td>7.0</td>\n",
              "      <td>0.0</td>\n",
              "      <td>0.0</td>\n",
              "      <td>0.0</td>\n",
              "      <td>0.0</td>\n",
              "      <td>1.0</td>\n",
              "      <td>0.0</td>\n",
              "      <td>0.0</td>\n",
              "      <td>0.0</td>\n",
              "      <td>0.0</td>\n",
              "      <td>0.0</td>\n",
              "      <td>0.0</td>\n",
              "      <td>0.0</td>\n",
              "      <td>0.0</td>\n",
              "      <td>0.0</td>\n",
              "      <td>0.0</td>\n",
              "      <td>545.0</td>\n",
              "      <td>16000.0</td>\n",
              "      <td>3151.157895</td>\n",
              "      <td>1.0</td>\n",
              "      <td>0.0</td>\n",
              "      <td>0.0</td>\n",
              "      <td>0.0</td>\n",
              "      <td>0.0</td>\n",
              "      <td>0.0</td>\n",
              "      <td>0.0</td>\n",
              "      <td>0.0</td>\n",
              "      <td>0.028633</td>\n",
              "      <td>0.028794</td>\n",
              "      <td>0.028575</td>\n",
              "      <td>0.028572</td>\n",
              "      <td>0.885427</td>\n",
              "      <td>0.513502</td>\n",
              "      <td>0.281003</td>\n",
              "      <td>0.074627</td>\n",
              "      <td>0.012127</td>\n",
              "      <td>0.860215</td>\n",
              "      <td>0.139785</td>\n",
              "      <td>0.411127</td>\n",
              "      <td>0.033333</td>\n",
              "      <td>1.0</td>\n",
              "      <td>-0.220192</td>\n",
              "      <td>-0.500</td>\n",
              "      <td>-0.050000</td>\n",
              "      <td>0.454545</td>\n",
              "      <td>0.136364</td>\n",
              "      <td>0.045455</td>\n",
              "      <td>0.136364</td>\n",
              "      <td>0</td>\n",
              "    </tr>\n",
              "  </tbody>\n",
              "</table>\n",
              "</div>\n",
              "      <button class=\"colab-df-convert\" onclick=\"convertToInteractive('df-aaeb5922-3a6f-4d4c-8932-aad4681a603f')\"\n",
              "              title=\"Convert this dataframe to an interactive table.\"\n",
              "              style=\"display:none;\">\n",
              "        \n",
              "  <svg xmlns=\"http://www.w3.org/2000/svg\" height=\"24px\"viewBox=\"0 0 24 24\"\n",
              "       width=\"24px\">\n",
              "    <path d=\"M0 0h24v24H0V0z\" fill=\"none\"/>\n",
              "    <path d=\"M18.56 5.44l.94 2.06.94-2.06 2.06-.94-2.06-.94-.94-2.06-.94 2.06-2.06.94zm-11 1L8.5 8.5l.94-2.06 2.06-.94-2.06-.94L8.5 2.5l-.94 2.06-2.06.94zm10 10l.94 2.06.94-2.06 2.06-.94-2.06-.94-.94-2.06-.94 2.06-2.06.94z\"/><path d=\"M17.41 7.96l-1.37-1.37c-.4-.4-.92-.59-1.43-.59-.52 0-1.04.2-1.43.59L10.3 9.45l-7.72 7.72c-.78.78-.78 2.05 0 2.83L4 21.41c.39.39.9.59 1.41.59.51 0 1.02-.2 1.41-.59l7.78-7.78 2.81-2.81c.8-.78.8-2.07 0-2.86zM5.41 20L4 18.59l7.72-7.72 1.47 1.35L5.41 20z\"/>\n",
              "  </svg>\n",
              "      </button>\n",
              "      \n",
              "  <style>\n",
              "    .colab-df-container {\n",
              "      display:flex;\n",
              "      flex-wrap:wrap;\n",
              "      gap: 12px;\n",
              "    }\n",
              "\n",
              "    .colab-df-convert {\n",
              "      background-color: #E8F0FE;\n",
              "      border: none;\n",
              "      border-radius: 50%;\n",
              "      cursor: pointer;\n",
              "      display: none;\n",
              "      fill: #1967D2;\n",
              "      height: 32px;\n",
              "      padding: 0 0 0 0;\n",
              "      width: 32px;\n",
              "    }\n",
              "\n",
              "    .colab-df-convert:hover {\n",
              "      background-color: #E2EBFA;\n",
              "      box-shadow: 0px 1px 2px rgba(60, 64, 67, 0.3), 0px 1px 3px 1px rgba(60, 64, 67, 0.15);\n",
              "      fill: #174EA6;\n",
              "    }\n",
              "\n",
              "    [theme=dark] .colab-df-convert {\n",
              "      background-color: #3B4455;\n",
              "      fill: #D2E3FC;\n",
              "    }\n",
              "\n",
              "    [theme=dark] .colab-df-convert:hover {\n",
              "      background-color: #434B5C;\n",
              "      box-shadow: 0px 1px 3px 1px rgba(0, 0, 0, 0.15);\n",
              "      filter: drop-shadow(0px 1px 2px rgba(0, 0, 0, 0.3));\n",
              "      fill: #FFFFFF;\n",
              "    }\n",
              "  </style>\n",
              "\n",
              "      <script>\n",
              "        const buttonEl =\n",
              "          document.querySelector('#df-aaeb5922-3a6f-4d4c-8932-aad4681a603f button.colab-df-convert');\n",
              "        buttonEl.style.display =\n",
              "          google.colab.kernel.accessAllowed ? 'block' : 'none';\n",
              "\n",
              "        async function convertToInteractive(key) {\n",
              "          const element = document.querySelector('#df-aaeb5922-3a6f-4d4c-8932-aad4681a603f');\n",
              "          const dataTable =\n",
              "            await google.colab.kernel.invokeFunction('convertToInteractive',\n",
              "                                                     [key], {});\n",
              "          if (!dataTable) return;\n",
              "\n",
              "          const docLinkHtml = 'Like what you see? Visit the ' +\n",
              "            '<a target=\"_blank\" href=https://colab.research.google.com/notebooks/data_table.ipynb>data table notebook</a>'\n",
              "            + ' to learn more about interactive tables.';\n",
              "          element.innerHTML = '';\n",
              "          dataTable['output_type'] = 'display_data';\n",
              "          await google.colab.output.renderOutput(dataTable, element);\n",
              "          const docLink = document.createElement('div');\n",
              "          docLink.innerHTML = docLinkHtml;\n",
              "          element.appendChild(docLink);\n",
              "        }\n",
              "      </script>\n",
              "    </div>\n",
              "  </div>\n",
              "  "
            ]
          },
          "metadata": {},
          "execution_count": 20
        }
      ]
    },
    {
      "cell_type": "code",
      "source": [
        "print('Raw: ', df.shape)\n",
        "print('Cleaned: ', df4.shape)"
      ],
      "metadata": {
        "colab": {
          "base_uri": "https://localhost:8080/"
        },
        "id": "195na1WZdTVz",
        "outputId": "b8aa8f45-5d85-4bae-9df3-6384dc389090"
      },
      "execution_count": null,
      "outputs": [
        {
          "output_type": "stream",
          "name": "stdout",
          "text": [
            "Raw:  (10315, 61)\n",
            "Cleaned:  (10315, 59)\n"
          ]
        }
      ]
    },
    {
      "cell_type": "code",
      "source": [
        "lifestyle = sum(df4[' data_channel_is_lifestyle'])\n",
        "entertainment = sum(df4[' data_channel_is_entertainment'])\n",
        "business = sum(df4[' data_channel_is_bus'])\n",
        "social_media = sum(df4[' data_channel_is_socmed'])\n",
        "tech = sum(df4[' data_channel_is_tech'])\n",
        "world = sum(df4[' data_channel_is_world'])\n",
        "other = df4[df4[' data_channel_is_lifestyle'] == 0]\n",
        "post_type = {'lifestyle': lifestyle, 'entertainment': entertainment, 'business': business, 'social_media': social_media, 'tech': tech, 'world': world}\n",
        "\n",
        "df = df[df[' n_tokens_content'] != 0]\n",
        "\n",
        "pt = list(post_type.keys())\n",
        "values = list(post_type.values())\n",
        "  \n",
        "fig = plt.figure(figsize = (10, 5))\n",
        " \n",
        "# creating the bar plot\n",
        "plt.bar(pt, values, color ='deepskyblue', width = 0.5)\n",
        " \n",
        "plt.xlabel(\"Type\")\n",
        "plt.ylabel(\"The number of post\")\n",
        "plt.title(\"Type of posts\")\n",
        "plt.show()"
      ],
      "metadata": {
        "colab": {
          "base_uri": "https://localhost:8080/",
          "height": 351
        },
        "id": "hxToTeRVn16r",
        "outputId": "84702c65-2d69-4ce6-d30f-f108357ff784"
      },
      "execution_count": null,
      "outputs": [
        {
          "output_type": "display_data",
          "data": {
            "text/plain": [
              "<Figure size 720x360 with 1 Axes>"
            ],
            "image/png": "[encoded data removed]"
          },
          "metadata": {
            "needs_background": "light"
          }
        }
      ]
    },
    {
      "cell_type": "code",
      "source": [
        "Mon = sum(df4[' weekday_is_monday'])\n",
        "Tue = sum(df4[' weekday_is_tuesday'])\n",
        "Wed = sum(df4[' weekday_is_wednesday'])\n",
        "Thu = sum(df4[' weekday_is_thursday'])\n",
        "Fri = sum(df4[' weekday_is_friday'])\n",
        "Sat = sum(df4[' weekday_is_saturday'])\n",
        "Sun = sum(df4[' weekday_is_sunday'])\n",
        "\n",
        "Day = {'Mon': Mon, 'Tue': Tue, 'Wed': Wed, 'Thu': Thu, 'Fri': Fri, 'Sat': Sat, 'Sun': Sun}\n",
        "\n",
        "\n",
        "\n",
        "days = list(Day.keys())\n",
        "values = list(Day.values())\n",
        "  \n",
        "fig = plt.figure(figsize = (10, 5))\n",
        " \n",
        "# creating the bar plot\n",
        "plt.bar(days, values, color ='salmon', width = 0.5)\n",
        " \n",
        "plt.xlabel(\"Day\")\n",
        "plt.ylabel(\"The number of post\")\n",
        "plt.title(\"Day posted in week\")\n",
        "plt.show()"
      ],
      "metadata": {
        "colab": {
          "base_uri": "https://localhost:8080/",
          "height": 350
        },
        "id": "Ayjok5eun6CC",
        "outputId": "13f7f718-cf2d-4b88-c605-1784ef8ee7bb"
      },
      "execution_count": null,
      "outputs": [
        {
          "output_type": "display_data",
          "data": {
            "text/plain": [
              "<Figure size 720x360 with 1 Axes>"
            ],
            "image/png": "[encoded data removed]"
          },
          "metadata": {
            "needs_background": "light"
          }
        }
      ]
    },
    {
      "cell_type": "code",
      "source": [
        "Y=df4['y'].values\n",
        "X=df4[df4.columns.drop(['y'])].values\n",
        "X_train, X_test, y_train, y_test = train_test_split(X, Y, test_size=0.3, stratify=Y,random_state=123) # 70% training and 30% test"
      ],
      "metadata": {
        "id": "MW155X-s2FXL"
      },
      "execution_count": null,
      "outputs": []
    },
    {
      "cell_type": "code",
      "source": [
        "df4['y'].value_counts()"
      ],
      "metadata": {
        "colab": {
          "base_uri": "https://localhost:8080/"
        },
        "id": "Pt0Vd-S_4NDQ",
        "outputId": "7a74f9fb-42d1-474e-b3c4-d8d982d75187"
      },
      "execution_count": null,
      "outputs": [
        {
          "output_type": "execute_result",
          "data": {
            "text/plain": [
              "1    5423\n",
              "0    4892\n",
              "Name: y, dtype: int64"
            ]
          },
          "metadata": {},
          "execution_count": 31
        }
      ]
    },
    {
      "cell_type": "code",
      "source": [],
      "metadata": {
        "id": "AwoKZ-qw7Mg8"
      },
      "execution_count": null,
      "outputs": []
    },
    {
      "cell_type": "markdown",
      "source": [
        "# **Decision Tree Classifier**"
      ],
      "metadata": {
        "id": "eseSsd1M9TlE"
      }
    },
    {
      "cell_type": "code",
      "source": [
        "from sklearn.tree import DecisionTreeClassifier\n",
        "clf = DecisionTreeClassifier(criterion='gini', splitter='best', max_depth=None, max_features=None, \n",
        "                             )\n",
        "clf.fit(X_train,y_train)"
      ],
      "metadata": {
        "colab": {
          "base_uri": "https://localhost:8080/"
        },
        "id": "EFEtIF6S4X_y",
        "outputId": "c6fbbcb5-068f-45b9-b280-cd05f113217f"
      },
      "execution_count": null,
      "outputs": [
        {
          "output_type": "execute_result",
          "data": {
            "text/plain": [
              "DecisionTreeClassifier()"
            ]
          },
          "metadata": {},
          "execution_count": 37
        }
      ]
    },
    {
      "cell_type": "code",
      "source": [
        "pred=clf.predict(X_test)"
      ],
      "metadata": {
        "id": "VZuGtit95MG3"
      },
      "execution_count": null,
      "outputs": []
    },
    {
      "cell_type": "code",
      "source": [
        "from sklearn.metrics import classification_report\n",
        "print(classification_report(y_test, pred))"
      ],
      "metadata": {
        "colab": {
          "base_uri": "https://localhost:8080/"
        },
        "id": "FH4zAwBS5bml",
        "outputId": "0bf73753-2263-4234-9103-567e0e0261ce"
      },
      "execution_count": null,
      "outputs": [
        {
          "output_type": "stream",
          "name": "stdout",
          "text": [
            "              precision    recall  f1-score   support\n",
            "\n",
            "           0       0.54      0.52      0.53      1468\n",
            "           1       0.58      0.59      0.59      1627\n",
            "\n",
            "    accuracy                           0.56      3095\n",
            "   macro avg       0.56      0.56      0.56      3095\n",
            "weighted avg       0.56      0.56      0.56      3095\n",
            "\n"
          ]
        }
      ]
    },
    {
      "cell_type": "code",
      "source": [
        "param_grid = {'criterion':['gini','entropy'],'splitter':['best','random'],'max_depth': [ 3,  4,  5,  6,  7,  8,  9, 10, 11, 12, 13, 14],'max_features':[\"auto\", \"sqrt\", \"log2\"]}"
      ],
      "metadata": {
        "id": "wL-q_WqS7QGX"
      },
      "execution_count": null,
      "outputs": []
    },
    {
      "cell_type": "code",
      "source": [
        "clf=DecisionTreeClassifier()\n",
        "dtree_gscv = GridSearchCV(clf, param_grid, cv=5)\n",
        "dtree_gscv.fit(X_train,y_train)\n"
      ],
      "metadata": {
        "colab": {
          "base_uri": "https://localhost:8080/"
        },
        "id": "vCePQOxy7sPb",
        "outputId": "faacb511-eb14-49fa-9519-89fa76185e9b"
      },
      "execution_count": null,
      "outputs": [
        {
          "output_type": "execute_result",
          "data": {
            "text/plain": [
              "GridSearchCV(cv=5, estimator=DecisionTreeClassifier(),\n",
              "             param_grid={'criterion': ['gini', 'entropy'],\n",
              "                         'max_depth': [3, 4, 5, 6, 7, 8, 9, 10, 11, 12, 13, 14],\n",
              "                         'max_features': ['auto', 'sqrt', 'log2'],\n",
              "                         'splitter': ['best', 'random']})"
            ]
          },
          "metadata": {},
          "execution_count": 91
        }
      ]
    },
    {
      "cell_type": "code",
      "source": [
        "dtree_gscv.best_params_"
      ],
      "metadata": {
        "colab": {
          "base_uri": "https://localhost:8080/"
        },
        "id": "-MRz6o3V75Tf",
        "outputId": "7ba2cfae-3090-4899-a28f-6587b4ffd82b"
      },
      "execution_count": null,
      "outputs": [
        {
          "output_type": "execute_result",
          "data": {
            "text/plain": [
              "{'criterion': 'entropy',\n",
              " 'max_depth': 10,\n",
              " 'max_features': 'sqrt',\n",
              " 'splitter': 'random'}"
            ]
          },
          "metadata": {},
          "execution_count": 76
        }
      ]
    },
    {
      "cell_type": "code",
      "source": [
        "clf = DecisionTreeClassifier(criterion='entropy', splitter='random', max_depth=10, max_features='sqrt', \n",
        "                             )\n",
        "clf.fit(X_train,y_train)"
      ],
      "metadata": {
        "colab": {
          "base_uri": "https://localhost:8080/"
        },
        "id": "fHlRkuOX5vpG",
        "outputId": "a5467653-2e6f-4f93-b791-c5e1b2912917"
      },
      "execution_count": null,
      "outputs": [
        {
          "output_type": "execute_result",
          "data": {
            "text/plain": [
              "DecisionTreeClassifier(criterion='entropy', max_depth=10, max_features='sqrt',\n",
              "                       splitter='random')"
            ]
          },
          "metadata": {},
          "execution_count": 77
        }
      ]
    },
    {
      "cell_type": "code",
      "source": [
        "pred=clf.predict(X_test)\n",
        "from sklearn.metrics import classification_report\n",
        "print(classification_report(y_test, pred))"
      ],
      "metadata": {
        "colab": {
          "base_uri": "https://localhost:8080/"
        },
        "id": "V0yPqoUw8yez",
        "outputId": "42cbea1f-01d2-4631-ba0e-68507ccf5803"
      },
      "execution_count": null,
      "outputs": [
        {
          "output_type": "stream",
          "name": "stdout",
          "text": [
            "              precision    recall  f1-score   support\n",
            "\n",
            "           0       0.60      0.49      0.54      1468\n",
            "           1       0.60      0.70      0.65      1627\n",
            "\n",
            "    accuracy                           0.60      3095\n",
            "   macro avg       0.60      0.60      0.59      3095\n",
            "weighted avg       0.60      0.60      0.60      3095\n",
            "\n"
          ]
        }
      ]
    },
    {
      "cell_type": "markdown",
      "source": [
        "# **Machine learning classification**"
      ],
      "metadata": {
        "id": "0Qgxrk5S3LB4"
      }
    },
    {
      "cell_type": "markdown",
      "source": [
        "## **Baseline model: Logistic Regresstion**"
      ],
      "metadata": {
        "id": "FPnnGiDQ3Vo4"
      }
    },
    {
      "cell_type": "code",
      "source": [
        "logistic = LogisticRegression(solver='liblinear', multi_class='ovr', random_state=0)\n",
        "logistic.fit(X_train, y_train)\n",
        "logistic_ypred = logistic.predict(X_test)\n",
        "print('The accuracy of logistic regression for training dataset is ', logistic.score(X_train, y_train))\n",
        "print('The accuracy of logistic regression for testing dataset is ', logistic.score(X_test, y_test))"
      ],
      "metadata": {
        "colab": {
          "base_uri": "https://localhost:8080/"
        },
        "id": "RfCFM19J3s49",
        "outputId": "c1ba7ff1-c0b5-404e-878a-fd8aa6eabb97"
      },
      "execution_count": null,
      "outputs": [
        {
          "output_type": "stream",
          "name": "stdout",
          "text": [
            "The accuracy of logistic regression for training dataset is  0.5957477477477477\n",
            "The accuracy of logistic regression for testing dataset is  0.6019841937111149\n"
          ]
        }
      ]
    },
    {
      "cell_type": "code",
      "source": [
        "logistic.predict_proba(X_test)"
      ],
      "metadata": {
        "id": "ITnxpxiL7ViA",
        "colab": {
          "base_uri": "https://localhost:8080/"
        },
        "outputId": "c8b0f12e-ff64-46e8-8a0b-4cb1242a35c0"
      },
      "execution_count": null,
      "outputs": [
        {
          "output_type": "execute_result",
          "data": {
            "text/plain": [
              "array([[0.62847126, 0.37152874],\n",
              "       [0.42623035, 0.57376965],\n",
              "       [0.64091244, 0.35908756],\n",
              "       ...,\n",
              "       [0.5543943 , 0.4456057 ],\n",
              "       [0.48531542, 0.51468458],\n",
              "       [0.41048822, 0.58951178]])"
            ]
          },
          "metadata": {},
          "execution_count": 74
        }
      ]
    },
    {
      "cell_type": "code",
      "source": [
        "plot_confusion_matrix(logistic, X_test, y_test)"
      ],
      "metadata": {
        "id": "kVKr71xx59f3",
        "colab": {
          "base_uri": "https://localhost:8080/",
          "height": 367
        },
        "outputId": "d7ace4a2-065b-43e2-ef3d-608c96ac36c9"
      },
      "execution_count": null,
      "outputs": [
        {
          "output_type": "stream",
          "name": "stderr",
          "text": [
            "/usr/local/lib/python3.7/dist-packages/sklearn/utils/deprecation.py:87: FutureWarning: Function plot_confusion_matrix is deprecated; Function `plot_confusion_matrix` is deprecated in 1.0 and will be removed in 1.2. Use one of the class methods: ConfusionMatrixDisplay.from_predictions or ConfusionMatrixDisplay.from_estimator.\n",
            "  warnings.warn(msg, category=FutureWarning)\n"
          ]
        },
        {
          "output_type": "execute_result",
          "data": {
            "text/plain": [
              "<sklearn.metrics._plot.confusion_matrix.ConfusionMatrixDisplay at 0x7f1f04350e50>"
            ]
          },
          "metadata": {},
          "execution_count": 75
        },
        {
          "output_type": "display_data",
          "data": {
            "text/plain": [
              "<Figure size 432x288 with 2 Axes>"
            ],
            "image/png": "[encoded data removed]"
          },
          "metadata": {}
        }
      ]
    },
    {
      "cell_type": "code",
      "source": [
        "print(classification_report(y_test, logistic_ypred))"
      ],
      "metadata": {
        "id": "M3LUfKXA6FPE",
        "colab": {
          "base_uri": "https://localhost:8080/"
        },
        "outputId": "da89ad88-291b-4147-a001-5f3dd72ba910"
      },
      "execution_count": null,
      "outputs": [
        {
          "output_type": "stream",
          "name": "stdout",
          "text": [
            "              precision    recall  f1-score   support\n",
            "\n",
            "           0       0.59      0.67      0.63      5987\n",
            "           1       0.61      0.54      0.57      5907\n",
            "\n",
            "    accuracy                           0.60     11894\n",
            "   macro avg       0.60      0.60      0.60     11894\n",
            "weighted avg       0.60      0.60      0.60     11894\n",
            "\n"
          ]
        }
      ]
    },
    {
      "cell_type": "code",
      "source": [
        "# Tunning\n",
        "'''\n",
        "# define models and parameters\n",
        "model = LogisticRegression()\n",
        "solvers = ['newton-cg', 'lbfgs', 'liblinear']\n",
        "penalty = ['l2']\n",
        "c_values = [100, 10, 1.0, 0.1, 0.01]\n",
        "# define grid search\n",
        "grid = dict(solver=solvers,penalty=penalty,C=c_values)\n",
        "cv = RepeatedStratifiedKFold(n_splits=10, n_repeats=3, random_state=1)\n",
        "grid_search = GridSearchCV(estimator=model, param_grid=grid, n_jobs=-1, cv=cv, scoring='accuracy',error_score=0)\n",
        "grid_result = grid_search.fit(X_train, y_train)\n",
        "# summarize results\n",
        "print(\"Best: %f using %s\" % (grid_result.best_score_, grid_result.best_params_))\n",
        "means = grid_result.cv_results_['mean_test_score']\n",
        "stds = grid_result.cv_results_['std_test_score']\n",
        "params = grid_result.cv_results_['params']\n",
        "for mean, stdev, param in zip(means, stds, params):\n",
        "    print(\"%f (%f) with: %r\" % (mean, stdev, param))'''\n",
        "\n",
        "# Best: 0.648324 using {'C': 1.0, 'penalty': 'l2', 'solver': 'newton-cg'}"
      ],
      "metadata": {
        "id": "TX03R7a1BL8_"
      },
      "execution_count": null,
      "outputs": []
    },
    {
      "cell_type": "code",
      "source": [
        "# Model after tuning\n",
        "logistic_t = LogisticRegression(C = 1.0, solver='newton-cg', penalty = 'l2', random_state=0)\n",
        "logistic_t.fit(X_train, y_train)\n",
        "logistic_ypred_t = logistic_t.predict(X_test)"
      ],
      "metadata": {
        "id": "RD55X0wzFcaI",
        "colab": {
          "base_uri": "https://localhost:8080/"
        },
        "outputId": "9e86d560-dbc4-4ecc-813b-2d511cd1a37b"
      },
      "execution_count": null,
      "outputs": [
        {
          "output_type": "stream",
          "name": "stderr",
          "text": [
            "/usr/local/lib/python3.7/dist-packages/scipy/optimize/linesearch.py:478: LineSearchWarning: The line search algorithm did not converge\n",
            "  warn('The line search algorithm did not converge', LineSearchWarning)\n",
            "/usr/local/lib/python3.7/dist-packages/scipy/optimize/linesearch.py:327: LineSearchWarning: The line search algorithm did not converge\n",
            "  warn('The line search algorithm did not converge', LineSearchWarning)\n",
            "/usr/local/lib/python3.7/dist-packages/scipy/optimize/linesearch.py:478: LineSearchWarning: The line search algorithm did not converge\n",
            "  warn('The line search algorithm did not converge', LineSearchWarning)\n",
            "/usr/local/lib/python3.7/dist-packages/scipy/optimize/linesearch.py:327: LineSearchWarning: The line search algorithm did not converge\n",
            "  warn('The line search algorithm did not converge', LineSearchWarning)\n",
            "/usr/local/lib/python3.7/dist-packages/scipy/optimize/linesearch.py:478: LineSearchWarning: The line search algorithm did not converge\n",
            "  warn('The line search algorithm did not converge', LineSearchWarning)\n",
            "/usr/local/lib/python3.7/dist-packages/scipy/optimize/linesearch.py:327: LineSearchWarning: The line search algorithm did not converge\n",
            "  warn('The line search algorithm did not converge', LineSearchWarning)\n",
            "/usr/local/lib/python3.7/dist-packages/scipy/optimize/linesearch.py:478: LineSearchWarning: The line search algorithm did not converge\n",
            "  warn('The line search algorithm did not converge', LineSearchWarning)\n",
            "/usr/local/lib/python3.7/dist-packages/scipy/optimize/linesearch.py:327: LineSearchWarning: The line search algorithm did not converge\n",
            "  warn('The line search algorithm did not converge', LineSearchWarning)\n",
            "/usr/local/lib/python3.7/dist-packages/sklearn/utils/optimize.py:212: ConvergenceWarning: newton-cg failed to converge. Increase the number of iterations.\n",
            "  ConvergenceWarning,\n"
          ]
        }
      ]
    },
    {
      "cell_type": "code",
      "source": [
        "print(classification_report(y_test, logistic_ypred_t))"
      ],
      "metadata": {
        "id": "5iA85BeXFxIO",
        "colab": {
          "base_uri": "https://localhost:8080/"
        },
        "outputId": "70001cfe-8e98-43ef-ba7d-07d2980f8810"
      },
      "execution_count": null,
      "outputs": [
        {
          "output_type": "stream",
          "name": "stdout",
          "text": [
            "              precision    recall  f1-score   support\n",
            "\n",
            "           0       0.64      0.67      0.65      5987\n",
            "           1       0.65      0.62      0.63      5907\n",
            "\n",
            "    accuracy                           0.64     11894\n",
            "   macro avg       0.64      0.64      0.64     11894\n",
            "weighted avg       0.64      0.64      0.64     11894\n",
            "\n"
          ]
        }
      ]
    },
    {
      "cell_type": "code",
      "source": [
        "plot_confusion_matrix(logistic_t, X_test, y_test)"
      ],
      "metadata": {
        "id": "0G1ZbAwc4qf7",
        "colab": {
          "base_uri": "https://localhost:8080/",
          "height": 367
        },
        "outputId": "4908808b-9e6f-4a19-811e-9a729d1168e2"
      },
      "execution_count": null,
      "outputs": [
        {
          "output_type": "stream",
          "name": "stderr",
          "text": [
            "/usr/local/lib/python3.7/dist-packages/sklearn/utils/deprecation.py:87: FutureWarning: Function plot_confusion_matrix is deprecated; Function `plot_confusion_matrix` is deprecated in 1.0 and will be removed in 1.2. Use one of the class methods: ConfusionMatrixDisplay.from_predictions or ConfusionMatrixDisplay.from_estimator.\n",
            "  warnings.warn(msg, category=FutureWarning)\n"
          ]
        },
        {
          "output_type": "execute_result",
          "data": {
            "text/plain": [
              "<sklearn.metrics._plot.confusion_matrix.ConfusionMatrixDisplay at 0x7f1f04261050>"
            ]
          },
          "metadata": {},
          "execution_count": 79
        },
        {
          "output_type": "display_data",
          "data": {
            "text/plain": [
              "<Figure size 432x288 with 2 Axes>"
            ],
            "image/png": "[encoded data removed]"
          },
          "metadata": {}
        }
      ]
    },
    {
      "cell_type": "markdown",
      "source": [
        "## **Main model: XGboost**"
      ],
      "metadata": {
        "id": "fR6tmCEI8BLd"
      }
    },
    {
      "cell_type": "code",
      "source": [
        "m_xgboost = XGBClassifier(objective ='binary:logistic', max_depth=5, n_estimators=100)\n",
        "m_xgboost"
      ],
      "metadata": {
        "id": "O-Fel-jC8IfF",
        "colab": {
          "base_uri": "https://localhost:8080/"
        },
        "outputId": "d903054e-a86b-490c-ba5e-082468090ff3"
      },
      "execution_count": null,
      "outputs": [
        {
          "output_type": "execute_result",
          "data": {
            "text/plain": [
              "XGBClassifier(max_depth=5)"
            ]
          },
          "metadata": {},
          "execution_count": 80
        }
      ]
    },
    {
      "cell_type": "code",
      "source": [
        "kfold = KFold()\n",
        "# Perform K-Fold Cross Validation\n",
        "results = cross_val_score(m_xgboost, X_train, y_train, cv=kfold)\n",
        "# Print the average results\n",
        "print(\"Accuracy: %.2f%% (%.2f%%)\" % (results.mean()*100, results.std()*100))"
      ],
      "metadata": {
        "id": "CLbtOefdy-B7",
        "colab": {
          "base_uri": "https://localhost:8080/"
        },
        "outputId": "c7b8824a-30b5-4e58-cad5-cc9f6f272e09"
      },
      "execution_count": null,
      "outputs": [
        {
          "output_type": "stream",
          "name": "stdout",
          "text": [
            "Accuracy: 66.62% (0.48%)\n"
          ]
        }
      ]
    },
    {
      "cell_type": "code",
      "source": [
        "m_xgboost.fit(X_train, y_train)"
      ],
      "metadata": {
        "id": "QNXnQlI73Hpz",
        "colab": {
          "base_uri": "https://localhost:8080/"
        },
        "outputId": "019b4911-b425-4300-f0cc-645435499a32"
      },
      "execution_count": null,
      "outputs": [
        {
          "output_type": "execute_result",
          "data": {
            "text/plain": [
              "XGBClassifier(max_depth=5)"
            ]
          },
          "metadata": {},
          "execution_count": 82
        }
      ]
    },
    {
      "cell_type": "code",
      "source": [
        "xg_ypred = m_xgboost.predict(X_test, ntree_limit=300)\n",
        "plot_confusion_matrix(m_xgboost, X_test, y_test)"
      ],
      "metadata": {
        "id": "vECmeCoH3qMa",
        "colab": {
          "base_uri": "https://localhost:8080/",
          "height": 368
        },
        "outputId": "c3c3d522-b641-4305-a5d3-4609de680daf"
      },
      "execution_count": null,
      "outputs": [
        {
          "output_type": "stream",
          "name": "stderr",
          "text": [
            "/usr/local/lib/python3.7/dist-packages/sklearn/utils/deprecation.py:87: FutureWarning: Function plot_confusion_matrix is deprecated; Function `plot_confusion_matrix` is deprecated in 1.0 and will be removed in 1.2. Use one of the class methods: ConfusionMatrixDisplay.from_predictions or ConfusionMatrixDisplay.from_estimator.\n",
            "  warnings.warn(msg, category=FutureWarning)\n"
          ]
        },
        {
          "output_type": "execute_result",
          "data": {
            "text/plain": [
              "<sklearn.metrics._plot.confusion_matrix.ConfusionMatrixDisplay at 0x7f1f04202e50>"
            ]
          },
          "metadata": {},
          "execution_count": 83
        },
        {
          "output_type": "display_data",
          "data": {
            "text/plain": [
              "<Figure size 432x288 with 2 Axes>"
            ],
            "image/png": "[encoded data removed]"
          },
          "metadata": {}
        }
      ]
    },
    {
      "cell_type": "code",
      "source": [
        "# Get the classification report\n",
        "print(classification_report(y_test, xg_ypred))"
      ],
      "metadata": {
        "id": "xakncTze3sL8",
        "colab": {
          "base_uri": "https://localhost:8080/"
        },
        "outputId": "cc5438dd-326e-49ef-d168-0370dead1771"
      },
      "execution_count": null,
      "outputs": [
        {
          "output_type": "stream",
          "name": "stdout",
          "text": [
            "              precision    recall  f1-score   support\n",
            "\n",
            "           0       0.67      0.68      0.67      5987\n",
            "           1       0.67      0.66      0.66      5907\n",
            "\n",
            "    accuracy                           0.67     11894\n",
            "   macro avg       0.67      0.67      0.67     11894\n",
            "weighted avg       0.67      0.67      0.67     11894\n",
            "\n"
          ]
        }
      ]
    },
    {
      "cell_type": "code",
      "source": [
        "col = df4.columns.drop(['y'])\n",
        "importance = list(m_xgboost.feature_importances_)\n",
        "fea_dfxc = pd.DataFrame({'columns':col,'importance':importance})\n",
        "fea_dfxc.sort_values(by=['importance'],inplace=True,ascending=False)\n",
        "fea_dfxc.reset_index(drop=True,inplace=True)\n",
        "# display(fea_dfxc)\n",
        "fea_dfxc.head()"
      ],
      "metadata": {
        "id": "sW7lgYcP3uKy",
        "colab": {
          "base_uri": "https://localhost:8080/",
          "height": 206
        },
        "outputId": "84228c94-4e21-4f93-817e-42da6a4da672"
      },
      "execution_count": null,
      "outputs": [
        {
          "output_type": "execute_result",
          "data": {
            "text/plain": [
              "                          columns  importance\n",
              "0   data_channel_is_entertainment    0.107246\n",
              "1            data_channel_is_tech    0.059235\n",
              "2          data_channel_is_socmed    0.053718\n",
              "3                      kw_avg_avg    0.052652\n",
              "4                      is_weekend    0.051650"
            ],
            "text/html": [
              "\n",
              "  <div id=\"df-26d4d5bd-5a9f-4d1b-a391-01bd6a17485e\">\n",
              "    <div class=\"colab-df-container\">\n",
              "      <div>\n",
              "<style scoped>\n",
              "    .dataframe tbody tr th:only-of-type {\n",
              "        vertical-align: middle;\n",
              "    }\n",
              "\n",
              "    .dataframe tbody tr th {\n",
              "        vertical-align: top;\n",
              "    }\n",
              "\n",
              "    .dataframe thead th {\n",
              "        text-align: right;\n",
              "    }\n",
              "</style>\n",
              "<table border=\"1\" class=\"dataframe\">\n",
              "  <thead>\n",
              "    <tr style=\"text-align: right;\">\n",
              "      <th></th>\n",
              "      <th>columns</th>\n",
              "      <th>importance</th>\n",
              "    </tr>\n",
              "  </thead>\n",
              "  <tbody>\n",
              "    <tr>\n",
              "      <th>0</th>\n",
              "      <td>data_channel_is_entertainment</td>\n",
              "      <td>0.107246</td>\n",
              "    </tr>\n",
              "    <tr>\n",
              "      <th>1</th>\n",
              "      <td>data_channel_is_tech</td>\n",
              "      <td>0.059235</td>\n",
              "    </tr>\n",
              "    <tr>\n",
              "      <th>2</th>\n",
              "      <td>data_channel_is_socmed</td>\n",
              "      <td>0.053718</td>\n",
              "    </tr>\n",
              "    <tr>\n",
              "      <th>3</th>\n",
              "      <td>kw_avg_avg</td>\n",
              "      <td>0.052652</td>\n",
              "    </tr>\n",
              "    <tr>\n",
              "      <th>4</th>\n",
              "      <td>is_weekend</td>\n",
              "      <td>0.051650</td>\n",
              "    </tr>\n",
              "  </tbody>\n",
              "</table>\n",
              "</div>\n",
              "      <button class=\"colab-df-convert\" onclick=\"convertToInteractive('df-26d4d5bd-5a9f-4d1b-a391-01bd6a17485e')\"\n",
              "              title=\"Convert this dataframe to an interactive table.\"\n",
              "              style=\"display:none;\">\n",
              "        \n",
              "  <svg xmlns=\"http://www.w3.org/2000/svg\" height=\"24px\"viewBox=\"0 0 24 24\"\n",
              "       width=\"24px\">\n",
              "    <path d=\"M0 0h24v24H0V0z\" fill=\"none\"/>\n",
              "    <path d=\"M18.56 5.44l.94 2.06.94-2.06 2.06-.94-2.06-.94-.94-2.06-.94 2.06-2.06.94zm-11 1L8.5 8.5l.94-2.06 2.06-.94-2.06-.94L8.5 2.5l-.94 2.06-2.06.94zm10 10l.94 2.06.94-2.06 2.06-.94-2.06-.94-.94-2.06-.94 2.06-2.06.94z\"/><path d=\"M17.41 7.96l-1.37-1.37c-.4-.4-.92-.59-1.43-.59-.52 0-1.04.2-1.43.59L10.3 9.45l-7.72 7.72c-.78.78-.78 2.05 0 2.83L4 21.41c.39.39.9.59 1.41.59.51 0 1.02-.2 1.41-.59l7.78-7.78 2.81-2.81c.8-.78.8-2.07 0-2.86zM5.41 20L4 18.59l7.72-7.72 1.47 1.35L5.41 20z\"/>\n",
              "  </svg>\n",
              "      </button>\n",
              "      \n",
              "  <style>\n",
              "    .colab-df-container {\n",
              "      display:flex;\n",
              "      flex-wrap:wrap;\n",
              "      gap: 12px;\n",
              "    }\n",
              "\n",
              "    .colab-df-convert {\n",
              "      background-color: #E8F0FE;\n",
              "      border: none;\n",
              "      border-radius: 50%;\n",
              "      cursor: pointer;\n",
              "      display: none;\n",
              "      fill: #1967D2;\n",
              "      height: 32px;\n",
              "      padding: 0 0 0 0;\n",
              "      width: 32px;\n",
              "    }\n",
              "\n",
              "    .colab-df-convert:hover {\n",
              "      background-color: #E2EBFA;\n",
              "      box-shadow: 0px 1px 2px rgba(60, 64, 67, 0.3), 0px 1px 3px 1px rgba(60, 64, 67, 0.15);\n",
              "      fill: #174EA6;\n",
              "    }\n",
              "\n",
              "    [theme=dark] .colab-df-convert {\n",
              "      background-color: #3B4455;\n",
              "      fill: #D2E3FC;\n",
              "    }\n",
              "\n",
              "    [theme=dark] .colab-df-convert:hover {\n",
              "      background-color: #434B5C;\n",
              "      box-shadow: 0px 1px 3px 1px rgba(0, 0, 0, 0.15);\n",
              "      filter: drop-shadow(0px 1px 2px rgba(0, 0, 0, 0.3));\n",
              "      fill: #FFFFFF;\n",
              "    }\n",
              "  </style>\n",
              "\n",
              "      <script>\n",
              "        const buttonEl =\n",
              "          document.querySelector('#df-26d4d5bd-5a9f-4d1b-a391-01bd6a17485e button.colab-df-convert');\n",
              "        buttonEl.style.display =\n",
              "          google.colab.kernel.accessAllowed ? 'block' : 'none';\n",
              "\n",
              "        async function convertToInteractive(key) {\n",
              "          const element = document.querySelector('#df-26d4d5bd-5a9f-4d1b-a391-01bd6a17485e');\n",
              "          const dataTable =\n",
              "            await google.colab.kernel.invokeFunction('convertToInteractive',\n",
              "                                                     [key], {});\n",
              "          if (!dataTable) return;\n",
              "\n",
              "          const docLinkHtml = 'Like what you see? Visit the ' +\n",
              "            '<a target=\"_blank\" href=https://colab.research.google.com/notebooks/data_table.ipynb>data table notebook</a>'\n",
              "            + ' to learn more about interactive tables.';\n",
              "          element.innerHTML = '';\n",
              "          dataTable['output_type'] = 'display_data';\n",
              "          await google.colab.output.renderOutput(dataTable, element);\n",
              "          const docLink = document.createElement('div');\n",
              "          docLink.innerHTML = docLinkHtml;\n",
              "          element.appendChild(docLink);\n",
              "        }\n",
              "      </script>\n",
              "    </div>\n",
              "  </div>\n",
              "  "
            ]
          },
          "metadata": {},
          "execution_count": 85
        }
      ]
    },
    {
      "cell_type": "code",
      "source": [
        "# Tunning\n",
        "'''\n",
        "params = { 'max_depth': [3,6,10],\n",
        "           'learning_rate': [0.01, 0.05, 0.1],\n",
        "           'n_estimators': [100, 500, 1000],\n",
        "           'colsample_bytree': [0.3, 0.7]}\n",
        "xgbr = xgb.XGBRegressor(seed = 20)\n",
        "clf = GridSearchCV(estimator=xgbr, \n",
        "                   param_grid=params,\n",
        "                   scoring='neg_mean_squared_error', \n",
        "                   verbose=1)\n",
        "clf.fit(X_train, y_train)\n",
        "print(\"Best parameters:\", clf.best_params_)\n",
        "print(\"Lowest RMSE: \", (-clf.best_score_)**(1/2.0))'''\n",
        "# Best parameters: {'colsample_bytree': 0.3, 'learning_rate': 0.01, 'max_depth': 6, 'n_estimators': 1000}\n",
        "# Lowest RMSE:  0.4570079711754792"
      ],
      "metadata": {
        "id": "dBqCyzGsD_6u"
      },
      "execution_count": null,
      "outputs": []
    },
    {
      "cell_type": "code",
      "source": [
        "# Model after tunning\n",
        "m_xgboost_t = XGBClassifier(objective ='binary:logistic', colsample_bytree = 0.1, learning_rate = 0.05, max_depth = 6, n_estimators = 1000)\n",
        "m_xgboost_t.fit(X_train, y_train)"
      ],
      "metadata": {
        "id": "hzBnSoEFF4HK",
        "colab": {
          "base_uri": "https://localhost:8080/"
        },
        "outputId": "907a764d-ffbd-4378-a1db-23932a5e344f"
      },
      "execution_count": null,
      "outputs": [
        {
          "output_type": "execute_result",
          "data": {
            "text/plain": [
              "XGBClassifier(colsample_bytree=0.1, learning_rate=0.05, max_depth=6,\n",
              "              n_estimators=1000)"
            ]
          },
          "metadata": {},
          "execution_count": 86
        }
      ]
    },
    {
      "cell_type": "code",
      "source": [
        "xg_ypred_t = m_xgboost_t.predict(X_test, ntree_limit=300)\n",
        "plot_confusion_matrix(m_xgboost_t, X_test, y_test)"
      ],
      "metadata": {
        "id": "b8fxcOK_G2_R",
        "colab": {
          "base_uri": "https://localhost:8080/",
          "height": 369
        },
        "outputId": "24c5966b-655f-4994-cfc8-54eec3936eee"
      },
      "execution_count": null,
      "outputs": [
        {
          "output_type": "stream",
          "name": "stderr",
          "text": [
            "/usr/local/lib/python3.7/dist-packages/sklearn/utils/deprecation.py:87: FutureWarning: Function plot_confusion_matrix is deprecated; Function `plot_confusion_matrix` is deprecated in 1.0 and will be removed in 1.2. Use one of the class methods: ConfusionMatrixDisplay.from_predictions or ConfusionMatrixDisplay.from_estimator.\n",
            "  warnings.warn(msg, category=FutureWarning)\n"
          ]
        },
        {
          "output_type": "execute_result",
          "data": {
            "text/plain": [
              "<sklearn.metrics._plot.confusion_matrix.ConfusionMatrixDisplay at 0x7f1f04194cd0>"
            ]
          },
          "metadata": {},
          "execution_count": 87
        },
        {
          "output_type": "display_data",
          "data": {
            "text/plain": [
              "<Figure size 432x288 with 2 Axes>"
            ],
            "image/png": "[encoded data removed]"
          },
          "metadata": {}
        }
      ]
    },
    {
      "cell_type": "code",
      "source": [
        "print(classification_report(y_test, xg_ypred_t))"
      ],
      "metadata": {
        "id": "esm_6jwLG87s",
        "colab": {
          "base_uri": "https://localhost:8080/"
        },
        "outputId": "1580a52b-a584-40ea-9282-b263679075d2"
      },
      "execution_count": null,
      "outputs": [
        {
          "output_type": "stream",
          "name": "stdout",
          "text": [
            "              precision    recall  f1-score   support\n",
            "\n",
            "           0       0.67      0.68      0.67      5987\n",
            "           1       0.67      0.66      0.66      5907\n",
            "\n",
            "    accuracy                           0.67     11894\n",
            "   macro avg       0.67      0.67      0.67     11894\n",
            "weighted avg       0.67      0.67      0.67     11894\n",
            "\n"
          ]
        }
      ]
    },
    {
      "cell_type": "code",
      "source": [
        "col = df4.columns.drop(['y'])\n",
        "importance = list(m_xgboost_t.feature_importances_)\n",
        "fea_dfxc = pd.DataFrame({'columns':col,'importance':importance})\n",
        "fea_dfxc.sort_values(by=['importance'],inplace=True,ascending=False)\n",
        "fea_dfxc.reset_index(drop=True,inplace=True)\n",
        "# display(fea_dfxc)\n",
        "fea_dfxc.head()"
      ],
      "metadata": {
        "id": "95Uq5gXA7MxK",
        "colab": {
          "base_uri": "https://localhost:8080/",
          "height": 206
        },
        "outputId": "3c8897ea-17c1-432a-81c8-1966d36e85cf"
      },
      "execution_count": null,
      "outputs": [
        {
          "output_type": "execute_result",
          "data": {
            "text/plain": [
              "                          columns  importance\n",
              "0                      is_weekend    0.079857\n",
              "1   data_channel_is_entertainment    0.073861\n",
              "2          data_channel_is_socmed    0.067799\n",
              "3             weekday_is_saturday    0.067609\n",
              "4           data_channel_is_world    0.050958"
            ],
            "text/html": [
              "\n",
              "  <div id=\"df-863aa956-678b-4858-bda6-e06f3644d77c\">\n",
              "    <div class=\"colab-df-container\">\n",
              "      <div>\n",
              "<style scoped>\n",
              "    .dataframe tbody tr th:only-of-type {\n",
              "        vertical-align: middle;\n",
              "    }\n",
              "\n",
              "    .dataframe tbody tr th {\n",
              "        vertical-align: top;\n",
              "    }\n",
              "\n",
              "    .dataframe thead th {\n",
              "        text-align: right;\n",
              "    }\n",
              "</style>\n",
              "<table border=\"1\" class=\"dataframe\">\n",
              "  <thead>\n",
              "    <tr style=\"text-align: right;\">\n",
              "      <th></th>\n",
              "      <th>columns</th>\n",
              "      <th>importance</th>\n",
              "    </tr>\n",
              "  </thead>\n",
              "  <tbody>\n",
              "    <tr>\n",
              "      <th>0</th>\n",
              "      <td>is_weekend</td>\n",
              "      <td>0.079857</td>\n",
              "    </tr>\n",
              "    <tr>\n",
              "      <th>1</th>\n",
              "      <td>data_channel_is_entertainment</td>\n",
              "      <td>0.073861</td>\n",
              "    </tr>\n",
              "    <tr>\n",
              "      <th>2</th>\n",
              "      <td>data_channel_is_socmed</td>\n",
              "      <td>0.067799</td>\n",
              "    </tr>\n",
              "    <tr>\n",
              "      <th>3</th>\n",
              "      <td>weekday_is_saturday</td>\n",
              "      <td>0.067609</td>\n",
              "    </tr>\n",
              "    <tr>\n",
              "      <th>4</th>\n",
              "      <td>data_channel_is_world</td>\n",
              "      <td>0.050958</td>\n",
              "    </tr>\n",
              "  </tbody>\n",
              "</table>\n",
              "</div>\n",
              "      <button class=\"colab-df-convert\" onclick=\"convertToInteractive('df-863aa956-678b-4858-bda6-e06f3644d77c')\"\n",
              "              title=\"Convert this dataframe to an interactive table.\"\n",
              "              style=\"display:none;\">\n",
              "        \n",
              "  <svg xmlns=\"http://www.w3.org/2000/svg\" height=\"24px\"viewBox=\"0 0 24 24\"\n",
              "       width=\"24px\">\n",
              "    <path d=\"M0 0h24v24H0V0z\" fill=\"none\"/>\n",
              "    <path d=\"M18.56 5.44l.94 2.06.94-2.06 2.06-.94-2.06-.94-.94-2.06-.94 2.06-2.06.94zm-11 1L8.5 8.5l.94-2.06 2.06-.94-2.06-.94L8.5 2.5l-.94 2.06-2.06.94zm10 10l.94 2.06.94-2.06 2.06-.94-2.06-.94-.94-2.06-.94 2.06-2.06.94z\"/><path d=\"M17.41 7.96l-1.37-1.37c-.4-.4-.92-.59-1.43-.59-.52 0-1.04.2-1.43.59L10.3 9.45l-7.72 7.72c-.78.78-.78 2.05 0 2.83L4 21.41c.39.39.9.59 1.41.59.51 0 1.02-.2 1.41-.59l7.78-7.78 2.81-2.81c.8-.78.8-2.07 0-2.86zM5.41 20L4 18.59l7.72-7.72 1.47 1.35L5.41 20z\"/>\n",
              "  </svg>\n",
              "      </button>\n",
              "      \n",
              "  <style>\n",
              "    .colab-df-container {\n",
              "      display:flex;\n",
              "      flex-wrap:wrap;\n",
              "      gap: 12px;\n",
              "    }\n",
              "\n",
              "    .colab-df-convert {\n",
              "      background-color: #E8F0FE;\n",
              "      border: none;\n",
              "      border-radius: 50%;\n",
              "      cursor: pointer;\n",
              "      display: none;\n",
              "      fill: #1967D2;\n",
              "      height: 32px;\n",
              "      padding: 0 0 0 0;\n",
              "      width: 32px;\n",
              "    }\n",
              "\n",
              "    .colab-df-convert:hover {\n",
              "      background-color: #E2EBFA;\n",
              "      box-shadow: 0px 1px 2px rgba(60, 64, 67, 0.3), 0px 1px 3px 1px rgba(60, 64, 67, 0.15);\n",
              "      fill: #174EA6;\n",
              "    }\n",
              "\n",
              "    [theme=dark] .colab-df-convert {\n",
              "      background-color: #3B4455;\n",
              "      fill: #D2E3FC;\n",
              "    }\n",
              "\n",
              "    [theme=dark] .colab-df-convert:hover {\n",
              "      background-color: #434B5C;\n",
              "      box-shadow: 0px 1px 3px 1px rgba(0, 0, 0, 0.15);\n",
              "      filter: drop-shadow(0px 1px 2px rgba(0, 0, 0, 0.3));\n",
              "      fill: #FFFFFF;\n",
              "    }\n",
              "  </style>\n",
              "\n",
              "      <script>\n",
              "        const buttonEl =\n",
              "          document.querySelector('#df-863aa956-678b-4858-bda6-e06f3644d77c button.colab-df-convert');\n",
              "        buttonEl.style.display =\n",
              "          google.colab.kernel.accessAllowed ? 'block' : 'none';\n",
              "\n",
              "        async function convertToInteractive(key) {\n",
              "          const element = document.querySelector('#df-863aa956-678b-4858-bda6-e06f3644d77c');\n",
              "          const dataTable =\n",
              "            await google.colab.kernel.invokeFunction('convertToInteractive',\n",
              "                                                     [key], {});\n",
              "          if (!dataTable) return;\n",
              "\n",
              "          const docLinkHtml = 'Like what you see? Visit the ' +\n",
              "            '<a target=\"_blank\" href=https://colab.research.google.com/notebooks/data_table.ipynb>data table notebook</a>'\n",
              "            + ' to learn more about interactive tables.';\n",
              "          element.innerHTML = '';\n",
              "          dataTable['output_type'] = 'display_data';\n",
              "          await google.colab.output.renderOutput(dataTable, element);\n",
              "          const docLink = document.createElement('div');\n",
              "          docLink.innerHTML = docLinkHtml;\n",
              "          element.appendChild(docLink);\n",
              "        }\n",
              "      </script>\n",
              "    </div>\n",
              "  </div>\n",
              "  "
            ]
          },
          "metadata": {},
          "execution_count": 89
        }
      ]
    },
    {
      "cell_type": "markdown",
      "source": [
        "## **SVM**"
      ],
      "metadata": {
        "id": "_qwJ-LD0HKNt"
      }
    },
    {
      "cell_type": "code",
      "source": [
        "print(type(y_train))\n",
        "import numpy.core.defchararray as np_f\n",
        "y_train1 = y_train.astype(str)\n",
        "y_test1 = y_test.astype(str)\n",
        "\n",
        "y_train_svm = np_f.replace(y_train1, '0', '-1')\n",
        "y_test_svm = np_f.replace(y_test1, '0', '-1')"
      ],
      "metadata": {
        "id": "e3ok99aSfudD",
        "colab": {
          "base_uri": "https://localhost:8080/"
        },
        "outputId": "97c69816-6637-47f6-c0c3-1d6ee9e1b220"
      },
      "execution_count": null,
      "outputs": [
        {
          "output_type": "stream",
          "name": "stdout",
          "text": [
            "<class 'numpy.ndarray'>\n"
          ]
        }
      ]
    },
    {
      "cell_type": "code",
      "source": [
        "linear_svm=svm.SVC(kernel='linear', C = 100)\n",
        "linear_svm.fit(X_train, y_train_svm)\n",
        "svm_pred = linear_svm.predict(X_test)"
      ],
      "metadata": {
        "id": "WDf_CJU5HNEZ"
      },
      "execution_count": null,
      "outputs": []
    },
    {
      "cell_type": "code",
      "source": [
        "predicted_linear_svm=linear_svm.predict(X_test)\n",
        "print(\"accuracy\",accuracy_score(y_test_svm, predicted_linear_svm))\n",
        "plot_confusion_matrix(linear_svm, X_test, y_test_svm)\n",
        "\n",
        "print(\"Classification Report \\n\", classification_report(y_test_svm, svm_pred))"
      ],
      "metadata": {
        "id": "PLthF5F8HPrn"
      },
      "execution_count": null,
      "outputs": []
    },
    {
      "cell_type": "code",
      "source": [
        "print(\"Accuracy:\",accuracy_score(y_test_svm, predicted_linear_svm))\n",
        "print('Precision: %.3f' % precision_score(y_test_svm, predicted_linear_svm))\n",
        "print('Recall: %.3f' % recall_score(y_test_svm, predicted_linear_svm))\n",
        "print('F1 Score: %.3f' % f1_score(y_test_svm, predicted_linear_svm))"
      ],
      "metadata": {
        "id": "GHbjT04LHSYP"
      },
      "execution_count": null,
      "outputs": []
    },
    {
      "cell_type": "code",
      "source": [
        "# Tunning\n",
        "model = SVC()\n",
        "kernel = ['linear']\n",
        "#kernel = ['linear', 'poly', 'rbf', 'sigmoid']\n",
        "C = [0.01, 0.1, 1, 10, 100, 1000]\n",
        "gamma = [1, 0.1, 0.01, 0.001]\n",
        "# define grid search\n",
        "grid = dict(kernel=kernel,C=C,gamma=gamma)\n",
        "cv = RepeatedStratifiedKFold(n_splits=10, n_repeats=3, random_state=1)\n",
        "grid_search = GridSearchCV(estimator=model, param_grid=grid, n_jobs=-1, cv=cv, scoring='accuracy',error_score=0)\n",
        "grid_result = grid_search.fit(X_train, y_train)\n",
        "grid_result\n",
        "# summarize results\n",
        "print(\"Best: %f using %s\" % (grid_result.best_score_, grid_result.best_params_))\n",
        "means = grid_result.cv_results_['mean_test_score']\n",
        "stds = grid_result.cv_results_['std_test_score']\n",
        "params = grid_result.cv_results_['params']\n",
        "for mean, stdev, param in zip(means, stds, params):\n",
        "    print(\"%f (%f) with: %r\" % (mean, stdev, param))"
      ],
      "metadata": {
        "id": "Niv0R5W-LIT5"
      },
      "execution_count": null,
      "outputs": []
    },
    {
      "cell_type": "code",
      "source": [
        "# Model after tunning\n",
        "linear_svm_t=svm.SVC(kernel='linear', C = , gamma = )\n",
        "linear_svm_t.fit(X_train, y_train)\n",
        "svm_pred_t = linear_svm_t.predict(X_test)"
      ],
      "metadata": {
        "id": "MZkyJB0fHize"
      },
      "execution_count": null,
      "outputs": []
    },
    {
      "cell_type": "code",
      "source": [
        "predicted_linear_svm_t=linear_svm_t.predict(X_test)\n",
        "print(\"accuracy\",accuracy_score(y_test, predicted_linear_svm_t))\n",
        "plot_confusion_matrix(linear_svm_t, X_test, y_test)\n",
        "\n",
        "print(\"Classification Report \\n\", classification_report(y_test, svm_pred_t))"
      ],
      "metadata": {
        "id": "OgCZMyIuL84q"
      },
      "execution_count": null,
      "outputs": []
    },
    {
      "cell_type": "code",
      "source": [
        "from sklearn.model_selection import GridSearchCV\n",
        "param_grid = {'C': [0.1, 1, 10, 100, 1000], 'gamma': [1, 0.1, 0.01, 0.001],'kernel': ['linear']}\n",
        "grid = GridSearchCV(SVC(),param_grid,refit=True,verbose=2)\n",
        "grid.fit(X_train, y_train)"
      ],
      "metadata": {
        "id": "sHn5Ra8gJLhG"
      },
      "execution_count": null,
      "outputs": []
    },
    {
      "cell_type": "markdown",
      "source": [
        " \n",
        "# **Naïve Bayes**\n"
      ],
      "metadata": {
        "id": "CKIh82BXidJM"
      }
    },
    {
      "cell_type": "code",
      "source": [
        "from sklearn.model_selection import RepeatedStratifiedKFold\n",
        "from sklearn.naive_bayes import GaussianNB\n",
        "naive_class=GaussianNB()\n",
        "naive_class.fit(X_train, y_train)\n",
        "naive_class_pred = naive_class.predict(X_test)"
      ],
      "metadata": {
        "id": "uQrrH91_ib6F"
      },
      "execution_count": null,
      "outputs": []
    },
    {
      "cell_type": "code",
      "source": [
        "print(accuracy_score(y_test,naive_class_pred))\n",
        "print(f1_score(y_test,naive_class_pred,average=None))"
      ],
      "metadata": {
        "colab": {
          "base_uri": "https://localhost:8080/"
        },
        "id": "W99mmYLWSUvK",
        "outputId": "a0b4e32c-35df-48be-b98b-629a9b5340e6"
      },
      "execution_count": null,
      "outputs": [
        {
          "output_type": "stream",
          "name": "stdout",
          "text": [
            "0.5266520934925172\n",
            "[0.66952336 0.16617299]\n"
          ]
        }
      ]
    },
    {
      "cell_type": "code",
      "source": [
        "model = GaussianNB()\n",
        "cv_scores = cross_val_score(model, X, Y, cv=5)"
      ],
      "metadata": {
        "id": "wlVvWuFFSWX0"
      },
      "execution_count": null,
      "outputs": []
    },
    {
      "cell_type": "code",
      "source": [
        "print(\"Accuracy:\",accuracy_score(y_test, naive_class_pred))\n",
        "print('Precision: %.3f' % precision_score(y_test, naive_class_pred))\n",
        "print('Recall: %.3f' % recall_score(y_test, naive_class_pred))\n",
        "print('F1 Score: %.3f' % f1_score(y_test, naive_class_pred))"
      ],
      "metadata": {
        "colab": {
          "base_uri": "https://localhost:8080/"
        },
        "id": "8BgxilwoSZiU",
        "outputId": "7267f911-651c-4fcf-f3a5-c02b4f92fe1e"
      },
      "execution_count": null,
      "outputs": [
        {
          "output_type": "stream",
          "name": "stdout",
          "text": [
            "Accuracy: 0.5266520934925172\n",
            "Precision: 0.664\n",
            "Recall: 0.095\n",
            "F1 Score: 0.166\n"
          ]
        }
      ]
    },
    {
      "cell_type": "code",
      "source": [
        "data = confusion_matrix(y_test,naive_class_pred)\n",
        "calculateScore(data)\n",
        "df_cm = pd.DataFrame(data, columns=np.unique(y_test), index = np.unique(y_test))\n",
        "df_cm.index.name = 'Actual'\n",
        "df_cm.columns.name = 'Predicted'\n",
        "plt.figure(figsize = (10,7))\n",
        "sns.set(font_scale=1.4)\n",
        "sns.heatmap(df_cm, cmap=\"Blues\", annot=True,annot_kws={\"size\": 16})"
      ],
      "metadata": {
        "colab": {
          "base_uri": "https://localhost:8080/",
          "height": 235
        },
        "id": "tgtuCb1aSeqW",
        "outputId": "5fc5aeaa-4b5b-42bc-d431-a0df7406d6a4"
      },
      "execution_count": null,
      "outputs": [
        {
          "output_type": "error",
          "ename": "NameError",
          "evalue": "ignored",
          "traceback": [
            "\u001b[0;31m---------------------------------------------------------------------------\u001b[0m",
            "\u001b[0;31mNameError\u001b[0m                                 Traceback (most recent call last)",
            "\u001b[0;32m<ipython-input-70-0343b97483e0>\u001b[0m in \u001b[0;36m<module>\u001b[0;34m\u001b[0m\n\u001b[1;32m      1\u001b[0m \u001b[0mdata\u001b[0m \u001b[0;34m=\u001b[0m \u001b[0mconfusion_matrix\u001b[0m\u001b[0;34m(\u001b[0m\u001b[0my_test\u001b[0m\u001b[0;34m,\u001b[0m\u001b[0mnaive_class_pred\u001b[0m\u001b[0;34m)\u001b[0m\u001b[0;34m\u001b[0m\u001b[0;34m\u001b[0m\u001b[0m\n\u001b[0;32m----> 2\u001b[0;31m \u001b[0mcalculateScore\u001b[0m\u001b[0;34m(\u001b[0m\u001b[0mdata\u001b[0m\u001b[0;34m)\u001b[0m\u001b[0;34m\u001b[0m\u001b[0;34m\u001b[0m\u001b[0m\n\u001b[0m\u001b[1;32m      3\u001b[0m \u001b[0mdf_cm\u001b[0m \u001b[0;34m=\u001b[0m \u001b[0mpd\u001b[0m\u001b[0;34m.\u001b[0m\u001b[0mDataFrame\u001b[0m\u001b[0;34m(\u001b[0m\u001b[0mdata\u001b[0m\u001b[0;34m,\u001b[0m \u001b[0mcolumns\u001b[0m\u001b[0;34m=\u001b[0m\u001b[0mnp\u001b[0m\u001b[0;34m.\u001b[0m\u001b[0munique\u001b[0m\u001b[0;34m(\u001b[0m\u001b[0my_test\u001b[0m\u001b[0;34m)\u001b[0m\u001b[0;34m,\u001b[0m \u001b[0mindex\u001b[0m \u001b[0;34m=\u001b[0m \u001b[0mnp\u001b[0m\u001b[0;34m.\u001b[0m\u001b[0munique\u001b[0m\u001b[0;34m(\u001b[0m\u001b[0my_test\u001b[0m\u001b[0;34m)\u001b[0m\u001b[0;34m)\u001b[0m\u001b[0;34m\u001b[0m\u001b[0;34m\u001b[0m\u001b[0m\n\u001b[1;32m      4\u001b[0m \u001b[0mdf_cm\u001b[0m\u001b[0;34m.\u001b[0m\u001b[0mindex\u001b[0m\u001b[0;34m.\u001b[0m\u001b[0mname\u001b[0m \u001b[0;34m=\u001b[0m \u001b[0;34m'Actual'\u001b[0m\u001b[0;34m\u001b[0m\u001b[0;34m\u001b[0m\u001b[0m\n\u001b[1;32m      5\u001b[0m \u001b[0mdf_cm\u001b[0m\u001b[0;34m.\u001b[0m\u001b[0mcolumns\u001b[0m\u001b[0;34m.\u001b[0m\u001b[0mname\u001b[0m \u001b[0;34m=\u001b[0m \u001b[0;34m'Predicted'\u001b[0m\u001b[0;34m\u001b[0m\u001b[0;34m\u001b[0m\u001b[0m\n",
            "\u001b[0;31mNameError\u001b[0m: name 'calculateScore' is not defined"
          ]
        }
      ]
    },
    {
      "cell_type": "code",
      "source": [
        "print(classification_report(y_test, naive_class_pred))"
      ],
      "metadata": {
        "colab": {
          "base_uri": "https://localhost:8080/"
        },
        "id": "I7Bcgad-SkHh",
        "outputId": "d9238b7c-d562-4aa1-e5db-b3113989aae6"
      },
      "execution_count": null,
      "outputs": [
        {
          "output_type": "stream",
          "name": "stdout",
          "text": [
            "              precision    recall  f1-score   support\n",
            "\n",
            "           0       0.52      0.95      0.67      5987\n",
            "           1       0.66      0.09      0.17      5907\n",
            "\n",
            "    accuracy                           0.53     11894\n",
            "   macro avg       0.59      0.52      0.42     11894\n",
            "weighted avg       0.59      0.53      0.42     11894\n",
            "\n"
          ]
        }
      ]
    },
    {
      "cell_type": "code",
      "source": [
        "Model.append('Naive')\n",
        "Accuracy.append(accuracy_score(y_test,naive_class_pred))\n",
        "F1Score.append(f1_score(y_test,naive_class_pred,average=None))"
      ],
      "metadata": {
        "colab": {
          "base_uri": "https://localhost:8080/",
          "height": 200
        },
        "id": "tUT3G7k0Sm4a",
        "outputId": "b655bd7a-4dc8-435d-aaa1-f6e7338d0c66"
      },
      "execution_count": null,
      "outputs": [
        {
          "output_type": "error",
          "ename": "AttributeError",
          "evalue": "ignored",
          "traceback": [
            "\u001b[0;31m---------------------------------------------------------------------------\u001b[0m",
            "\u001b[0;31mAttributeError\u001b[0m                            Traceback (most recent call last)",
            "\u001b[0;32m<ipython-input-48-dbc68399c37d>\u001b[0m in \u001b[0;36m<module>\u001b[0;34m\u001b[0m\n\u001b[0;32m----> 1\u001b[0;31m \u001b[0mModel\u001b[0m\u001b[0;34m.\u001b[0m\u001b[0mappend\u001b[0m\u001b[0;34m(\u001b[0m\u001b[0;34m'Naive'\u001b[0m\u001b[0;34m)\u001b[0m\u001b[0;34m\u001b[0m\u001b[0;34m\u001b[0m\u001b[0m\n\u001b[0m\u001b[1;32m      2\u001b[0m \u001b[0mAccuracy\u001b[0m\u001b[0;34m.\u001b[0m\u001b[0mappend\u001b[0m\u001b[0;34m(\u001b[0m\u001b[0maccuracy_score\u001b[0m\u001b[0;34m(\u001b[0m\u001b[0my_test\u001b[0m\u001b[0;34m,\u001b[0m\u001b[0mnaive_class_pred\u001b[0m\u001b[0;34m)\u001b[0m\u001b[0;34m)\u001b[0m\u001b[0;34m\u001b[0m\u001b[0;34m\u001b[0m\u001b[0m\n\u001b[1;32m      3\u001b[0m \u001b[0mF1Score\u001b[0m\u001b[0;34m.\u001b[0m\u001b[0mappend\u001b[0m\u001b[0;34m(\u001b[0m\u001b[0mf1_score\u001b[0m\u001b[0;34m(\u001b[0m\u001b[0my_test\u001b[0m\u001b[0;34m,\u001b[0m\u001b[0mnaive_class_pred\u001b[0m\u001b[0;34m,\u001b[0m\u001b[0maverage\u001b[0m\u001b[0;34m=\u001b[0m\u001b[0;32mNone\u001b[0m\u001b[0;34m)\u001b[0m\u001b[0;34m)\u001b[0m\u001b[0;34m\u001b[0m\u001b[0;34m\u001b[0m\u001b[0m\n",
            "\u001b[0;31mAttributeError\u001b[0m: 'GaussianNB' object has no attribute 'append'"
          ]
        }
      ]
    },
    {
      "cell_type": "markdown",
      "source": [
        "**Hyperparameter Tuning**"
      ],
      "metadata": {
        "id": "3f6NJ1Tiu7T2"
      }
    },
    {
      "cell_type": "code",
      "source": [
        "np.logspace(0,-9, num=10)\n",
        "\n",
        "cv_method = RepeatedStratifiedKFold(n_splits=5,  n_repeats=3, random_state=999)"
      ],
      "metadata": {
        "id": "SbIoBtbkSrnd"
      },
      "execution_count": null,
      "outputs": []
    },
    {
      "cell_type": "code",
      "source": [
        "from sklearn.model_selection import train_test_split,GridSearchCV\n",
        "from sklearn.preprocessing import PowerTransformer\n",
        "params_NB = {'var_smoothing': np.logspace(0,-9, num=100)}\n",
        "\n",
        "gs_NB = GridSearchCV(estimator=model, param_grid=params_NB, cv=cv_method,verbose=1,scoring='accuracy')\n",
        "Data_transformed = PowerTransformer().fit_transform(X_test)\n",
        "gs_NB.fit(Data_transformed, y_test);\n",
        "\n",
        "results_NB = pd.DataFrame(gs_NB.cv_results_['params'])\n",
        "\n",
        "results_NB['test_score'] = gs_NB.cv_results_['mean_test_score']\n",
        "\n",
        "# predict the target on the test dataset\n",
        "predict_test = gs_NB.predict(Data_transformed)\n",
        "# Accuracy Score on test dataset\n",
        "accuracy_test = accuracy_score(y_test,predict_test)\n",
        "print('accuracy_score on test dataset : ', accuracy_test)"
      ],
      "metadata": {
        "id": "W5gBdEbJSzjT"
      },
      "execution_count": null,
      "outputs": []
    },
    {
      "cell_type": "code",
      "source": [
        "#model after tuning\n",
        "naive_class_t=gs_NB\n",
        "naive_class_t.fit(X_train, y_train)\n",
        "naive_class_pred_t = naive_class_t.predict(X_test)"
      ],
      "metadata": {
        "id": "JW7ahXU4S1mG"
      },
      "execution_count": null,
      "outputs": []
    },
    {
      "cell_type": "code",
      "source": [
        "print(accuracy_score(y_test,naive_class_pred_t))\n",
        "print(f1_score(y_test,naive_class_pred_t,average=None))"
      ],
      "metadata": {
        "id": "gcYW1ib8S3rc"
      },
      "execution_count": null,
      "outputs": []
    },
    {
      "cell_type": "code",
      "source": [
        "data = confusion_matrix(y_test,naive_class_pred_t)\n",
        "calculateScore(data)\n",
        "df_cm = pd.DataFrame(data, columns=np.unique(y_test), index = np.unique(y_test))\n",
        "df_cm.index.name = 'Actual'\n",
        "df_cm.columns.name = 'Predicted'\n",
        "plt.figure(figsize = (10,7))\n",
        "sns.set(font_scale=1.4)\n",
        "sns.heatmap(df_cm, cmap=\"Blues\", annot=True,annot_kws={\"size\": 16})"
      ],
      "metadata": {
        "id": "aEhBattCS5gc"
      },
      "execution_count": null,
      "outputs": []
    },
    {
      "cell_type": "code",
      "source": [
        "print(classification_report(y_test, naive_class_pred_t))"
      ],
      "metadata": {
        "id": "DR82a-i-S7Wt"
      },
      "execution_count": null,
      "outputs": []
    },
    {
      "cell_type": "markdown",
      "source": [
        "# **KNN**"
      ],
      "metadata": {
        "id": "0AIhPQRk4Jz-"
      }
    },
    {
      "cell_type": "code",
      "source": [
        "knn = KNeighborsClassifier(n_neighbors=8)\n",
        "knn.fit(X_train, y_train)\n",
        "knn_pred = knn.predict(X_test)"
      ],
      "metadata": {
        "id": "HqrWsKjSS_dN",
        "colab": {
          "base_uri": "https://localhost:8080/",
          "height": 380
        },
        "outputId": "f867b38f-6d83-4f1c-d828-84a1eab82b5c"
      },
      "execution_count": null,
      "outputs": [
        {
          "output_type": "error",
          "ename": "KeyboardInterrupt",
          "evalue": "ignored",
          "traceback": [
            "\u001b[0;31m---------------------------------------------------------------------------\u001b[0m",
            "\u001b[0;31mKeyboardInterrupt\u001b[0m                         Traceback (most recent call last)",
            "\u001b[0;32m<ipython-input-71-7711c36fa0fc>\u001b[0m in \u001b[0;36m<module>\u001b[0;34m\u001b[0m\n\u001b[1;32m      1\u001b[0m \u001b[0mknn\u001b[0m \u001b[0;34m=\u001b[0m \u001b[0mKNeighborsClassifier\u001b[0m\u001b[0;34m(\u001b[0m\u001b[0mn_neighbors\u001b[0m\u001b[0;34m=\u001b[0m\u001b[0;36m8\u001b[0m\u001b[0;34m)\u001b[0m\u001b[0;34m\u001b[0m\u001b[0;34m\u001b[0m\u001b[0m\n\u001b[1;32m      2\u001b[0m \u001b[0mknn\u001b[0m\u001b[0;34m.\u001b[0m\u001b[0mfit\u001b[0m\u001b[0;34m(\u001b[0m\u001b[0mX_train\u001b[0m\u001b[0;34m,\u001b[0m \u001b[0my_train\u001b[0m\u001b[0;34m)\u001b[0m\u001b[0;34m\u001b[0m\u001b[0;34m\u001b[0m\u001b[0m\n\u001b[0;32m----> 3\u001b[0;31m \u001b[0mknn_pred\u001b[0m \u001b[0;34m=\u001b[0m \u001b[0mknn\u001b[0m\u001b[0;34m.\u001b[0m\u001b[0mpredict\u001b[0m\u001b[0;34m(\u001b[0m\u001b[0mX_test\u001b[0m\u001b[0;34m)\u001b[0m\u001b[0;34m\u001b[0m\u001b[0;34m\u001b[0m\u001b[0m\n\u001b[0m",
            "\u001b[0;32m/usr/local/lib/python3.7/dist-packages/sklearn/neighbors/_classification.py\u001b[0m in \u001b[0;36mpredict\u001b[0;34m(self, X)\u001b[0m\n\u001b[1;32m    212\u001b[0m             \u001b[0mClass\u001b[0m \u001b[0mlabels\u001b[0m \u001b[0;32mfor\u001b[0m \u001b[0meach\u001b[0m \u001b[0mdata\u001b[0m \u001b[0msample\u001b[0m\u001b[0;34m.\u001b[0m\u001b[0;34m\u001b[0m\u001b[0;34m\u001b[0m\u001b[0m\n\u001b[1;32m    213\u001b[0m         \"\"\"\n\u001b[0;32m--> 214\u001b[0;31m         \u001b[0mneigh_dist\u001b[0m\u001b[0;34m,\u001b[0m \u001b[0mneigh_ind\u001b[0m \u001b[0;34m=\u001b[0m \u001b[0mself\u001b[0m\u001b[0;34m.\u001b[0m\u001b[0mkneighbors\u001b[0m\u001b[0;34m(\u001b[0m\u001b[0mX\u001b[0m\u001b[0;34m)\u001b[0m\u001b[0;34m\u001b[0m\u001b[0;34m\u001b[0m\u001b[0m\n\u001b[0m\u001b[1;32m    215\u001b[0m         \u001b[0mclasses_\u001b[0m \u001b[0;34m=\u001b[0m \u001b[0mself\u001b[0m\u001b[0;34m.\u001b[0m\u001b[0mclasses_\u001b[0m\u001b[0;34m\u001b[0m\u001b[0;34m\u001b[0m\u001b[0m\n\u001b[1;32m    216\u001b[0m         \u001b[0m_y\u001b[0m \u001b[0;34m=\u001b[0m \u001b[0mself\u001b[0m\u001b[0;34m.\u001b[0m\u001b[0m_y\u001b[0m\u001b[0;34m\u001b[0m\u001b[0;34m\u001b[0m\u001b[0m\n",
            "\u001b[0;32m/usr/local/lib/python3.7/dist-packages/sklearn/neighbors/_base.py\u001b[0m in \u001b[0;36mkneighbors\u001b[0;34m(self, X, n_neighbors, return_distance)\u001b[0m\n\u001b[1;32m    757\u001b[0m                     \u001b[0mmetric\u001b[0m\u001b[0;34m=\u001b[0m\u001b[0mself\u001b[0m\u001b[0;34m.\u001b[0m\u001b[0meffective_metric_\u001b[0m\u001b[0;34m,\u001b[0m\u001b[0;34m\u001b[0m\u001b[0;34m\u001b[0m\u001b[0m\n\u001b[1;32m    758\u001b[0m                     \u001b[0mn_jobs\u001b[0m\u001b[0;34m=\u001b[0m\u001b[0mn_jobs\u001b[0m\u001b[0;34m,\u001b[0m\u001b[0;34m\u001b[0m\u001b[0;34m\u001b[0m\u001b[0m\n\u001b[0;32m--> 759\u001b[0;31m                     \u001b[0;34m**\u001b[0m\u001b[0mkwds\u001b[0m\u001b[0;34m,\u001b[0m\u001b[0;34m\u001b[0m\u001b[0;34m\u001b[0m\u001b[0m\n\u001b[0m\u001b[1;32m    760\u001b[0m                 )\n\u001b[1;32m    761\u001b[0m             )\n",
            "\u001b[0;32m/usr/local/lib/python3.7/dist-packages/sklearn/metrics/pairwise.py\u001b[0m in \u001b[0;36mpairwise_distances_chunked\u001b[0;34m(X, Y, reduce_func, metric, n_jobs, working_memory, **kwds)\u001b[0m\n\u001b[1;32m   1724\u001b[0m         \u001b[0;32mif\u001b[0m \u001b[0mreduce_func\u001b[0m \u001b[0;32mis\u001b[0m \u001b[0;32mnot\u001b[0m \u001b[0;32mNone\u001b[0m\u001b[0;34m:\u001b[0m\u001b[0;34m\u001b[0m\u001b[0;34m\u001b[0m\u001b[0m\n\u001b[1;32m   1725\u001b[0m             \u001b[0mchunk_size\u001b[0m \u001b[0;34m=\u001b[0m \u001b[0mD_chunk\u001b[0m\u001b[0;34m.\u001b[0m\u001b[0mshape\u001b[0m\u001b[0;34m[\u001b[0m\u001b[0;36m0\u001b[0m\u001b[0;34m]\u001b[0m\u001b[0;34m\u001b[0m\u001b[0;34m\u001b[0m\u001b[0m\n\u001b[0;32m-> 1726\u001b[0;31m             \u001b[0mD_chunk\u001b[0m \u001b[0;34m=\u001b[0m \u001b[0mreduce_func\u001b[0m\u001b[0;34m(\u001b[0m\u001b[0mD_chunk\u001b[0m\u001b[0;34m,\u001b[0m \u001b[0msl\u001b[0m\u001b[0;34m.\u001b[0m\u001b[0mstart\u001b[0m\u001b[0;34m)\u001b[0m\u001b[0;34m\u001b[0m\u001b[0;34m\u001b[0m\u001b[0m\n\u001b[0m\u001b[1;32m   1727\u001b[0m             \u001b[0m_check_chunk_size\u001b[0m\u001b[0;34m(\u001b[0m\u001b[0mD_chunk\u001b[0m\u001b[0;34m,\u001b[0m \u001b[0mchunk_size\u001b[0m\u001b[0;34m)\u001b[0m\u001b[0;34m\u001b[0m\u001b[0;34m\u001b[0m\u001b[0m\n\u001b[1;32m   1728\u001b[0m         \u001b[0;32myield\u001b[0m \u001b[0mD_chunk\u001b[0m\u001b[0;34m\u001b[0m\u001b[0;34m\u001b[0m\u001b[0m\n",
            "\u001b[0;32m/usr/local/lib/python3.7/dist-packages/sklearn/neighbors/_base.py\u001b[0m in \u001b[0;36m_kneighbors_reduce_func\u001b[0;34m(self, dist, start, n_neighbors, return_distance)\u001b[0m\n\u001b[1;32m    632\u001b[0m         \"\"\"\n\u001b[1;32m    633\u001b[0m         \u001b[0msample_range\u001b[0m \u001b[0;34m=\u001b[0m \u001b[0mnp\u001b[0m\u001b[0;34m.\u001b[0m\u001b[0marange\u001b[0m\u001b[0;34m(\u001b[0m\u001b[0mdist\u001b[0m\u001b[0;34m.\u001b[0m\u001b[0mshape\u001b[0m\u001b[0;34m[\u001b[0m\u001b[0;36m0\u001b[0m\u001b[0;34m]\u001b[0m\u001b[0;34m)\u001b[0m\u001b[0;34m[\u001b[0m\u001b[0;34m:\u001b[0m\u001b[0;34m,\u001b[0m \u001b[0;32mNone\u001b[0m\u001b[0;34m]\u001b[0m\u001b[0;34m\u001b[0m\u001b[0;34m\u001b[0m\u001b[0m\n\u001b[0;32m--> 634\u001b[0;31m         \u001b[0mneigh_ind\u001b[0m \u001b[0;34m=\u001b[0m \u001b[0mnp\u001b[0m\u001b[0;34m.\u001b[0m\u001b[0margpartition\u001b[0m\u001b[0;34m(\u001b[0m\u001b[0mdist\u001b[0m\u001b[0;34m,\u001b[0m \u001b[0mn_neighbors\u001b[0m \u001b[0;34m-\u001b[0m \u001b[0;36m1\u001b[0m\u001b[0;34m,\u001b[0m \u001b[0maxis\u001b[0m\u001b[0;34m=\u001b[0m\u001b[0;36m1\u001b[0m\u001b[0;34m)\u001b[0m\u001b[0;34m\u001b[0m\u001b[0;34m\u001b[0m\u001b[0m\n\u001b[0m\u001b[1;32m    635\u001b[0m         \u001b[0mneigh_ind\u001b[0m \u001b[0;34m=\u001b[0m \u001b[0mneigh_ind\u001b[0m\u001b[0;34m[\u001b[0m\u001b[0;34m:\u001b[0m\u001b[0;34m,\u001b[0m \u001b[0;34m:\u001b[0m\u001b[0mn_neighbors\u001b[0m\u001b[0;34m]\u001b[0m\u001b[0;34m\u001b[0m\u001b[0;34m\u001b[0m\u001b[0m\n\u001b[1;32m    636\u001b[0m         \u001b[0;31m# argpartition doesn't guarantee sorted order, so we sort again\u001b[0m\u001b[0;34m\u001b[0m\u001b[0;34m\u001b[0m\u001b[0;34m\u001b[0m\u001b[0m\n",
            "\u001b[0;32m<__array_function__ internals>\u001b[0m in \u001b[0;36margpartition\u001b[0;34m(*args, **kwargs)\u001b[0m\n",
            "\u001b[0;32m/usr/local/lib/python3.7/dist-packages/numpy/core/fromnumeric.py\u001b[0m in \u001b[0;36margpartition\u001b[0;34m(a, kth, axis, kind, order)\u001b[0m\n\u001b[1;32m    837\u001b[0m \u001b[0;34m\u001b[0m\u001b[0m\n\u001b[1;32m    838\u001b[0m     \"\"\"\n\u001b[0;32m--> 839\u001b[0;31m     \u001b[0;32mreturn\u001b[0m \u001b[0m_wrapfunc\u001b[0m\u001b[0;34m(\u001b[0m\u001b[0ma\u001b[0m\u001b[0;34m,\u001b[0m \u001b[0;34m'argpartition'\u001b[0m\u001b[0;34m,\u001b[0m \u001b[0mkth\u001b[0m\u001b[0;34m,\u001b[0m \u001b[0maxis\u001b[0m\u001b[0;34m=\u001b[0m\u001b[0maxis\u001b[0m\u001b[0;34m,\u001b[0m \u001b[0mkind\u001b[0m\u001b[0;34m=\u001b[0m\u001b[0mkind\u001b[0m\u001b[0;34m,\u001b[0m \u001b[0morder\u001b[0m\u001b[0;34m=\u001b[0m\u001b[0morder\u001b[0m\u001b[0;34m)\u001b[0m\u001b[0;34m\u001b[0m\u001b[0;34m\u001b[0m\u001b[0m\n\u001b[0m\u001b[1;32m    840\u001b[0m \u001b[0;34m\u001b[0m\u001b[0m\n\u001b[1;32m    841\u001b[0m \u001b[0;34m\u001b[0m\u001b[0m\n",
            "\u001b[0;32m/usr/local/lib/python3.7/dist-packages/numpy/core/fromnumeric.py\u001b[0m in \u001b[0;36m_wrapfunc\u001b[0;34m(obj, method, *args, **kwds)\u001b[0m\n\u001b[1;32m     55\u001b[0m \u001b[0;34m\u001b[0m\u001b[0m\n\u001b[1;32m     56\u001b[0m     \u001b[0;32mtry\u001b[0m\u001b[0;34m:\u001b[0m\u001b[0;34m\u001b[0m\u001b[0;34m\u001b[0m\u001b[0m\n\u001b[0;32m---> 57\u001b[0;31m         \u001b[0;32mreturn\u001b[0m \u001b[0mbound\u001b[0m\u001b[0;34m(\u001b[0m\u001b[0;34m*\u001b[0m\u001b[0margs\u001b[0m\u001b[0;34m,\u001b[0m \u001b[0;34m**\u001b[0m\u001b[0mkwds\u001b[0m\u001b[0;34m)\u001b[0m\u001b[0;34m\u001b[0m\u001b[0;34m\u001b[0m\u001b[0m\n\u001b[0m\u001b[1;32m     58\u001b[0m     \u001b[0;32mexcept\u001b[0m \u001b[0mTypeError\u001b[0m\u001b[0;34m:\u001b[0m\u001b[0;34m\u001b[0m\u001b[0;34m\u001b[0m\u001b[0m\n\u001b[1;32m     59\u001b[0m         \u001b[0;31m# A TypeError occurs if the object does have such a method in its\u001b[0m\u001b[0;34m\u001b[0m\u001b[0;34m\u001b[0m\u001b[0;34m\u001b[0m\u001b[0m\n",
            "\u001b[0;31mKeyboardInterrupt\u001b[0m: "
          ]
        }
      ]
    },
    {
      "cell_type": "code",
      "source": [
        "print(accuracy_score(y_test,knn_pred))\n",
        "print(f1_score(y_test,knn_pred,average=None))"
      ],
      "metadata": {
        "id": "zIv0RTawTBLX"
      },
      "execution_count": null,
      "outputs": []
    },
    {
      "cell_type": "code",
      "source": [
        "data = confusion_matrix(y_test,knn_pred)\n",
        "calculateScore(data)\n",
        "df_cm = pd.DataFrame(data, columns=np.unique(y_test), index = np.unique(y_test))\n",
        "df_cm.index.name = 'Actual'\n",
        "df_cm.columns.name = 'Predicted'\n",
        "plt.figure(figsize = (10,7))\n",
        "sns.set(font_scale=1.4)\n",
        "sns.heatmap(df_cm, cmap=\"Blues\", annot=True,annot_kws={\"size\": 16})"
      ],
      "metadata": {
        "id": "3jLGSWt5TDoY"
      },
      "execution_count": null,
      "outputs": []
    },
    {
      "cell_type": "code",
      "source": [
        "print(classification_report(y_test, knn_pred))"
      ],
      "metadata": {
        "id": "_Cl9vkHSTEMf"
      },
      "execution_count": null,
      "outputs": []
    },
    {
      "cell_type": "code",
      "source": [
        "Model.append('KNN')\n",
        "Accuracy.append(accuracy_score(y_test,knn_pred))\n",
        "F1Score.append(f1_score(y_test,knn_pred,average=None))"
      ],
      "metadata": {
        "id": "G8dZxQQvTHId"
      },
      "execution_count": null,
      "outputs": []
    },
    {
      "cell_type": "markdown",
      "source": [
        "**Hyperparameter tunning**"
      ],
      "metadata": {
        "id": "o-0Miw8X5AWh"
      }
    },
    {
      "cell_type": "code",
      "source": [
        "grid_params = { 'n_neighbors' : [5,7,9,11,13,15],\n",
        "               'weights' : ['uniform','distance'],\n",
        "               'metric' : ['minkowski','euclidean','manhattan']}"
      ],
      "metadata": {
        "id": "c52M1__zTLP5"
      },
      "execution_count": null,
      "outputs": []
    },
    {
      "cell_type": "code",
      "source": [
        "gs = GridSearchCV(KNeighborsClassifier(), grid_params, verbose = 1, cv=3, n_jobs = -1)"
      ],
      "metadata": {
        "id": "aYDkw19mTM9m"
      },
      "execution_count": null,
      "outputs": []
    },
    {
      "cell_type": "code",
      "source": [
        "# fit the model on our train set\n",
        "g_res = gs.fit(X_train, y_train)"
      ],
      "metadata": {
        "id": "7GMd90MMTOT4"
      },
      "execution_count": null,
      "outputs": []
    },
    {
      "cell_type": "code",
      "source": [
        "# find the best score\n",
        "g_res.best_score_"
      ],
      "metadata": {
        "id": "_kRf-qvnTQbg"
      },
      "execution_count": null,
      "outputs": []
    },
    {
      "cell_type": "code",
      "source": [
        "# get the hyperparameters with the best score\n",
        "g_res.best_params_"
      ],
      "metadata": {
        "id": "LNRviMuJTShX"
      },
      "execution_count": null,
      "outputs": []
    },
    {
      "cell_type": "code",
      "source": [
        "# use the best hyperparameters\n",
        "knn = KNeighborsClassifier(n_neighbors = 5, weights = 'uniform',algorithm = 'brute',metric = 'minkowski')\n",
        "knn.fit(X_train, y_train)"
      ],
      "metadata": {
        "id": "0zZ9fiAwTT6W"
      },
      "execution_count": null,
      "outputs": []
    },
    {
      "cell_type": "code",
      "source": [
        "# get a prediction\n",
        "y_hat = knn.predict(X_train)\n",
        "y_knn = knn.predict(X_test)"
      ],
      "metadata": {
        "id": "9_ZpOgM6TVfS"
      },
      "execution_count": null,
      "outputs": []
    },
    {
      "cell_type": "code",
      "source": [
        "#Model after tuning\n",
        "knn = KNeighborsClassifier(n_neighbors=8)\n",
        "knn.fit(X_train, y_train)\n",
        "knn_pred = knn.predict(X_test)"
      ],
      "metadata": {
        "id": "YOU9-r-zTXXB"
      },
      "execution_count": null,
      "outputs": []
    },
    {
      "cell_type": "code",
      "source": [
        "print(accuracy_score(y_test,y_knn))\n",
        "print(f1_score(y_test,y_knn,average=None))"
      ],
      "metadata": {
        "id": "IbdVseAaTZB-"
      },
      "execution_count": null,
      "outputs": []
    },
    {
      "cell_type": "code",
      "source": [
        "data = confusion_matrix(y_test,y_knn)\n",
        "calculateScore(data)\n",
        "df_cm = pd.DataFrame(data, columns=np.unique(y_test), index = np.unique(y_test))\n",
        "df_cm.index.name = 'Actual'\n",
        "df_cm.columns.name = 'Predicted'\n",
        "plt.figure(figsize = (10,7))\n",
        "sns.set(font_scale=1.4)\n",
        "sns.heatmap(df_cm, cmap=\"Blues\", annot=True,annot_kws={\"size\": 16})"
      ],
      "metadata": {
        "id": "UrsDELrdTbam"
      },
      "execution_count": null,
      "outputs": []
    },
    {
      "cell_type": "code",
      "source": [
        "print(classification_report(y_test, knn_pred))"
      ],
      "metadata": {
        "id": "JRB1kWxDTdes"
      },
      "execution_count": null,
      "outputs": []
    }
  ]
}